{
 "cells": [
  {
   "cell_type": "code",
   "execution_count": 1,
   "id": "9be1274d",
   "metadata": {},
   "outputs": [
    {
     "data": {
      "application/vnd.plotly.v1+json": {
       "config": {
        "plotlyServerURL": "https://plot.ly"
       },
       "data": [
        {
         "customdata": [
          [
           "Baseline",
           35.31372,
           11.689512
          ]
         ],
         "hovertemplate": "<b>%{hovertext}</b><br><br>Optimization_Category=Baseline<br>Base_Model_Arch=ResNet18<br>Model_Size_MB_Disk=%{x:.2f} MB}<br>Top_1_Acc_Percent=%{y:.2f}%}<br>params_millions=%{customdata[2]:.2f}M}<br>Specific_Technique=%{customdata[0]}<br>Inference_Time_ms_CPU=%{customdata[1]:.2f} ms}<extra></extra>",
         "hovertext": [
          "resnet18_baseline"
         ],
         "legendgroup": "Baseline, ResNet18",
         "marker": {
          "color": "#636efa",
          "line": {
           "color": "White",
           "width": 1
          },
          "size": {
           "bdata": "LGaEtwdhJ0A=",
           "dtype": "f8"
          },
          "sizemode": "area",
          "sizeref": 0.06389258,
          "symbol": "circle"
         },
         "mode": "markers",
         "name": "Baseline, ResNet18",
         "orientation": "v",
         "showlegend": true,
         "type": "scatter",
         "x": {
          "bdata": "IQclzLRVRkA=",
          "dtype": "f8"
         },
         "xaxis": "x",
         "y": {
          "bdata": "ECUYemsLSUA=",
          "dtype": "f8"
         },
         "yaxis": "y"
        },
        {
         "customdata": [
          [
           "Baseline",
           88.06,
           25.557032
          ]
         ],
         "hovertemplate": "<b>%{hovertext}</b><br><br>Optimization_Category=Baseline<br>Base_Model_Arch=ResNet50<br>Model_Size_MB_Disk=%{x:.2f} MB}<br>Top_1_Acc_Percent=%{y:.2f}%}<br>params_millions=%{customdata[2]:.2f}M}<br>Specific_Technique=%{customdata[0]}<br>Inference_Time_ms_CPU=%{customdata[1]:.2f} ms}<extra></extra>",
         "hovertext": [
          "resnet50_baseline"
         ],
         "legendgroup": "Baseline, ResNet50",
         "marker": {
          "color": "#636efa",
          "line": {
           "color": "White",
           "width": 1
          },
          "size": {
           "bdata": "UtMuppmOOUA=",
           "dtype": "f8"
          },
          "sizemode": "area",
          "sizeref": 0.06389258,
          "symbol": "diamond"
         },
         "mode": "markers",
         "name": "Baseline, ResNet50",
         "orientation": "v",
         "showlegend": true,
         "type": "scatter",
         "x": {
          "bdata": "ZcIv9fNyWEA=",
          "dtype": "f8"
         },
         "xaxis": "x",
         "y": {
          "bdata": "2LNUmtE8UEA=",
          "dtype": "f8"
         },
         "yaxis": "y"
        },
        {
         "customdata": [
          [
           "KMeans Quant",
           37.22856,
           11.689512
          ],
          [
           "PTQ INT8 (Per-Channel)",
           19.01976,
           0
          ],
          [
           "PTQ INT8 (Per-Tensor)",
           18.31738,
           0
          ],
          [
           "QAT INT8",
           17.96892,
           0
          ],
          [
           "Distillation + TensorRT FP16",
           null,
           11.689512
          ],
          [
           "Distillation + TensorRT FP32",
           null,
           11.689512
          ]
         ],
         "hovertemplate": "<b>%{hovertext}</b><br><br>Optimization_Category=Combined<br>Base_Model_Arch=ResNet18<br>Model_Size_MB_Disk=%{x:.2f} MB}<br>Top_1_Acc_Percent=%{y:.2f}%}<br>params_millions=%{customdata[2]:.2f}M}<br>Specific_Technique=%{customdata[0]}<br>Inference_Time_ms_CPU=%{customdata[1]:.2f} ms}<extra></extra>",
         "hovertext": [
          "resnet18pretrained_distilled_quant_kmeans_256clusters_post",
          "resnet18pretrained_distilled_quant_ptq_int8_perchannel_post",
          "resnet18pretrained_distilled_quant_ptq_int8_pertensor_post",
          "resnet18pretrained_distilled_quant_qat_int8_epochs8",
          "resnet18_distilled_trt_fp16",
          "resnet18_distilled_trt_fp32"
         ],
         "legendgroup": "Combined, ResNet18",
         "marker": {
          "color": "#EF553B",
          "line": {
           "color": "White",
           "width": 1
          },
          "size": {
           "bdata": "LGaEtwdhJ0AAAAAAAAAAAAAAAAAAAAAAAAAAAAAAAAAsZoS3B2EnQCxmhLcHYSdA",
           "dtype": "f8"
          },
          "sizemode": "area",
          "sizeref": 0.06389258,
          "symbol": "circle"
         },
         "mode": "markers",
         "name": "Combined, ResNet18",
         "orientation": "v",
         "showlegend": true,
         "type": "scatter",
         "x": {
          "bdata": "4dHGEWtVRkC05VyKq5omQNLj9zb9mSZAt39lpUmZJkCF61G4HgU/QHE9CtejAFhA",
          "dtype": "f8"
         },
         "xaxis": "x",
         "y": {
          "bdata": "kIxS1XnXSkC3sGQDhGNJQC6VZjQPrUpAL3wLcCnHSkBeukkMAutKQBWuR+F65EpA",
          "dtype": "f8"
         },
         "yaxis": "y"
        },
        {
         "customdata": [
          [
           "Knowledge Distillation",
           37.01086,
           11.689512
          ],
          [
           "Knowledge Distillation",
           36.0253,
           11.689512
          ]
         ],
         "hovertemplate": "<b>%{hovertext}</b><br><br>Optimization_Category=Knowledge Distillation<br>Base_Model_Arch=ResNet18<br>Model_Size_MB_Disk=%{x:.2f} MB}<br>Top_1_Acc_Percent=%{y:.2f}%}<br>params_millions=%{customdata[2]:.2f}M}<br>Specific_Technique=%{customdata[0]}<br>Inference_Time_ms_CPU=%{customdata[1]:.2f} ms}<extra></extra>",
         "hovertext": [
          "resnet50_to_resnet18pretrained_kd",
          "resnet50_to_resnet18scratch_kd"
         ],
         "legendgroup": "Knowledge Distillation, ResNet18",
         "marker": {
          "color": "#00cc96",
          "line": {
           "color": "White",
           "width": 1
          },
          "size": {
           "bdata": "LGaEtwdhJ0AsZoS3B2EnQA==",
           "dtype": "f8"
          },
          "sizemode": "area",
          "sizeref": 0.06389258,
          "symbol": "circle"
         },
         "mode": "markers",
         "name": "Knowledge Distillation, ResNet18",
         "orientation": "v",
         "showlegend": true,
         "type": "scatter",
         "x": {
          "bdata": "y2d5HtxVRkDLZ3ke3FVGQA==",
          "dtype": "f8"
         },
         "xaxis": "x",
         "y": {
          "bdata": "8ZyZOsrnSkAxHHBOuqMxQA==",
          "dtype": "f8"
         },
         "yaxis": "y"
        },
        {
         "customdata": [
          [
           "N:M Sparsity",
           89.32968,
           25.557032
          ],
          [
           "Iterative Structured Pruning (L1 Filter)",
           57.95676,
           12.935549
          ],
          [
           "Iterative Structured Pruning (L1 Filter)",
           37.59312,
           6.626072
          ],
          [
           "Iterative Structured Pruning (L1 Filter)",
           24.75034,
           2.630579
          ],
          [
           "One-Shot Structured Pruning (L1 Filter)",
           56.12866,
           12.935549
          ],
          [
           "One-Shot Structured Pruning (L1 Filter)",
           35.38324,
           5.678189
          ],
          [
           "One-Shot Structured Pruning (L1 Filter)",
           25.03054,
           2.724022
          ],
          [
           "Iterative Unstructured Pruning (L1)",
           88.04078,
           25.557032
          ],
          [
           "Iterative Unstructured Pruning (L1)",
           86.65992,
           25.557032
          ],
          [
           "Iterative Unstructured Pruning (L1)",
           94.6228,
           25.557032
          ],
          [
           "One-Shot Unstructured Pruning (L1)",
           90.80236,
           25.557032
          ],
          [
           "One-Shot Unstructured Pruning (L1)",
           103.8233,
           25.557032
          ],
          [
           "One-Shot Unstructured Pruning (L1)",
           89.49998,
           25.557032
          ]
         ],
         "hovertemplate": "<b>%{hovertext}</b><br><br>Optimization_Category=Pruning<br>Base_Model_Arch=ResNet50<br>Model_Size_MB_Disk=%{x:.2f} MB}<br>Top_1_Acc_Percent=%{y:.2f}%}<br>params_millions=%{customdata[2]:.2f}M}<br>Specific_Technique=%{customdata[0]}<br>Inference_Time_ms_CPU=%{customdata[1]:.2f} ms}<extra></extra>",
         "hovertext": [
          "resnet50_prune_nm24_ft",
          "resnet50_prune_struct_it_l1filter_stage1_approx_sp50_ft",
          "resnet50_prune_struct_it_l1filter_stage2_approx_sp75_ft",
          "resnet50_prune_struct_it_l1filter_stage3_approx_sp90_ft",
          "resnet50_prune_struct_os_l1filter_fp30_ft",
          "resnet50_prune_struct_os_l1filter_fp55_ft",
          "resnet50_prune_struct_os_l1filter_fp70_ft",
          "resnet50_prune_unstruct_it_l1_stage1_sp50_ft",
          "resnet50_prune_unstruct_it_l1_stage2_sp75_ft",
          "resnet50_prune_unstruct_it_l1_stage3_sp90_ft",
          "resnet50_prune_unstruct_os_l1_sp50_ft",
          "resnet50_prune_unstruct_os_l1_sp75_ft",
          "resnet50_prune_unstruct_os_l1_sp90_ft"
         ],
         "legendgroup": "Pruning, ResNet50",
         "marker": {
          "color": "#ab63fa",
          "line": {
           "color": "White",
           "width": 1
          },
          "size": {
           "bdata": "UtMuppmOOUBrnE1HAN8pQOfDswQZgRpA5lq0AG0LBUBrnE1HAN8pQBwHXi13thZAFa3cC8zKBUBS0y6mmY45QFLTLqaZjjlAUtMuppmOOUBS0y6mmY45QFLTLqaZjjlAUtMuppmOOUA=",
           "dtype": "f8"
          },
          "sizemode": "area",
          "sizeref": 0.06389258,
          "symbol": "diamond"
         },
         "mode": "markers",
         "name": "Pruning, ResNet50",
         "orientation": "v",
         "showlegend": true,
         "type": "scatter",
         "x": {
          "bdata": "jBAebRxzWECazk4GR81IQDygbMoVfjlAXCBB8WNsJEDxY8xdS8xIQCOhLedS3DVAHuG04EUfJUDmIr4Ts3JYQOYivhOzclhAVpqUgm5zWEAvo1huaXNYQC+jWG5pc1hAL6NYbmlzWEA=",
          "dtype": "f8"
         },
         "xaxis": "x",
         "y": {
          "bdata": "BW6uVcUQUEDPd1zN1/dIQILx6SX50j1AjiebZS0nKkA55ujVxmNLQJLvCgYvEzZAhyFKMPTWFkBvcBo9nYNQQIhs1idG+U5Akr3dHl0/R0Cvx0RWEp1QQBsgHEtbM09ASZmBCkXqREA=",
          "dtype": "f8"
         },
         "yaxis": "y"
        },
        {
         "customdata": [
          [
           "KMeans Quant",
           89.61634,
           25.557032
          ],
          [
           "PTQ INT8 (Per-Channel)",
           44.42032,
           0
          ],
          [
           "PTQ INT8 (Per-Tensor)",
           41.93892,
           0
          ],
          [
           "QAT INT8",
           42.46538,
           0
          ]
         ],
         "hovertemplate": "<b>%{hovertext}</b><br><br>Optimization_Category=Quantization<br>Base_Model_Arch=ResNet50<br>Model_Size_MB_Disk=%{x:.2f} MB}<br>Top_1_Acc_Percent=%{y:.2f}%}<br>params_millions=%{customdata[2]:.2f}M}<br>Specific_Technique=%{customdata[0]}<br>Inference_Time_ms_CPU=%{customdata[1]:.2f} ms}<extra></extra>",
         "hovertext": [
          "resnet50_quant_kmeans_256clusters_post",
          "resnet50_quant_ptq_int8_perchannel_post",
          "resnet50_quant_ptq_int8_pertensor_post",
          "resnet50_quant_qat_int8_epochs8"
         ],
         "legendgroup": "Quantization, ResNet50",
         "marker": {
          "color": "#FFA15A",
          "line": {
           "color": "White",
           "width": 1
          },
          "size": {
           "bdata": "UtMuppmOOUAAAAAAAAAAAAAAAAAAAAAAAAAAAAAAAAA=",
           "dtype": "f8"
          },
          "sizemode": "area",
          "sizeref": 0.06389258,
          "symbol": "diamond"
         },
         "mode": "markers",
         "name": "Quantization, ResNet50",
         "orientation": "v",
         "showlegend": true,
         "type": "scatter",
         "x": {
          "bdata": "7dgIxOtyWEBFuwopP/E4QHFa8KKv8DhAq+y7IvjvOEA=",
          "dtype": "f8"
         },
         "xaxis": "x",
         "y": {
          "bdata": "aWWa9i87UEBsEZeXv1hOQEkCDz5zPlBA7o1bx4uWUEA=",
          "dtype": "f8"
         },
         "yaxis": "y"
        },
        {
         "customdata": [
          [
           "TensorRT FP16",
           null,
           25.557032
          ],
          [
           "TensorRT FP32",
           null,
           25.557032
          ]
         ],
         "hovertemplate": "<b>%{hovertext}</b><br><br>Optimization_Category=TensorRT<br>Base_Model_Arch=ResNet50<br>Model_Size_MB_Disk=%{x:.2f} MB}<br>Top_1_Acc_Percent=%{y:.2f}%}<br>params_millions=%{customdata[2]:.2f}M}<br>Specific_Technique=%{customdata[0]}<br>Inference_Time_ms_CPU=%{customdata[1]:.2f} ms}<extra></extra>",
         "hovertext": [
          "resnet50_trt_fp16",
          "resnet50_trt_fp32"
         ],
         "legendgroup": "TensorRT, ResNet50",
         "marker": {
          "color": "#19d3f3",
          "line": {
           "color": "White",
           "width": 1
          },
          "size": {
           "bdata": "UtMuppmOOUBS0y6mmY45QA==",
           "dtype": "f8"
          },
          "sizemode": "area",
          "sizeref": 0.06389258,
          "symbol": "diamond"
         },
         "mode": "markers",
         "name": "TensorRT, ResNet50",
         "orientation": "v",
         "showlegend": true,
         "type": "scatter",
         "x": {
          "bdata": "uB6F61HYUEBmZmZmZkZkQA==",
          "dtype": "f8"
         },
         "xaxis": "x",
         "y": {
          "bdata": "MzMzMzNDUEB7FK5H4TpQQA==",
          "dtype": "f8"
         },
         "yaxis": "y"
        }
       ],
       "layout": {
        "font": {
         "family": "Arial, sans-serif",
         "size": 12
        },
        "legend": {
         "itemsizing": "constant",
         "title": {
          "text": "Optimization Category"
         },
         "tracegroupgap": 0
        },
        "template": {
         "data": {
          "bar": [
           {
            "error_x": {
             "color": "#f2f5fa"
            },
            "error_y": {
             "color": "#f2f5fa"
            },
            "marker": {
             "line": {
              "color": "rgb(17,17,17)",
              "width": 0.5
             },
             "pattern": {
              "fillmode": "overlay",
              "size": 10,
              "solidity": 0.2
             }
            },
            "type": "bar"
           }
          ],
          "barpolar": [
           {
            "marker": {
             "line": {
              "color": "rgb(17,17,17)",
              "width": 0.5
             },
             "pattern": {
              "fillmode": "overlay",
              "size": 10,
              "solidity": 0.2
             }
            },
            "type": "barpolar"
           }
          ],
          "carpet": [
           {
            "aaxis": {
             "endlinecolor": "#A2B1C6",
             "gridcolor": "#506784",
             "linecolor": "#506784",
             "minorgridcolor": "#506784",
             "startlinecolor": "#A2B1C6"
            },
            "baxis": {
             "endlinecolor": "#A2B1C6",
             "gridcolor": "#506784",
             "linecolor": "#506784",
             "minorgridcolor": "#506784",
             "startlinecolor": "#A2B1C6"
            },
            "type": "carpet"
           }
          ],
          "choropleth": [
           {
            "colorbar": {
             "outlinewidth": 0,
             "ticks": ""
            },
            "type": "choropleth"
           }
          ],
          "contour": [
           {
            "colorbar": {
             "outlinewidth": 0,
             "ticks": ""
            },
            "colorscale": [
             [
              0,
              "#0d0887"
             ],
             [
              0.1111111111111111,
              "#46039f"
             ],
             [
              0.2222222222222222,
              "#7201a8"
             ],
             [
              0.3333333333333333,
              "#9c179e"
             ],
             [
              0.4444444444444444,
              "#bd3786"
             ],
             [
              0.5555555555555556,
              "#d8576b"
             ],
             [
              0.6666666666666666,
              "#ed7953"
             ],
             [
              0.7777777777777778,
              "#fb9f3a"
             ],
             [
              0.8888888888888888,
              "#fdca26"
             ],
             [
              1,
              "#f0f921"
             ]
            ],
            "type": "contour"
           }
          ],
          "contourcarpet": [
           {
            "colorbar": {
             "outlinewidth": 0,
             "ticks": ""
            },
            "type": "contourcarpet"
           }
          ],
          "heatmap": [
           {
            "colorbar": {
             "outlinewidth": 0,
             "ticks": ""
            },
            "colorscale": [
             [
              0,
              "#0d0887"
             ],
             [
              0.1111111111111111,
              "#46039f"
             ],
             [
              0.2222222222222222,
              "#7201a8"
             ],
             [
              0.3333333333333333,
              "#9c179e"
             ],
             [
              0.4444444444444444,
              "#bd3786"
             ],
             [
              0.5555555555555556,
              "#d8576b"
             ],
             [
              0.6666666666666666,
              "#ed7953"
             ],
             [
              0.7777777777777778,
              "#fb9f3a"
             ],
             [
              0.8888888888888888,
              "#fdca26"
             ],
             [
              1,
              "#f0f921"
             ]
            ],
            "type": "heatmap"
           }
          ],
          "histogram": [
           {
            "marker": {
             "pattern": {
              "fillmode": "overlay",
              "size": 10,
              "solidity": 0.2
             }
            },
            "type": "histogram"
           }
          ],
          "histogram2d": [
           {
            "colorbar": {
             "outlinewidth": 0,
             "ticks": ""
            },
            "colorscale": [
             [
              0,
              "#0d0887"
             ],
             [
              0.1111111111111111,
              "#46039f"
             ],
             [
              0.2222222222222222,
              "#7201a8"
             ],
             [
              0.3333333333333333,
              "#9c179e"
             ],
             [
              0.4444444444444444,
              "#bd3786"
             ],
             [
              0.5555555555555556,
              "#d8576b"
             ],
             [
              0.6666666666666666,
              "#ed7953"
             ],
             [
              0.7777777777777778,
              "#fb9f3a"
             ],
             [
              0.8888888888888888,
              "#fdca26"
             ],
             [
              1,
              "#f0f921"
             ]
            ],
            "type": "histogram2d"
           }
          ],
          "histogram2dcontour": [
           {
            "colorbar": {
             "outlinewidth": 0,
             "ticks": ""
            },
            "colorscale": [
             [
              0,
              "#0d0887"
             ],
             [
              0.1111111111111111,
              "#46039f"
             ],
             [
              0.2222222222222222,
              "#7201a8"
             ],
             [
              0.3333333333333333,
              "#9c179e"
             ],
             [
              0.4444444444444444,
              "#bd3786"
             ],
             [
              0.5555555555555556,
              "#d8576b"
             ],
             [
              0.6666666666666666,
              "#ed7953"
             ],
             [
              0.7777777777777778,
              "#fb9f3a"
             ],
             [
              0.8888888888888888,
              "#fdca26"
             ],
             [
              1,
              "#f0f921"
             ]
            ],
            "type": "histogram2dcontour"
           }
          ],
          "mesh3d": [
           {
            "colorbar": {
             "outlinewidth": 0,
             "ticks": ""
            },
            "type": "mesh3d"
           }
          ],
          "parcoords": [
           {
            "line": {
             "colorbar": {
              "outlinewidth": 0,
              "ticks": ""
             }
            },
            "type": "parcoords"
           }
          ],
          "pie": [
           {
            "automargin": true,
            "type": "pie"
           }
          ],
          "scatter": [
           {
            "marker": {
             "line": {
              "color": "#283442"
             }
            },
            "type": "scatter"
           }
          ],
          "scatter3d": [
           {
            "line": {
             "colorbar": {
              "outlinewidth": 0,
              "ticks": ""
             }
            },
            "marker": {
             "colorbar": {
              "outlinewidth": 0,
              "ticks": ""
             }
            },
            "type": "scatter3d"
           }
          ],
          "scattercarpet": [
           {
            "marker": {
             "colorbar": {
              "outlinewidth": 0,
              "ticks": ""
             }
            },
            "type": "scattercarpet"
           }
          ],
          "scattergeo": [
           {
            "marker": {
             "colorbar": {
              "outlinewidth": 0,
              "ticks": ""
             }
            },
            "type": "scattergeo"
           }
          ],
          "scattergl": [
           {
            "marker": {
             "line": {
              "color": "#283442"
             }
            },
            "type": "scattergl"
           }
          ],
          "scattermap": [
           {
            "marker": {
             "colorbar": {
              "outlinewidth": 0,
              "ticks": ""
             }
            },
            "type": "scattermap"
           }
          ],
          "scattermapbox": [
           {
            "marker": {
             "colorbar": {
              "outlinewidth": 0,
              "ticks": ""
             }
            },
            "type": "scattermapbox"
           }
          ],
          "scatterpolar": [
           {
            "marker": {
             "colorbar": {
              "outlinewidth": 0,
              "ticks": ""
             }
            },
            "type": "scatterpolar"
           }
          ],
          "scatterpolargl": [
           {
            "marker": {
             "colorbar": {
              "outlinewidth": 0,
              "ticks": ""
             }
            },
            "type": "scatterpolargl"
           }
          ],
          "scatterternary": [
           {
            "marker": {
             "colorbar": {
              "outlinewidth": 0,
              "ticks": ""
             }
            },
            "type": "scatterternary"
           }
          ],
          "surface": [
           {
            "colorbar": {
             "outlinewidth": 0,
             "ticks": ""
            },
            "colorscale": [
             [
              0,
              "#0d0887"
             ],
             [
              0.1111111111111111,
              "#46039f"
             ],
             [
              0.2222222222222222,
              "#7201a8"
             ],
             [
              0.3333333333333333,
              "#9c179e"
             ],
             [
              0.4444444444444444,
              "#bd3786"
             ],
             [
              0.5555555555555556,
              "#d8576b"
             ],
             [
              0.6666666666666666,
              "#ed7953"
             ],
             [
              0.7777777777777778,
              "#fb9f3a"
             ],
             [
              0.8888888888888888,
              "#fdca26"
             ],
             [
              1,
              "#f0f921"
             ]
            ],
            "type": "surface"
           }
          ],
          "table": [
           {
            "cells": {
             "fill": {
              "color": "#506784"
             },
             "line": {
              "color": "rgb(17,17,17)"
             }
            },
            "header": {
             "fill": {
              "color": "#2a3f5f"
             },
             "line": {
              "color": "rgb(17,17,17)"
             }
            },
            "type": "table"
           }
          ]
         },
         "layout": {
          "annotationdefaults": {
           "arrowcolor": "#f2f5fa",
           "arrowhead": 0,
           "arrowwidth": 1
          },
          "autotypenumbers": "strict",
          "coloraxis": {
           "colorbar": {
            "outlinewidth": 0,
            "ticks": ""
           }
          },
          "colorscale": {
           "diverging": [
            [
             0,
             "#8e0152"
            ],
            [
             0.1,
             "#c51b7d"
            ],
            [
             0.2,
             "#de77ae"
            ],
            [
             0.3,
             "#f1b6da"
            ],
            [
             0.4,
             "#fde0ef"
            ],
            [
             0.5,
             "#f7f7f7"
            ],
            [
             0.6,
             "#e6f5d0"
            ],
            [
             0.7,
             "#b8e186"
            ],
            [
             0.8,
             "#7fbc41"
            ],
            [
             0.9,
             "#4d9221"
            ],
            [
             1,
             "#276419"
            ]
           ],
           "sequential": [
            [
             0,
             "#0d0887"
            ],
            [
             0.1111111111111111,
             "#46039f"
            ],
            [
             0.2222222222222222,
             "#7201a8"
            ],
            [
             0.3333333333333333,
             "#9c179e"
            ],
            [
             0.4444444444444444,
             "#bd3786"
            ],
            [
             0.5555555555555556,
             "#d8576b"
            ],
            [
             0.6666666666666666,
             "#ed7953"
            ],
            [
             0.7777777777777778,
             "#fb9f3a"
            ],
            [
             0.8888888888888888,
             "#fdca26"
            ],
            [
             1,
             "#f0f921"
            ]
           ],
           "sequentialminus": [
            [
             0,
             "#0d0887"
            ],
            [
             0.1111111111111111,
             "#46039f"
            ],
            [
             0.2222222222222222,
             "#7201a8"
            ],
            [
             0.3333333333333333,
             "#9c179e"
            ],
            [
             0.4444444444444444,
             "#bd3786"
            ],
            [
             0.5555555555555556,
             "#d8576b"
            ],
            [
             0.6666666666666666,
             "#ed7953"
            ],
            [
             0.7777777777777778,
             "#fb9f3a"
            ],
            [
             0.8888888888888888,
             "#fdca26"
            ],
            [
             1,
             "#f0f921"
            ]
           ]
          },
          "colorway": [
           "#636efa",
           "#EF553B",
           "#00cc96",
           "#ab63fa",
           "#FFA15A",
           "#19d3f3",
           "#FF6692",
           "#B6E880",
           "#FF97FF",
           "#FECB52"
          ],
          "font": {
           "color": "#f2f5fa"
          },
          "geo": {
           "bgcolor": "rgb(17,17,17)",
           "lakecolor": "rgb(17,17,17)",
           "landcolor": "rgb(17,17,17)",
           "showlakes": true,
           "showland": true,
           "subunitcolor": "#506784"
          },
          "hoverlabel": {
           "align": "left"
          },
          "hovermode": "closest",
          "mapbox": {
           "style": "dark"
          },
          "paper_bgcolor": "rgb(17,17,17)",
          "plot_bgcolor": "rgb(17,17,17)",
          "polar": {
           "angularaxis": {
            "gridcolor": "#506784",
            "linecolor": "#506784",
            "ticks": ""
           },
           "bgcolor": "rgb(17,17,17)",
           "radialaxis": {
            "gridcolor": "#506784",
            "linecolor": "#506784",
            "ticks": ""
           }
          },
          "scene": {
           "xaxis": {
            "backgroundcolor": "rgb(17,17,17)",
            "gridcolor": "#506784",
            "gridwidth": 2,
            "linecolor": "#506784",
            "showbackground": true,
            "ticks": "",
            "zerolinecolor": "#C8D4E3"
           },
           "yaxis": {
            "backgroundcolor": "rgb(17,17,17)",
            "gridcolor": "#506784",
            "gridwidth": 2,
            "linecolor": "#506784",
            "showbackground": true,
            "ticks": "",
            "zerolinecolor": "#C8D4E3"
           },
           "zaxis": {
            "backgroundcolor": "rgb(17,17,17)",
            "gridcolor": "#506784",
            "gridwidth": 2,
            "linecolor": "#506784",
            "showbackground": true,
            "ticks": "",
            "zerolinecolor": "#C8D4E3"
           }
          },
          "shapedefaults": {
           "line": {
            "color": "#f2f5fa"
           }
          },
          "sliderdefaults": {
           "bgcolor": "#C8D4E3",
           "bordercolor": "rgb(17,17,17)",
           "borderwidth": 1,
           "tickwidth": 0
          },
          "ternary": {
           "aaxis": {
            "gridcolor": "#506784",
            "linecolor": "#506784",
            "ticks": ""
           },
           "baxis": {
            "gridcolor": "#506784",
            "linecolor": "#506784",
            "ticks": ""
           },
           "bgcolor": "rgb(17,17,17)",
           "caxis": {
            "gridcolor": "#506784",
            "linecolor": "#506784",
            "ticks": ""
           }
          },
          "title": {
           "x": 0.05
          },
          "updatemenudefaults": {
           "bgcolor": "#506784",
           "borderwidth": 0
          },
          "xaxis": {
           "automargin": true,
           "gridcolor": "#283442",
           "linecolor": "#506784",
           "ticks": "",
           "title": {
            "standoff": 15
           },
           "zerolinecolor": "#283442",
           "zerolinewidth": 2
          },
          "yaxis": {
           "automargin": true,
           "gridcolor": "#283442",
           "linecolor": "#506784",
           "ticks": "",
           "title": {
            "standoff": 15
           },
           "zerolinecolor": "#283442",
           "zerolinewidth": 2
          }
         }
        },
        "title": {
         "text": "<b>Model Performance vs. Size</b> (Accuracy vs. Disk Footprint)"
        },
        "xaxis": {
         "anchor": "y",
         "domain": [
          0,
          1
         ],
         "title": {
          "text": "Model Size on Disk (MB)"
         }
        },
        "yaxis": {
         "anchor": "x",
         "domain": [
          0,
          1
         ],
         "title": {
          "text": "Top-1 Accuracy (%)"
         }
        }
       }
      }
     },
     "metadata": {},
     "output_type": "display_data"
    },
    {
     "data": {
      "application/vnd.plotly.v1+json": {
       "config": {
        "plotlyServerURL": "https://plot.ly"
       },
       "data": [
        {
         "customdata": [
          [
           "Baseline",
           44.66958,
           1.824033792
          ]
         ],
         "hovertemplate": "<b>%{hovertext}</b><br><br>Optimization_Category=Baseline<br>Base_Model_Arch=ResNet18<br>Inference_Time_ms_CPU=%{x:.2f} ms}<br>Top_1_Acc_Percent=%{y:.2f}%}<br>flops_gmacs=%{customdata[2]:.2f}G}<br>Specific_Technique=%{customdata[0]}<br>Model_Size_MB_Disk=%{customdata[1]:.2f} MB}<extra></extra>",
         "hovertext": [
          "resnet18_baseline"
         ],
         "legendgroup": "Baseline, ResNet18",
         "marker": {
          "color": "#636efa",
          "line": {
           "color": "White",
           "width": 1
          },
          "size": {
           "bdata": "mQW3Dj4v/T8=",
           "dtype": "f8"
          },
          "sizemode": "area",
          "sizeref": 0.01033435648,
          "symbol": "circle"
         },
         "mode": "markers",
         "name": "Baseline, ResNet18",
         "orientation": "v",
         "showlegend": true,
         "type": "scatter",
         "x": {
          "bdata": "8gwa+ieoQUA=",
          "dtype": "f8"
         },
         "xaxis": "x",
         "y": {
          "bdata": "ECUYemsLSUA=",
          "dtype": "f8"
         },
         "yaxis": "y"
        },
        {
         "customdata": [
          [
           "Baseline",
           97.79614,
           4.133742592
          ]
         ],
         "hovertemplate": "<b>%{hovertext}</b><br><br>Optimization_Category=Baseline<br>Base_Model_Arch=ResNet50<br>Inference_Time_ms_CPU=%{x:.2f} ms}<br>Top_1_Acc_Percent=%{y:.2f}%}<br>flops_gmacs=%{customdata[2]:.2f}G}<br>Specific_Technique=%{customdata[0]}<br>Model_Size_MB_Disk=%{customdata[1]:.2f} MB}<extra></extra>",
         "hovertext": [
          "resnet50_baseline"
         ],
         "legendgroup": "Baseline, ResNet50",
         "marker": {
          "color": "#636efa",
          "line": {
           "color": "White",
           "width": 1
          },
          "size": {
           "bdata": "m+Nq0fOIEEA=",
           "dtype": "f8"
          },
          "sizemode": "area",
          "sizeref": 0.01033435648,
          "symbol": "diamond"
         },
         "mode": "markers",
         "name": "Baseline, ResNet50",
         "orientation": "v",
         "showlegend": true,
         "type": "scatter",
         "x": {
          "bdata": "pHA9CtcDVkA=",
          "dtype": "f8"
         },
         "xaxis": "x",
         "y": {
          "bdata": "2LNUmtE8UEA=",
          "dtype": "f8"
         },
         "yaxis": "y"
        },
        {
         "customdata": [
          [
           "KMeans Quant",
           44.66733,
           1.824033792
          ],
          [
           "PTQ INT8 (Per-Channel)",
           11.30209,
           0
          ],
          [
           "PTQ INT8 (Per-Tensor)",
           11.30076,
           0
          ],
          [
           "QAT INT8",
           11.29939,
           0
          ],
          [
           "Distillation + TensorRT FP16",
           31.02,
           1.824033792
          ],
          [
           "Distillation + TensorRT FP32",
           96.01,
           1.824033792
          ]
         ],
         "hovertemplate": "<b>%{hovertext}</b><br><br>Optimization_Category=Combined<br>Base_Model_Arch=ResNet18<br>Inference_Time_ms_CPU=%{x:.2f} ms}<br>Top_1_Acc_Percent=%{y:.2f}%}<br>flops_gmacs=%{customdata[2]:.2f}G}<br>Specific_Technique=%{customdata[0]}<br>Model_Size_MB_Disk=%{customdata[1]:.2f} MB}<extra></extra>",
         "hovertext": [
          "resnet18pretrained_distilled_quant_kmeans_256clusters_post",
          "resnet18pretrained_distilled_quant_ptq_int8_perchannel_post",
          "resnet18pretrained_distilled_quant_ptq_int8_pertensor_post",
          "resnet18pretrained_distilled_quant_qat_int8_epochs8",
          "resnet18_distilled_trt_fp16",
          "resnet18_distilled_trt_fp32"
         ],
         "legendgroup": "Combined, ResNet18",
         "marker": {
          "color": "#EF553B",
          "line": {
           "color": "White",
           "width": 1
          },
          "size": {
           "bdata": "mQW3Dj4v/T8AAAAAAAAAAAAAAAAAAAAAAAAAAAAAAACZBbcOPi/9P5kFtw4+L/0/",
           "dtype": "f8"
          },
          "sizemode": "area",
          "sizeref": 0.01033435648,
          "symbol": "circle"
         },
         "mode": "markers",
         "name": "Combined, ResNet18",
         "orientation": "v",
         "showlegend": true,
         "type": "scatter",
         "x": {
          "bdata": "PpY+dEGdQkDbxMn9DgUzQIxn0NA/UTJAuXAgJAv4MUAAAAAAAAD4fwAAAAAAAPh/",
          "dtype": "f8"
         },
         "xaxis": "x",
         "y": {
          "bdata": "kIxS1XnXSkC3sGQDhGNJQC6VZjQPrUpAL3wLcCnHSkBeukkMAutKQBWuR+F65EpA",
          "dtype": "f8"
         },
         "yaxis": "y"
        },
        {
         "customdata": [
          [
           "Knowledge Distillation",
           44.67078,
           1.824033792
          ],
          [
           "Knowledge Distillation",
           44.67078,
           1.824033792
          ]
         ],
         "hovertemplate": "<b>%{hovertext}</b><br><br>Optimization_Category=Knowledge Distillation<br>Base_Model_Arch=ResNet18<br>Inference_Time_ms_CPU=%{x:.2f} ms}<br>Top_1_Acc_Percent=%{y:.2f}%}<br>flops_gmacs=%{customdata[2]:.2f}G}<br>Specific_Technique=%{customdata[0]}<br>Model_Size_MB_Disk=%{customdata[1]:.2f} MB}<extra></extra>",
         "hovertext": [
          "resnet50_to_resnet18pretrained_kd",
          "resnet50_to_resnet18scratch_kd"
         ],
         "legendgroup": "Knowledge Distillation, ResNet18",
         "marker": {
          "color": "#00cc96",
          "line": {
           "color": "White",
           "width": 1
          },
          "size": {
           "bdata": "mQW3Dj4v/T+ZBbcOPi/9Pw==",
           "dtype": "f8"
          },
          "sizemode": "area",
          "sizeref": 0.01033435648,
          "symbol": "circle"
         },
         "mode": "markers",
         "name": "Knowledge Distillation, ResNet18",
         "orientation": "v",
         "showlegend": true,
         "type": "scatter",
         "x": {
          "bdata": "02pI3GOBQkBeS8gHPQNCQA==",
          "dtype": "f8"
         },
         "xaxis": "x",
         "y": {
          "bdata": "8ZyZOsrnSkAxHHBOuqMxQA==",
          "dtype": "f8"
         },
         "yaxis": "y"
        },
        {
         "customdata": [
          [
           "N:M Sparsity",
           97.79861,
           4.133742592
          ],
          [
           "Iterative Structured Pruning (L1 Filter)",
           49.60373,
           2.042114256
          ],
          [
           "Iterative Structured Pruning (L1 Filter)",
           25.49252,
           1.012597635
          ],
          [
           "Iterative Structured Pruning (L1 Filter)",
           10.2117,
           0.382400928
          ],
          [
           "One-Shot Structured Pruning (L1 Filter)",
           49.59605,
           2.042114256
          ],
          [
           "One-Shot Structured Pruning (L1 Filter)",
           21.86064,
           0.865708368
          ],
          [
           "One-Shot Structured Pruning (L1 Filter)",
           10.56108,
           0.400809619
          ],
          [
           "Iterative Unstructured Pruning (L1)",
           97.79218,
           4.133742592
          ],
          [
           "Iterative Unstructured Pruning (L1)",
           97.79218,
           4.133742592
          ],
          [
           "Iterative Unstructured Pruning (L1)",
           97.80362,
           4.133742592
          ],
          [
           "One-Shot Unstructured Pruning (L1)",
           97.80331,
           4.133742592
          ],
          [
           "One-Shot Unstructured Pruning (L1)",
           97.80331,
           4.133742592
          ],
          [
           "One-Shot Unstructured Pruning (L1)",
           97.80331,
           4.133742592
          ]
         ],
         "hovertemplate": "<b>%{hovertext}</b><br><br>Optimization_Category=Pruning<br>Base_Model_Arch=ResNet50<br>Inference_Time_ms_CPU=%{x:.2f} ms}<br>Top_1_Acc_Percent=%{y:.2f}%}<br>flops_gmacs=%{customdata[2]:.2f}G}<br>Specific_Technique=%{customdata[0]}<br>Model_Size_MB_Disk=%{customdata[1]:.2f} MB}<extra></extra>",
         "hovertext": [
          "resnet50_prune_nm24_ft",
          "resnet50_prune_struct_it_l1filter_stage1_approx_sp50_ft",
          "resnet50_prune_struct_it_l1filter_stage2_approx_sp75_ft",
          "resnet50_prune_struct_it_l1filter_stage3_approx_sp90_ft",
          "resnet50_prune_struct_os_l1filter_fp30_ft",
          "resnet50_prune_struct_os_l1filter_fp55_ft",
          "resnet50_prune_struct_os_l1filter_fp70_ft",
          "resnet50_prune_unstruct_it_l1_stage1_sp50_ft",
          "resnet50_prune_unstruct_it_l1_stage2_sp75_ft",
          "resnet50_prune_unstruct_it_l1_stage3_sp90_ft",
          "resnet50_prune_unstruct_os_l1_sp50_ft",
          "resnet50_prune_unstruct_os_l1_sp75_ft",
          "resnet50_prune_unstruct_os_l1_sp90_ft"
         ],
         "legendgroup": "Pruning, ResNet50",
         "marker": {
          "color": "#ab63fa",
          "line": {
           "color": "White",
           "width": 1
          },
          "size": {
           "bdata": "m+Nq0fOIEEAVucH/P1YAQKZP5ZOZM/A/TxXuvUF52D8VucH/P1YAQIDfDQnis+s/+r1hY92m2T+b42rR84gQQJvjatHziBBAm+Nq0fOIEECb42rR84gQQJvjatHziBBAm+Nq0fOIEEA=",
           "dtype": "f8"
          },
          "sizemode": "area",
          "sizeref": 0.01033435648,
          "symbol": "diamond"
         },
         "mode": "markers",
         "name": "Pruning, ResNet50",
         "orientation": "v",
         "showlegend": true,
         "type": "scatter",
         "x": {
          "bdata": "TIkkehlVVkB8D5ccd/pMQEBNLVvry0JAcuFASBbAOEDVJk7udxBMQHBCIQIOsUFARzgteNEHOUAtlbcjnAJWQHx+GCE8qlVAufyH9NunV0CW58HdWbNWQP+ye/Kw9FlA3CkdrP9fVkA=",
          "dtype": "f8"
         },
         "xaxis": "x",
         "y": {
          "bdata": "BW6uVcUQUEDPd1zN1/dIQILx6SX50j1AjiebZS0nKkA55ujVxmNLQJLvCgYvEzZAhyFKMPTWFkBvcBo9nYNQQIhs1idG+U5Akr3dHl0/R0Cvx0RWEp1QQBsgHEtbM09ASZmBCkXqREA=",
          "dtype": "f8"
         },
         "yaxis": "y"
        },
        {
         "customdata": [
          [
           "KMeans Quant",
           97.79564,
           4.133742592
          ],
          [
           "PTQ INT8 (Per-Channel)",
           24.94237,
           0
          ],
          [
           "PTQ INT8 (Per-Tensor)",
           24.94018,
           0
          ],
          [
           "QAT INT8",
           24.93738,
           0
          ]
         ],
         "hovertemplate": "<b>%{hovertext}</b><br><br>Optimization_Category=Quantization<br>Base_Model_Arch=ResNet50<br>Inference_Time_ms_CPU=%{x:.2f} ms}<br>Top_1_Acc_Percent=%{y:.2f}%}<br>flops_gmacs=%{customdata[2]:.2f}G}<br>Specific_Technique=%{customdata[0]}<br>Model_Size_MB_Disk=%{customdata[1]:.2f} MB}<extra></extra>",
         "hovertext": [
          "resnet50_quant_kmeans_256clusters_post",
          "resnet50_quant_ptq_int8_perchannel_post",
          "resnet50_quant_ptq_int8_pertensor_post",
          "resnet50_quant_qat_int8_epochs8"
         ],
         "legendgroup": "Quantization, ResNet50",
         "marker": {
          "color": "#FFA15A",
          "line": {
           "color": "White",
           "width": 1
          },
          "size": {
           "bdata": "m+Nq0fOIEEAAAAAAAAAAAAAAAAAAAAAAAAAAAAAAAAA=",
           "dtype": "f8"
          },
          "sizemode": "area",
          "sizeref": 0.01033435648,
          "symbol": "diamond"
         },
         "mode": "markers",
         "name": "Quantization, ResNet50",
         "orientation": "v",
         "showlegend": true,
         "type": "scatter",
         "x": {
          "bdata": "3c1THXJnVkBn7bYLzTVGQLnH0ocu+ERAMxtkkpE7RUA=",
          "dtype": "f8"
         },
         "xaxis": "x",
         "y": {
          "bdata": "aWWa9i87UEBsEZeXv1hOQEkCDz5zPlBA7o1bx4uWUEA=",
          "dtype": "f8"
         },
         "yaxis": "y"
        },
        {
         "customdata": [
          [
           "TensorRT FP16",
           67.38,
           4.133742592
          ],
          [
           "TensorRT FP32",
           162.2,
           4.133742592
          ]
         ],
         "hovertemplate": "<b>%{hovertext}</b><br><br>Optimization_Category=TensorRT<br>Base_Model_Arch=ResNet50<br>Inference_Time_ms_CPU=%{x:.2f} ms}<br>Top_1_Acc_Percent=%{y:.2f}%}<br>flops_gmacs=%{customdata[2]:.2f}G}<br>Specific_Technique=%{customdata[0]}<br>Model_Size_MB_Disk=%{customdata[1]:.2f} MB}<extra></extra>",
         "hovertext": [
          "resnet50_trt_fp16",
          "resnet50_trt_fp32"
         ],
         "legendgroup": "TensorRT, ResNet50",
         "marker": {
          "color": "#19d3f3",
          "line": {
           "color": "White",
           "width": 1
          },
          "size": {
           "bdata": "m+Nq0fOIEECb42rR84gQQA==",
           "dtype": "f8"
          },
          "sizemode": "area",
          "sizeref": 0.01033435648,
          "symbol": "diamond"
         },
         "mode": "markers",
         "name": "TensorRT, ResNet50",
         "orientation": "v",
         "showlegend": true,
         "type": "scatter",
         "x": {
          "bdata": "AAAAAAAA+H8AAAAAAAD4fw==",
          "dtype": "f8"
         },
         "xaxis": "x",
         "y": {
          "bdata": "MzMzMzNDUEB7FK5H4TpQQA==",
          "dtype": "f8"
         },
         "yaxis": "y"
        }
       ],
       "layout": {
        "font": {
         "family": "Arial, sans-serif",
         "size": 12
        },
        "legend": {
         "itemsizing": "constant",
         "title": {
          "text": "Optimization Category"
         },
         "tracegroupgap": 0
        },
        "template": {
         "data": {
          "bar": [
           {
            "error_x": {
             "color": "#f2f5fa"
            },
            "error_y": {
             "color": "#f2f5fa"
            },
            "marker": {
             "line": {
              "color": "rgb(17,17,17)",
              "width": 0.5
             },
             "pattern": {
              "fillmode": "overlay",
              "size": 10,
              "solidity": 0.2
             }
            },
            "type": "bar"
           }
          ],
          "barpolar": [
           {
            "marker": {
             "line": {
              "color": "rgb(17,17,17)",
              "width": 0.5
             },
             "pattern": {
              "fillmode": "overlay",
              "size": 10,
              "solidity": 0.2
             }
            },
            "type": "barpolar"
           }
          ],
          "carpet": [
           {
            "aaxis": {
             "endlinecolor": "#A2B1C6",
             "gridcolor": "#506784",
             "linecolor": "#506784",
             "minorgridcolor": "#506784",
             "startlinecolor": "#A2B1C6"
            },
            "baxis": {
             "endlinecolor": "#A2B1C6",
             "gridcolor": "#506784",
             "linecolor": "#506784",
             "minorgridcolor": "#506784",
             "startlinecolor": "#A2B1C6"
            },
            "type": "carpet"
           }
          ],
          "choropleth": [
           {
            "colorbar": {
             "outlinewidth": 0,
             "ticks": ""
            },
            "type": "choropleth"
           }
          ],
          "contour": [
           {
            "colorbar": {
             "outlinewidth": 0,
             "ticks": ""
            },
            "colorscale": [
             [
              0,
              "#0d0887"
             ],
             [
              0.1111111111111111,
              "#46039f"
             ],
             [
              0.2222222222222222,
              "#7201a8"
             ],
             [
              0.3333333333333333,
              "#9c179e"
             ],
             [
              0.4444444444444444,
              "#bd3786"
             ],
             [
              0.5555555555555556,
              "#d8576b"
             ],
             [
              0.6666666666666666,
              "#ed7953"
             ],
             [
              0.7777777777777778,
              "#fb9f3a"
             ],
             [
              0.8888888888888888,
              "#fdca26"
             ],
             [
              1,
              "#f0f921"
             ]
            ],
            "type": "contour"
           }
          ],
          "contourcarpet": [
           {
            "colorbar": {
             "outlinewidth": 0,
             "ticks": ""
            },
            "type": "contourcarpet"
           }
          ],
          "heatmap": [
           {
            "colorbar": {
             "outlinewidth": 0,
             "ticks": ""
            },
            "colorscale": [
             [
              0,
              "#0d0887"
             ],
             [
              0.1111111111111111,
              "#46039f"
             ],
             [
              0.2222222222222222,
              "#7201a8"
             ],
             [
              0.3333333333333333,
              "#9c179e"
             ],
             [
              0.4444444444444444,
              "#bd3786"
             ],
             [
              0.5555555555555556,
              "#d8576b"
             ],
             [
              0.6666666666666666,
              "#ed7953"
             ],
             [
              0.7777777777777778,
              "#fb9f3a"
             ],
             [
              0.8888888888888888,
              "#fdca26"
             ],
             [
              1,
              "#f0f921"
             ]
            ],
            "type": "heatmap"
           }
          ],
          "histogram": [
           {
            "marker": {
             "pattern": {
              "fillmode": "overlay",
              "size": 10,
              "solidity": 0.2
             }
            },
            "type": "histogram"
           }
          ],
          "histogram2d": [
           {
            "colorbar": {
             "outlinewidth": 0,
             "ticks": ""
            },
            "colorscale": [
             [
              0,
              "#0d0887"
             ],
             [
              0.1111111111111111,
              "#46039f"
             ],
             [
              0.2222222222222222,
              "#7201a8"
             ],
             [
              0.3333333333333333,
              "#9c179e"
             ],
             [
              0.4444444444444444,
              "#bd3786"
             ],
             [
              0.5555555555555556,
              "#d8576b"
             ],
             [
              0.6666666666666666,
              "#ed7953"
             ],
             [
              0.7777777777777778,
              "#fb9f3a"
             ],
             [
              0.8888888888888888,
              "#fdca26"
             ],
             [
              1,
              "#f0f921"
             ]
            ],
            "type": "histogram2d"
           }
          ],
          "histogram2dcontour": [
           {
            "colorbar": {
             "outlinewidth": 0,
             "ticks": ""
            },
            "colorscale": [
             [
              0,
              "#0d0887"
             ],
             [
              0.1111111111111111,
              "#46039f"
             ],
             [
              0.2222222222222222,
              "#7201a8"
             ],
             [
              0.3333333333333333,
              "#9c179e"
             ],
             [
              0.4444444444444444,
              "#bd3786"
             ],
             [
              0.5555555555555556,
              "#d8576b"
             ],
             [
              0.6666666666666666,
              "#ed7953"
             ],
             [
              0.7777777777777778,
              "#fb9f3a"
             ],
             [
              0.8888888888888888,
              "#fdca26"
             ],
             [
              1,
              "#f0f921"
             ]
            ],
            "type": "histogram2dcontour"
           }
          ],
          "mesh3d": [
           {
            "colorbar": {
             "outlinewidth": 0,
             "ticks": ""
            },
            "type": "mesh3d"
           }
          ],
          "parcoords": [
           {
            "line": {
             "colorbar": {
              "outlinewidth": 0,
              "ticks": ""
             }
            },
            "type": "parcoords"
           }
          ],
          "pie": [
           {
            "automargin": true,
            "type": "pie"
           }
          ],
          "scatter": [
           {
            "marker": {
             "line": {
              "color": "#283442"
             }
            },
            "type": "scatter"
           }
          ],
          "scatter3d": [
           {
            "line": {
             "colorbar": {
              "outlinewidth": 0,
              "ticks": ""
             }
            },
            "marker": {
             "colorbar": {
              "outlinewidth": 0,
              "ticks": ""
             }
            },
            "type": "scatter3d"
           }
          ],
          "scattercarpet": [
           {
            "marker": {
             "colorbar": {
              "outlinewidth": 0,
              "ticks": ""
             }
            },
            "type": "scattercarpet"
           }
          ],
          "scattergeo": [
           {
            "marker": {
             "colorbar": {
              "outlinewidth": 0,
              "ticks": ""
             }
            },
            "type": "scattergeo"
           }
          ],
          "scattergl": [
           {
            "marker": {
             "line": {
              "color": "#283442"
             }
            },
            "type": "scattergl"
           }
          ],
          "scattermap": [
           {
            "marker": {
             "colorbar": {
              "outlinewidth": 0,
              "ticks": ""
             }
            },
            "type": "scattermap"
           }
          ],
          "scattermapbox": [
           {
            "marker": {
             "colorbar": {
              "outlinewidth": 0,
              "ticks": ""
             }
            },
            "type": "scattermapbox"
           }
          ],
          "scatterpolar": [
           {
            "marker": {
             "colorbar": {
              "outlinewidth": 0,
              "ticks": ""
             }
            },
            "type": "scatterpolar"
           }
          ],
          "scatterpolargl": [
           {
            "marker": {
             "colorbar": {
              "outlinewidth": 0,
              "ticks": ""
             }
            },
            "type": "scatterpolargl"
           }
          ],
          "scatterternary": [
           {
            "marker": {
             "colorbar": {
              "outlinewidth": 0,
              "ticks": ""
             }
            },
            "type": "scatterternary"
           }
          ],
          "surface": [
           {
            "colorbar": {
             "outlinewidth": 0,
             "ticks": ""
            },
            "colorscale": [
             [
              0,
              "#0d0887"
             ],
             [
              0.1111111111111111,
              "#46039f"
             ],
             [
              0.2222222222222222,
              "#7201a8"
             ],
             [
              0.3333333333333333,
              "#9c179e"
             ],
             [
              0.4444444444444444,
              "#bd3786"
             ],
             [
              0.5555555555555556,
              "#d8576b"
             ],
             [
              0.6666666666666666,
              "#ed7953"
             ],
             [
              0.7777777777777778,
              "#fb9f3a"
             ],
             [
              0.8888888888888888,
              "#fdca26"
             ],
             [
              1,
              "#f0f921"
             ]
            ],
            "type": "surface"
           }
          ],
          "table": [
           {
            "cells": {
             "fill": {
              "color": "#506784"
             },
             "line": {
              "color": "rgb(17,17,17)"
             }
            },
            "header": {
             "fill": {
              "color": "#2a3f5f"
             },
             "line": {
              "color": "rgb(17,17,17)"
             }
            },
            "type": "table"
           }
          ]
         },
         "layout": {
          "annotationdefaults": {
           "arrowcolor": "#f2f5fa",
           "arrowhead": 0,
           "arrowwidth": 1
          },
          "autotypenumbers": "strict",
          "coloraxis": {
           "colorbar": {
            "outlinewidth": 0,
            "ticks": ""
           }
          },
          "colorscale": {
           "diverging": [
            [
             0,
             "#8e0152"
            ],
            [
             0.1,
             "#c51b7d"
            ],
            [
             0.2,
             "#de77ae"
            ],
            [
             0.3,
             "#f1b6da"
            ],
            [
             0.4,
             "#fde0ef"
            ],
            [
             0.5,
             "#f7f7f7"
            ],
            [
             0.6,
             "#e6f5d0"
            ],
            [
             0.7,
             "#b8e186"
            ],
            [
             0.8,
             "#7fbc41"
            ],
            [
             0.9,
             "#4d9221"
            ],
            [
             1,
             "#276419"
            ]
           ],
           "sequential": [
            [
             0,
             "#0d0887"
            ],
            [
             0.1111111111111111,
             "#46039f"
            ],
            [
             0.2222222222222222,
             "#7201a8"
            ],
            [
             0.3333333333333333,
             "#9c179e"
            ],
            [
             0.4444444444444444,
             "#bd3786"
            ],
            [
             0.5555555555555556,
             "#d8576b"
            ],
            [
             0.6666666666666666,
             "#ed7953"
            ],
            [
             0.7777777777777778,
             "#fb9f3a"
            ],
            [
             0.8888888888888888,
             "#fdca26"
            ],
            [
             1,
             "#f0f921"
            ]
           ],
           "sequentialminus": [
            [
             0,
             "#0d0887"
            ],
            [
             0.1111111111111111,
             "#46039f"
            ],
            [
             0.2222222222222222,
             "#7201a8"
            ],
            [
             0.3333333333333333,
             "#9c179e"
            ],
            [
             0.4444444444444444,
             "#bd3786"
            ],
            [
             0.5555555555555556,
             "#d8576b"
            ],
            [
             0.6666666666666666,
             "#ed7953"
            ],
            [
             0.7777777777777778,
             "#fb9f3a"
            ],
            [
             0.8888888888888888,
             "#fdca26"
            ],
            [
             1,
             "#f0f921"
            ]
           ]
          },
          "colorway": [
           "#636efa",
           "#EF553B",
           "#00cc96",
           "#ab63fa",
           "#FFA15A",
           "#19d3f3",
           "#FF6692",
           "#B6E880",
           "#FF97FF",
           "#FECB52"
          ],
          "font": {
           "color": "#f2f5fa"
          },
          "geo": {
           "bgcolor": "rgb(17,17,17)",
           "lakecolor": "rgb(17,17,17)",
           "landcolor": "rgb(17,17,17)",
           "showlakes": true,
           "showland": true,
           "subunitcolor": "#506784"
          },
          "hoverlabel": {
           "align": "left"
          },
          "hovermode": "closest",
          "mapbox": {
           "style": "dark"
          },
          "paper_bgcolor": "rgb(17,17,17)",
          "plot_bgcolor": "rgb(17,17,17)",
          "polar": {
           "angularaxis": {
            "gridcolor": "#506784",
            "linecolor": "#506784",
            "ticks": ""
           },
           "bgcolor": "rgb(17,17,17)",
           "radialaxis": {
            "gridcolor": "#506784",
            "linecolor": "#506784",
            "ticks": ""
           }
          },
          "scene": {
           "xaxis": {
            "backgroundcolor": "rgb(17,17,17)",
            "gridcolor": "#506784",
            "gridwidth": 2,
            "linecolor": "#506784",
            "showbackground": true,
            "ticks": "",
            "zerolinecolor": "#C8D4E3"
           },
           "yaxis": {
            "backgroundcolor": "rgb(17,17,17)",
            "gridcolor": "#506784",
            "gridwidth": 2,
            "linecolor": "#506784",
            "showbackground": true,
            "ticks": "",
            "zerolinecolor": "#C8D4E3"
           },
           "zaxis": {
            "backgroundcolor": "rgb(17,17,17)",
            "gridcolor": "#506784",
            "gridwidth": 2,
            "linecolor": "#506784",
            "showbackground": true,
            "ticks": "",
            "zerolinecolor": "#C8D4E3"
           }
          },
          "shapedefaults": {
           "line": {
            "color": "#f2f5fa"
           }
          },
          "sliderdefaults": {
           "bgcolor": "#C8D4E3",
           "bordercolor": "rgb(17,17,17)",
           "borderwidth": 1,
           "tickwidth": 0
          },
          "ternary": {
           "aaxis": {
            "gridcolor": "#506784",
            "linecolor": "#506784",
            "ticks": ""
           },
           "baxis": {
            "gridcolor": "#506784",
            "linecolor": "#506784",
            "ticks": ""
           },
           "bgcolor": "rgb(17,17,17)",
           "caxis": {
            "gridcolor": "#506784",
            "linecolor": "#506784",
            "ticks": ""
           }
          },
          "title": {
           "x": 0.05
          },
          "updatemenudefaults": {
           "bgcolor": "#506784",
           "borderwidth": 0
          },
          "xaxis": {
           "automargin": true,
           "gridcolor": "#283442",
           "linecolor": "#506784",
           "ticks": "",
           "title": {
            "standoff": 15
           },
           "zerolinecolor": "#283442",
           "zerolinewidth": 2
          },
          "yaxis": {
           "automargin": true,
           "gridcolor": "#283442",
           "linecolor": "#506784",
           "ticks": "",
           "title": {
            "standoff": 15
           },
           "zerolinecolor": "#283442",
           "zerolinewidth": 2
          }
         }
        },
        "title": {
         "text": "<b>Model Performance vs. Speed</b> (Accuracy vs. CPU Inference Time)"
        },
        "xaxis": {
         "anchor": "y",
         "domain": [
          0,
          1
         ],
         "title": {
          "text": "CPU Inference Time (ms, Batch Size 1)"
         }
        },
        "yaxis": {
         "anchor": "x",
         "domain": [
          0,
          1
         ],
         "title": {
          "text": "Top-1 Accuracy (%)"
         }
        }
       }
      }
     },
     "metadata": {},
     "output_type": "display_data"
    },
    {
     "name": "stdout",
     "output_type": "stream",
     "text": [
      "Interactive plots have been saved as 'model_performance_vs_size.html' and 'model_performance_vs_speed.html'\n"
     ]
    }
   ],
   "source": [
    "import pandas as pd\n",
    "import plotly.express as px\n",
    "import plotly.graph_objects as go\n",
    "import io\n",
    "\n",
    "# Paste your CSV data here\n",
    "csv_data = \"\"\"\n",
    "Experiment_ID;Base_Model_Arch;Optimization_Category;Specific_Technique;Key_Parameters;Top_1_Acc;Top_5_Acc;Model_Size_MB_Disk;FT_Epochs_Run;FT_Time_seconds;Inference_Time_ms_CPU (Batch 1);Inference_Time_ms_GPU (Batch 1);flops_gmacs;params_millions;non_zero_params;Notes_from_Log\n",
    "resnet18_baseline;ResNet18;Baseline;Baseline;N/A;0.5008921743563599;0.7631914;44.66958;15;1406.56149;35.31372;3.52352;1.824033792;11.689512;11.689512;\n",
    "resnet50_baseline;ResNet50;Baseline;Baseline;N/A;0.649502931430028;0.8748407;97.79614;30;5395.38120;88.06000;7.87376;4.133742592;25.557032;25.557032;\n",
    "resnet18pretrained_distilled_quant_kmeans_256clusters_post;ResNet18;Combined;KMeans Quant;Clusters: 256;0.5368340555697171;0.8032118;44.66733;0;0.00000;37.22856;3.33568;1.824033792;11.689512;11.689512;K-Means Weight Quantization (256 clusters) applied to a distilled, pretrained ResNet18. No training epochs for quantization step. Evaluation metrics from original log. Codebook info was generated.\n",
    "resnet18pretrained_distilled_quant_ptq_int8_perchannel_post;ResNet18;Combined;PTQ INT8 (Per-Channel);N/A;0.5077746622482794;0.7807800;11.30209;0;0.00000;19.01976;N/A (Known JIT GPU Unstable);N/A (JIT Model);N/A (JIT Model);N/A (JIT Model);Post-Training Quantization (per-channel) applied to a distilled, pretrained ResNet18. No training epochs for quantization step. Evaluation metrics from original log.\n",
    "resnet18pretrained_distilled_quant_ptq_int8_pertensor_post;ResNet18;Combined;PTQ INT8 (Per-Tensor);N/A;0.5335202651032374;0.8027020;11.30076;0;0.00000;18.31738;N/A (Known JIT GPU Unstable);N/A (JIT Model);N/A (JIT Model);N/A (JIT Model);Post-Training Quantization (per-tensor) applied to a distilled, pretrained ResNet18. No training epochs for quantization step. Evaluation metrics from original log.\n",
    "resnet18pretrained_distilled_quant_qat_int8_epochs8;ResNet18;Combined;QAT INT8;QAT Epochs: 8;0.5355595207749172;0.8044864;11.29939;8;1155.46389;17.96892;N/A (Known JIT GPU Unstable);N/A (JIT Model);N/A (JIT Model);N/A (JIT Model);Quantization Aware Training applied to a distilled, pretrained ResNet18. Epoch data refers to QAT fine-tuning. Evaluation metrics from original log.\n",
    "resnet50_to_resnet18pretrained_kd;ResNet18;Knowledge Distillation;Knowledge Distillation;T:resnet50->S:resnet18;0.538108590364517;0.8027020;44.67078;15;2067.91055;37.01086;3.47354;1.824033792;11.689512;11.689512;\n",
    "resnet50_to_resnet18scratch_kd;ResNet18;Knowledge Distillation;Knowledge Distillation;T:resnet50->S:resnet18;0.1763956156003059;0.4017334;44.67078;15;2004.46795;36.02530;3.41316;1.824033792;11.689512;11.689512;\n",
    "resnet50_prune_nm24_ft;ResNet50;Pruning;N:M Sparsity;N:2, M:4;0.6426204435381085;0.8730563;97.79861;15;3051.65437;89.32968;9.58856;4.133742592;25.557032;13.829576;\n",
    "resnet50_prune_struct_it_l1filter_stage1_approx_sp50_ft;ResNet50;Pruning;Iterative Structured Pruning (L1 Filter);Target Sparsity: 50.0%;0.49936273260260006;0.7675249;49.60373;5;675.39339;57.95676;8.98030;2.042114256;12.935549;12.935549;\n",
    "resnet50_prune_struct_it_l1filter_stage2_approx_sp75_ft;ResNet50;Pruning;Iterative Structured Pruning (L1 Filter);Target Sparsity: 75.0%;0.29824114198317614;0.5799133;25.49252;10;1021.56831;37.59312;11.46844;1.012597635;6.626072;6.626072;\n",
    "resnet50_prune_struct_it_l1filter_stage3_approx_sp90_ft;ResNet50;Pruning;Iterative Structured Pruning (L1 Filter);Target Sparsity: 90.0%;0.13076518225850832;0.3405557;10.21170;15;1358.46598;24.75034;8.29152;0.382400928;2.630579;2.630579;\n",
    "resnet50_prune_struct_os_l1filter_fp30_ft;ResNet50;Pruning;One-Shot Structured Pruning (L1 Filter);Target Sparsity: 50.0%;0.5477950548049961;0.8100943;49.59605;15;2030.61859;56.12866;9.36346;2.042114256;12.935549;12.935549;\n",
    "resnet50_prune_struct_os_l1filter_fp55_ft;ResNet50;Pruning;One-Shot Structured Pruning (L1 Filter);Target Sparsity: 75.0%;0.22074936273260006;0.4840683;21.86064;15;1472.21088;35.38324;8.50816;0.865708368;5.678189;5.678189;\n",
    "resnet50_prune_struct_os_l1filter_fp70_ft;ResNet50;Pruning;One-Shot Structured Pruning (L1 Filter);Target Sparsity: 90.0%;0.05709915880703543;0.1947489;10.56108;15;1346.40862;25.03054;8.32954;0.400809619;2.724022;2.724022;\n",
    "resnet50_prune_unstruct_it_l1_stage1_sp50_ft;ResNet50;Pruning;Iterative Unstructured Pruning (L1);Target Sparsity: 50.0%;0.6605647208768799389;0.853138;97.79218;5;665.13087;88.04078;8.22656;4.133742592;25.557032;12.752456;\n",
    "resnet50_prune_unstruct_it_l1_stage2_sp75_ft;ResNet50;Pruning;Iterative Unstructured Pruning (L1);Target Sparsity: 75.0%;0.6194745347947998981;0.79276;97.79218;10;1337.13718;86.65992;7.89072;4.133742592;25.557032;6.376728;\n",
    "resnet50_prune_unstruct_it_l1_stage3_sp90_ft;ResNet50;Pruning;Iterative Unstructured Pruning (L1);Target Sparsity: 90.0%;0.4649502931430028;0.7519755;97.80362;15;2093.07571;94.62280;7.99122;4.133742592;25.557032;2.551291;\n",
    "resnet50_prune_unstruct_os_l1_sp50_ft;ResNet50;Pruning;One-Shot Unstructured Pruning (L1);Target Sparsity: 50.0%;0.6645424420086669;0.8860566;97.80331;15;2085.63127;90.80236;8.09102;4.133742592;25.557032;12.752456;\n",
    "resnet50_prune_unstruct_os_l1_sp75_ft;ResNet50;Pruning;One-Shot Unstructured Pruning (L1);Target Sparsity: 75.0%;0.6240122355340301;0.8598012;97.80331;15;1945.38252;103.82330;8.23356;4.133742592;25.557032;6.376728;\n",
    "resnet50_prune_unstruct_os_l1_sp90_ft;ResNet50;Pruning;One-Shot Unstructured Pruning (L1);Target Sparsity: 90.0%;0.41830231965332654;0.7122100;97.80331;15;2004.42808;89.49998;8.24150;4.133742592;25.557032;2.551291;\n",
    "resnet50_quant_kmeans_256clusters_post;ResNet50;Quantization;KMeans Quant;Clusters: 256;0.6492480244710681;0.8730563;97.79564;0;0.00000;89.61634;9.13594;4.133742592;25.557032;25.557032;K-Means Weight Quantization (256 clusters). No training epochs for quantization step. Evaluation metrics from original log. Codebook info was generated.\n",
    "resnet50_quant_ptq_int8_perchannel_post;ResNet50;Quantization;PTQ INT8 (Per-Channel);N/A;0.6069334692837114;0.8404282;24.94237;0;0.00000;44.42032;N/A (Known JIT GPU Unstable);N/A (JIT Model);N/A (JIT Model);N/A (JIT Model);Post-Training Quantization (per-channel). No training epochs for quantization step. Evaluation metrics from original log.\n",
    "resnet50_quant_ptq_int8_pertensor_post;ResNet50;Quantization;PTQ INT8 (Per-Tensor);N/A;0.649757838388988;0.8735661;24.94018;0;0.00000;41.93892;N/A (Known JIT GPU Unstable);N/A (JIT Model);N/A (JIT Model);N/A (JIT Model);Post-Training Quantization (per-tensor). No training epochs for quantization step. Evaluation metrics from original log.\n",
    "resnet50_quant_qat_int8_epochs8;ResNet50;Quantization;QAT INT8;QAT Epochs: 8;0.6635228141728269;0.8807035;24.93738;8;2333.11918;42.46538;N/A (Known JIT GPU Unstable);N/A (JIT Model);N/A (JIT Model);N/A (JIT Model);Quantization Aware Training. Epoch data refers to QAT fine-tuning. Evaluation metrics from original log.\n",
    "resnet50_trt_fp16;ResNet50;TensorRT;TensorRT FP16;Precision: FP16;0.6505;0.8746;67.38;0;0.0;;6.36;4.133742592;25.557032;25.557032;TensorRT FP16 optimization applied to ResNet50 baseline.\n",
    "resnet50_trt_fp32;ResNet50;TensorRT;TensorRT FP32;Precision: FP32;0.6492;0.8751;162.20;0;0.0;;18.15;4.133742592;25.557032;25.557032;TensorRT FP32 optimization applied to ResNet50 baseline.\n",
    "resnet18_distilled_trt_fp16;ResNet18;Combined;Distillation + TensorRT FP16;Precision: FP16;0.53836;0.80270;31.02;0;0.0;;2.52;1.824033792;11.689512;11.689512;TensorRT FP16 optimization applied to a distilled, pretrained ResNet18.\n",
    "resnet18_distilled_trt_fp32;ResNet18;Combined;Distillation + TensorRT FP32;Precision: FP32;0.53785;0.80270;96.01;0;0.0;;8.12;1.824033792;11.689512;11.689512;TensorRT FP32 optimization applied to a distilled, pretrained ResNet18.\n",
    ";;;;;;;;;;;;;;;\n",
    "\"\"\"\n",
    "\n",
    "# --- 1. Data Loading and Cleaning ---\n",
    "df = pd.read_csv(io.StringIO(csv_data), sep=';')\n",
    "df.dropna(how='all', inplace=True)\n",
    "df.columns = df.columns.str.replace(' \\(.*\\)', '', regex=True).str.replace(' ', '_')\n",
    "\n",
    "numeric_cols = [\n",
    "    'Top_1_Acc', 'Top_5_Acc', 'Model_Size_MB_Disk', 'FT_Epochs_Run',\n",
    "    'FT_Time_seconds', 'Inference_Time_ms_CPU', 'Inference_Time_ms_GPU',\n",
    "    'flops_gmacs', 'params_millions', 'non_zero_params'\n",
    "]\n",
    "\n",
    "for col in numeric_cols:\n",
    "    df[col] = pd.to_numeric(df[col], errors='coerce')\n",
    "\n",
    "df['Top_1_Acc_Percent'] = df['Top_1_Acc'] * 100\n",
    "df['Top_5_Acc_Percent'] = df['Top_5_Acc'] * 100\n",
    "\n",
    "# ----------------- FIX: Handle NaN values for size parameters -----------------\n",
    "# The 'size' parameter in Plotly cannot handle NaN values. We will fill them\n",
    "# with 0, so these points are still plotted but with a minimum size.\n",
    "# This affects both 'params_millions' for the first plot and 'flops_gmacs' for the second.\n",
    "df['params_millions'].fillna(0, inplace=True)\n",
    "df['flops_gmacs'].fillna(0, inplace=True)\n",
    "# -------------------------------------------------------------------------------\n",
    "\n",
    "\n",
    "# --- 2. Create the Interactive Plot ---\n",
    "\n",
    "# Plot 1: Accuracy vs. Model Size\n",
    "fig1 = px.scatter(\n",
    "    df,\n",
    "    x=\"Model_Size_MB_Disk\",\n",
    "    y=\"Top_1_Acc_Percent\",\n",
    "    color=\"Optimization_Category\",\n",
    "    symbol=\"Base_Model_Arch\",\n",
    "    size=\"params_millions\",\n",
    "    hover_name=\"Experiment_ID\",\n",
    "    hover_data={\n",
    "        \"Specific_Technique\": True,\n",
    "        \"Top_1_Acc_Percent\": ':.2f}%',\n",
    "        \"Model_Size_MB_Disk\": ':.2f} MB',\n",
    "        \"Inference_Time_ms_CPU\": ':.2f} ms',\n",
    "        \"params_millions\": ':.2f}M'\n",
    "    },\n",
    "    template=\"plotly_dark\",\n",
    "    title=\"<b>Model Performance vs. Size</b> (Accuracy vs. Disk Footprint)\"\n",
    ")\n",
    "\n",
    "fig1.update_layout(\n",
    "    xaxis_title=\"Model Size on Disk (MB)\",\n",
    "    yaxis_title=\"Top-1 Accuracy (%)\",\n",
    "    legend_title=\"Optimization Category\",\n",
    "    font=dict(family=\"Arial, sans-serif\", size=12)\n",
    ")\n",
    "fig1.update_traces(marker=dict(line=dict(width=1, color='White')))\n",
    "\n",
    "# Plot 2: Accuracy vs. CPU Inference Time\n",
    "fig2 = px.scatter(\n",
    "    df,\n",
    "    x=\"Inference_Time_ms_CPU\",\n",
    "    y=\"Top_1_Acc_Percent\",\n",
    "    color=\"Optimization_Category\",\n",
    "    symbol=\"Base_Model_Arch\",\n",
    "    size=\"flops_gmacs\",\n",
    "    hover_name=\"Experiment_ID\",\n",
    "    hover_data={\n",
    "        \"Specific_Technique\": True,\n",
    "        \"Top_1_Acc_Percent\": ':.2f}%',\n",
    "        \"Model_Size_MB_Disk\": ':.2f} MB',\n",
    "        \"Inference_Time_ms_CPU\": ':.2f} ms',\n",
    "        \"flops_gmacs\": ':.2f}G'\n",
    "    },\n",
    "    template=\"plotly_dark\",\n",
    "    title=\"<b>Model Performance vs. Speed</b> (Accuracy vs. CPU Inference Time)\"\n",
    ")\n",
    "\n",
    "fig2.update_layout(\n",
    "    xaxis_title=\"CPU Inference Time (ms, Batch Size 1)\",\n",
    "    yaxis_title=\"Top-1 Accuracy (%)\",\n",
    "    legend_title=\"Optimization Category\",\n",
    "    font=dict(family=\"Arial, sans-serif\", size=12)\n",
    ")\n",
    "fig2.update_traces(marker=dict(line=dict(width=1, color='White')))\n",
    "\n",
    "\n",
    "# --- 3. Save and Show the Plots ---\n",
    "fig1.write_html(\"model_performance_vs_size.html\")\n",
    "fig2.write_html(\"model_performance_vs_speed.html\")\n",
    "\n",
    "fig1.show()\n",
    "fig2.show()\n",
    "\n",
    "print(\"Interactive plots have been saved as 'model_performance_vs_size.html' and 'model_performance_vs_speed.html'\")"
   ]
  },
  {
   "cell_type": "code",
   "execution_count": 2,
   "id": "2faeab42",
   "metadata": {},
   "outputs": [
    {
     "data": {
      "application/vnd.plotly.v1+json": {
       "config": {
        "plotlyServerURL": "https://plot.ly"
       },
       "data": [
        {
         "branchvalues": "total",
         "customdata": {
          "bdata": "IQclzLRVRkAQJRh6awtJQGXCL/XzclhA2LNUmtE8UEDh0cYRa1VGQJGMUtV510pAtOVciquaJkC2sGQDhGNJQNLj9zb9mSZALZVmNA+tSkC3f2WlSZkmQC98C3Apx0pAy2d5HtxVVkCF1eiw09xBQIwQHm0cc1hABW6uVcUQUEBos+pztVNVQNPdDdTHwUNAZTbIJCOBVEBLh/6RPt9DQAg4hCo1VnJAmjpaATsVTUBjesISj1ZyQOvCtwCXckxA7dgIxOtyWEBpZZr2LztQQEW7Cik/8ThAbBGXl79YTkBxWvCir/A4QEkCDz5zPlBAq+y7IvjvOEDujVvHi5ZQQLgehetR2FBAMzMzMzNDUEBmZmZmZkZkQHsUrkfhOlBAhetRuB4FP0BeukkMAutKQHE9CtejAFhAFa5H4XrkSkAhByXMtFVGQBAlGHprC0lAZcIv9fNyWEDYs1Sa0TxQQDW1bK0vs2lAjyHg+9HISkDLZ3ke3FVWQIXV6LDT3EFAgXhdv2CfikBHow88tmRLQMNM27+yk2VABTTAvrkhUEDC9Shcj7JsQGyFPWVSPVBAclXZd8U5dUA6ymB7YjVIQLdAguKnH5VACIBZKRk/TUA=",
          "dtype": "f8",
          "shape": "29, 2"
         },
         "domain": {
          "x": [
           0,
           1
          ],
          "y": [
           0,
           1
          ]
         },
         "hovertemplate": "<b>%{hovertext}</b><br><br>labels=%{label}<br>Model_Size_MB_Disk=%{customdata[0]:.2f} MB}<br>parent=%{parent}<br>id=%{id}<br>Top_1_Acc_Percent=%{color}<extra></extra>",
         "hovertext": [
          "Baseline",
          "Baseline",
          "KMeans Quant",
          "PTQ INT8 (Per-Channel)",
          "PTQ INT8 (Per-Tensor)",
          "QAT INT8",
          "Knowledge Distillation",
          "N:M Sparsity",
          "Iterative Structured Pruning (L1 Filter)",
          "One-Shot Structured Pruning (L1 Filter)",
          "Iterative Unstructured Pruning (L1)",
          "One-Shot Unstructured Pruning (L1)",
          "KMeans Quant",
          "PTQ INT8 (Per-Channel)",
          "PTQ INT8 (Per-Tensor)",
          "QAT INT8",
          "TensorRT FP16",
          "TensorRT FP32",
          "Distillation + TensorRT FP16",
          "Distillation + TensorRT FP32",
          "Baseline",
          "Baseline",
          "(?)",
          "Knowledge Distillation",
          "(?)",
          "(?)",
          "(?)",
          "(?)",
          "(?)"
         ],
         "ids": [
          "ResNet18/Baseline/Baseline",
          "ResNet50/Baseline/Baseline",
          "ResNet18/Combined/KMeans Quant",
          "ResNet18/Combined/PTQ INT8 (Per-Channel)",
          "ResNet18/Combined/PTQ INT8 (Per-Tensor)",
          "ResNet18/Combined/QAT INT8",
          "ResNet18/Knowledge Distillation/Knowledge Distillation",
          "ResNet50/Pruning/N:M Sparsity",
          "ResNet50/Pruning/Iterative Structured Pruning (L1 Filter)",
          "ResNet50/Pruning/One-Shot Structured Pruning (L1 Filter)",
          "ResNet50/Pruning/Iterative Unstructured Pruning (L1)",
          "ResNet50/Pruning/One-Shot Unstructured Pruning (L1)",
          "ResNet50/Quantization/KMeans Quant",
          "ResNet50/Quantization/PTQ INT8 (Per-Channel)",
          "ResNet50/Quantization/PTQ INT8 (Per-Tensor)",
          "ResNet50/Quantization/QAT INT8",
          "ResNet50/TensorRT/TensorRT FP16",
          "ResNet50/TensorRT/TensorRT FP32",
          "ResNet18/Combined/Distillation + TensorRT FP16",
          "ResNet18/Combined/Distillation + TensorRT FP32",
          "ResNet18/Baseline",
          "ResNet50/Baseline",
          "ResNet18/Combined",
          "ResNet18/Knowledge Distillation",
          "ResNet50/Pruning",
          "ResNet50/Quantization",
          "ResNet50/TensorRT",
          "ResNet18",
          "ResNet50"
         ],
         "labels": [
          "Baseline",
          "Baseline",
          "KMeans Quant",
          "PTQ INT8 (Per-Channel)",
          "PTQ INT8 (Per-Tensor)",
          "QAT INT8",
          "Knowledge Distillation",
          "N:M Sparsity",
          "Iterative Structured Pruning (L1 Filter)",
          "One-Shot Structured Pruning (L1 Filter)",
          "Iterative Unstructured Pruning (L1)",
          "One-Shot Unstructured Pruning (L1)",
          "KMeans Quant",
          "PTQ INT8 (Per-Channel)",
          "PTQ INT8 (Per-Tensor)",
          "QAT INT8",
          "TensorRT FP16",
          "TensorRT FP32",
          "Distillation + TensorRT FP16",
          "Distillation + TensorRT FP32",
          "Baseline",
          "Baseline",
          "Combined",
          "Knowledge Distillation",
          "Pruning",
          "Quantization",
          "TensorRT",
          "ResNet18",
          "ResNet50"
         ],
         "marker": {
          "coloraxis": "coloraxis",
          "colors": {
           "bdata": "ECUYemsLSUDYs1Sa0TxQQJGMUtV510pAtrBkA4RjSUAtlWY0D61KQC98C3Apx0pAhdXosNPcQUAFbq5VxRBQQNPdDdTHwUNAS4f+kT7fQ0CaOloBOxVNQOvCtwCXckxAaWWa9i87UEBsEZeXv1hOQEkCDz5zPlBA7o1bx4uWUEAzMzMzM0NQQHsUrkfhOlBAXrpJDALrSkAVrkfheuRKQBAlGHprC0lA2LNUmtE8UECPIeD70chKQIXV6LDT3EFAR6MPPLZkS0AFNMC+uSFQQGyFPWVSPVBAOspge2I1SEAIgFkpGT9NQA==",
           "dtype": "f8"
          }
         },
         "name": "",
         "parents": [
          "ResNet18/Baseline",
          "ResNet50/Baseline",
          "ResNet18/Combined",
          "ResNet18/Combined",
          "ResNet18/Combined",
          "ResNet18/Combined",
          "ResNet18/Knowledge Distillation",
          "ResNet50/Pruning",
          "ResNet50/Pruning",
          "ResNet50/Pruning",
          "ResNet50/Pruning",
          "ResNet50/Pruning",
          "ResNet50/Quantization",
          "ResNet50/Quantization",
          "ResNet50/Quantization",
          "ResNet50/Quantization",
          "ResNet50/TensorRT",
          "ResNet50/TensorRT",
          "ResNet18/Combined",
          "ResNet18/Combined",
          "ResNet18",
          "ResNet50",
          "ResNet18",
          "ResNet18",
          "ResNet50",
          "ResNet50",
          "ResNet50",
          "",
          ""
         ],
         "type": "sunburst",
         "values": {
          "bdata": "IQclzLRVRkBlwi/183JYQOHRxhFrVUZAtOVciquaJkDS4/c2/ZkmQLd/ZaVJmSZAy2d5HtxVVkCMEB5tHHNYQGiz6nO1U1VAZTbIJCOBVEAIOIQqNVZyQGN6whKPVnJA7dgIxOtyWEBFuwopP/E4QHFa8KKv8DhAq+y7IvjvOEC4HoXrUdhQQGZmZmZmRmRAhetRuB4FP0BxPQrXowBYQCEHJcy0VUZAZcIv9fNyWEA1tWytL7NpQMtneR7cVVZAgXhdv2CfikDDTNu/spNlQML1KFyPsmxAclXZd8U5dUC3QILipx+VQA==",
          "dtype": "f8"
         }
        }
       ],
       "layout": {
        "coloraxis": {
         "colorbar": {
          "title": {
           "text": "Top_1_Acc_Percent"
          }
         },
         "colorscale": [
          [
           0,
           "rgb(165,0,38)"
          ],
          [
           0.1,
           "rgb(215,48,39)"
          ],
          [
           0.2,
           "rgb(244,109,67)"
          ],
          [
           0.3,
           "rgb(253,174,97)"
          ],
          [
           0.4,
           "rgb(254,224,139)"
          ],
          [
           0.5,
           "rgb(255,255,191)"
          ],
          [
           0.6,
           "rgb(217,239,139)"
          ],
          [
           0.7,
           "rgb(166,217,106)"
          ],
          [
           0.8,
           "rgb(102,189,99)"
          ],
          [
           0.9,
           "rgb(26,152,80)"
          ],
          [
           1,
           "rgb(0,104,55)"
          ]
         ]
        },
        "legend": {
         "tracegroupgap": 0
        },
        "template": {
         "data": {
          "bar": [
           {
            "error_x": {
             "color": "#f2f5fa"
            },
            "error_y": {
             "color": "#f2f5fa"
            },
            "marker": {
             "line": {
              "color": "rgb(17,17,17)",
              "width": 0.5
             },
             "pattern": {
              "fillmode": "overlay",
              "size": 10,
              "solidity": 0.2
             }
            },
            "type": "bar"
           }
          ],
          "barpolar": [
           {
            "marker": {
             "line": {
              "color": "rgb(17,17,17)",
              "width": 0.5
             },
             "pattern": {
              "fillmode": "overlay",
              "size": 10,
              "solidity": 0.2
             }
            },
            "type": "barpolar"
           }
          ],
          "carpet": [
           {
            "aaxis": {
             "endlinecolor": "#A2B1C6",
             "gridcolor": "#506784",
             "linecolor": "#506784",
             "minorgridcolor": "#506784",
             "startlinecolor": "#A2B1C6"
            },
            "baxis": {
             "endlinecolor": "#A2B1C6",
             "gridcolor": "#506784",
             "linecolor": "#506784",
             "minorgridcolor": "#506784",
             "startlinecolor": "#A2B1C6"
            },
            "type": "carpet"
           }
          ],
          "choropleth": [
           {
            "colorbar": {
             "outlinewidth": 0,
             "ticks": ""
            },
            "type": "choropleth"
           }
          ],
          "contour": [
           {
            "colorbar": {
             "outlinewidth": 0,
             "ticks": ""
            },
            "colorscale": [
             [
              0,
              "#0d0887"
             ],
             [
              0.1111111111111111,
              "#46039f"
             ],
             [
              0.2222222222222222,
              "#7201a8"
             ],
             [
              0.3333333333333333,
              "#9c179e"
             ],
             [
              0.4444444444444444,
              "#bd3786"
             ],
             [
              0.5555555555555556,
              "#d8576b"
             ],
             [
              0.6666666666666666,
              "#ed7953"
             ],
             [
              0.7777777777777778,
              "#fb9f3a"
             ],
             [
              0.8888888888888888,
              "#fdca26"
             ],
             [
              1,
              "#f0f921"
             ]
            ],
            "type": "contour"
           }
          ],
          "contourcarpet": [
           {
            "colorbar": {
             "outlinewidth": 0,
             "ticks": ""
            },
            "type": "contourcarpet"
           }
          ],
          "heatmap": [
           {
            "colorbar": {
             "outlinewidth": 0,
             "ticks": ""
            },
            "colorscale": [
             [
              0,
              "#0d0887"
             ],
             [
              0.1111111111111111,
              "#46039f"
             ],
             [
              0.2222222222222222,
              "#7201a8"
             ],
             [
              0.3333333333333333,
              "#9c179e"
             ],
             [
              0.4444444444444444,
              "#bd3786"
             ],
             [
              0.5555555555555556,
              "#d8576b"
             ],
             [
              0.6666666666666666,
              "#ed7953"
             ],
             [
              0.7777777777777778,
              "#fb9f3a"
             ],
             [
              0.8888888888888888,
              "#fdca26"
             ],
             [
              1,
              "#f0f921"
             ]
            ],
            "type": "heatmap"
           }
          ],
          "histogram": [
           {
            "marker": {
             "pattern": {
              "fillmode": "overlay",
              "size": 10,
              "solidity": 0.2
             }
            },
            "type": "histogram"
           }
          ],
          "histogram2d": [
           {
            "colorbar": {
             "outlinewidth": 0,
             "ticks": ""
            },
            "colorscale": [
             [
              0,
              "#0d0887"
             ],
             [
              0.1111111111111111,
              "#46039f"
             ],
             [
              0.2222222222222222,
              "#7201a8"
             ],
             [
              0.3333333333333333,
              "#9c179e"
             ],
             [
              0.4444444444444444,
              "#bd3786"
             ],
             [
              0.5555555555555556,
              "#d8576b"
             ],
             [
              0.6666666666666666,
              "#ed7953"
             ],
             [
              0.7777777777777778,
              "#fb9f3a"
             ],
             [
              0.8888888888888888,
              "#fdca26"
             ],
             [
              1,
              "#f0f921"
             ]
            ],
            "type": "histogram2d"
           }
          ],
          "histogram2dcontour": [
           {
            "colorbar": {
             "outlinewidth": 0,
             "ticks": ""
            },
            "colorscale": [
             [
              0,
              "#0d0887"
             ],
             [
              0.1111111111111111,
              "#46039f"
             ],
             [
              0.2222222222222222,
              "#7201a8"
             ],
             [
              0.3333333333333333,
              "#9c179e"
             ],
             [
              0.4444444444444444,
              "#bd3786"
             ],
             [
              0.5555555555555556,
              "#d8576b"
             ],
             [
              0.6666666666666666,
              "#ed7953"
             ],
             [
              0.7777777777777778,
              "#fb9f3a"
             ],
             [
              0.8888888888888888,
              "#fdca26"
             ],
             [
              1,
              "#f0f921"
             ]
            ],
            "type": "histogram2dcontour"
           }
          ],
          "mesh3d": [
           {
            "colorbar": {
             "outlinewidth": 0,
             "ticks": ""
            },
            "type": "mesh3d"
           }
          ],
          "parcoords": [
           {
            "line": {
             "colorbar": {
              "outlinewidth": 0,
              "ticks": ""
             }
            },
            "type": "parcoords"
           }
          ],
          "pie": [
           {
            "automargin": true,
            "type": "pie"
           }
          ],
          "scatter": [
           {
            "marker": {
             "line": {
              "color": "#283442"
             }
            },
            "type": "scatter"
           }
          ],
          "scatter3d": [
           {
            "line": {
             "colorbar": {
              "outlinewidth": 0,
              "ticks": ""
             }
            },
            "marker": {
             "colorbar": {
              "outlinewidth": 0,
              "ticks": ""
             }
            },
            "type": "scatter3d"
           }
          ],
          "scattercarpet": [
           {
            "marker": {
             "colorbar": {
              "outlinewidth": 0,
              "ticks": ""
             }
            },
            "type": "scattercarpet"
           }
          ],
          "scattergeo": [
           {
            "marker": {
             "colorbar": {
              "outlinewidth": 0,
              "ticks": ""
             }
            },
            "type": "scattergeo"
           }
          ],
          "scattergl": [
           {
            "marker": {
             "line": {
              "color": "#283442"
             }
            },
            "type": "scattergl"
           }
          ],
          "scattermap": [
           {
            "marker": {
             "colorbar": {
              "outlinewidth": 0,
              "ticks": ""
             }
            },
            "type": "scattermap"
           }
          ],
          "scattermapbox": [
           {
            "marker": {
             "colorbar": {
              "outlinewidth": 0,
              "ticks": ""
             }
            },
            "type": "scattermapbox"
           }
          ],
          "scatterpolar": [
           {
            "marker": {
             "colorbar": {
              "outlinewidth": 0,
              "ticks": ""
             }
            },
            "type": "scatterpolar"
           }
          ],
          "scatterpolargl": [
           {
            "marker": {
             "colorbar": {
              "outlinewidth": 0,
              "ticks": ""
             }
            },
            "type": "scatterpolargl"
           }
          ],
          "scatterternary": [
           {
            "marker": {
             "colorbar": {
              "outlinewidth": 0,
              "ticks": ""
             }
            },
            "type": "scatterternary"
           }
          ],
          "surface": [
           {
            "colorbar": {
             "outlinewidth": 0,
             "ticks": ""
            },
            "colorscale": [
             [
              0,
              "#0d0887"
             ],
             [
              0.1111111111111111,
              "#46039f"
             ],
             [
              0.2222222222222222,
              "#7201a8"
             ],
             [
              0.3333333333333333,
              "#9c179e"
             ],
             [
              0.4444444444444444,
              "#bd3786"
             ],
             [
              0.5555555555555556,
              "#d8576b"
             ],
             [
              0.6666666666666666,
              "#ed7953"
             ],
             [
              0.7777777777777778,
              "#fb9f3a"
             ],
             [
              0.8888888888888888,
              "#fdca26"
             ],
             [
              1,
              "#f0f921"
             ]
            ],
            "type": "surface"
           }
          ],
          "table": [
           {
            "cells": {
             "fill": {
              "color": "#506784"
             },
             "line": {
              "color": "rgb(17,17,17)"
             }
            },
            "header": {
             "fill": {
              "color": "#2a3f5f"
             },
             "line": {
              "color": "rgb(17,17,17)"
             }
            },
            "type": "table"
           }
          ]
         },
         "layout": {
          "annotationdefaults": {
           "arrowcolor": "#f2f5fa",
           "arrowhead": 0,
           "arrowwidth": 1
          },
          "autotypenumbers": "strict",
          "coloraxis": {
           "colorbar": {
            "outlinewidth": 0,
            "ticks": ""
           }
          },
          "colorscale": {
           "diverging": [
            [
             0,
             "#8e0152"
            ],
            [
             0.1,
             "#c51b7d"
            ],
            [
             0.2,
             "#de77ae"
            ],
            [
             0.3,
             "#f1b6da"
            ],
            [
             0.4,
             "#fde0ef"
            ],
            [
             0.5,
             "#f7f7f7"
            ],
            [
             0.6,
             "#e6f5d0"
            ],
            [
             0.7,
             "#b8e186"
            ],
            [
             0.8,
             "#7fbc41"
            ],
            [
             0.9,
             "#4d9221"
            ],
            [
             1,
             "#276419"
            ]
           ],
           "sequential": [
            [
             0,
             "#0d0887"
            ],
            [
             0.1111111111111111,
             "#46039f"
            ],
            [
             0.2222222222222222,
             "#7201a8"
            ],
            [
             0.3333333333333333,
             "#9c179e"
            ],
            [
             0.4444444444444444,
             "#bd3786"
            ],
            [
             0.5555555555555556,
             "#d8576b"
            ],
            [
             0.6666666666666666,
             "#ed7953"
            ],
            [
             0.7777777777777778,
             "#fb9f3a"
            ],
            [
             0.8888888888888888,
             "#fdca26"
            ],
            [
             1,
             "#f0f921"
            ]
           ],
           "sequentialminus": [
            [
             0,
             "#0d0887"
            ],
            [
             0.1111111111111111,
             "#46039f"
            ],
            [
             0.2222222222222222,
             "#7201a8"
            ],
            [
             0.3333333333333333,
             "#9c179e"
            ],
            [
             0.4444444444444444,
             "#bd3786"
            ],
            [
             0.5555555555555556,
             "#d8576b"
            ],
            [
             0.6666666666666666,
             "#ed7953"
            ],
            [
             0.7777777777777778,
             "#fb9f3a"
            ],
            [
             0.8888888888888888,
             "#fdca26"
            ],
            [
             1,
             "#f0f921"
            ]
           ]
          },
          "colorway": [
           "#636efa",
           "#EF553B",
           "#00cc96",
           "#ab63fa",
           "#FFA15A",
           "#19d3f3",
           "#FF6692",
           "#B6E880",
           "#FF97FF",
           "#FECB52"
          ],
          "font": {
           "color": "#f2f5fa"
          },
          "geo": {
           "bgcolor": "rgb(17,17,17)",
           "lakecolor": "rgb(17,17,17)",
           "landcolor": "rgb(17,17,17)",
           "showlakes": true,
           "showland": true,
           "subunitcolor": "#506784"
          },
          "hoverlabel": {
           "align": "left"
          },
          "hovermode": "closest",
          "mapbox": {
           "style": "dark"
          },
          "paper_bgcolor": "rgb(17,17,17)",
          "plot_bgcolor": "rgb(17,17,17)",
          "polar": {
           "angularaxis": {
            "gridcolor": "#506784",
            "linecolor": "#506784",
            "ticks": ""
           },
           "bgcolor": "rgb(17,17,17)",
           "radialaxis": {
            "gridcolor": "#506784",
            "linecolor": "#506784",
            "ticks": ""
           }
          },
          "scene": {
           "xaxis": {
            "backgroundcolor": "rgb(17,17,17)",
            "gridcolor": "#506784",
            "gridwidth": 2,
            "linecolor": "#506784",
            "showbackground": true,
            "ticks": "",
            "zerolinecolor": "#C8D4E3"
           },
           "yaxis": {
            "backgroundcolor": "rgb(17,17,17)",
            "gridcolor": "#506784",
            "gridwidth": 2,
            "linecolor": "#506784",
            "showbackground": true,
            "ticks": "",
            "zerolinecolor": "#C8D4E3"
           },
           "zaxis": {
            "backgroundcolor": "rgb(17,17,17)",
            "gridcolor": "#506784",
            "gridwidth": 2,
            "linecolor": "#506784",
            "showbackground": true,
            "ticks": "",
            "zerolinecolor": "#C8D4E3"
           }
          },
          "shapedefaults": {
           "line": {
            "color": "#f2f5fa"
           }
          },
          "sliderdefaults": {
           "bgcolor": "#C8D4E3",
           "bordercolor": "rgb(17,17,17)",
           "borderwidth": 1,
           "tickwidth": 0
          },
          "ternary": {
           "aaxis": {
            "gridcolor": "#506784",
            "linecolor": "#506784",
            "ticks": ""
           },
           "baxis": {
            "gridcolor": "#506784",
            "linecolor": "#506784",
            "ticks": ""
           },
           "bgcolor": "rgb(17,17,17)",
           "caxis": {
            "gridcolor": "#506784",
            "linecolor": "#506784",
            "ticks": ""
           }
          },
          "title": {
           "x": 0.05
          },
          "updatemenudefaults": {
           "bgcolor": "#506784",
           "borderwidth": 0
          },
          "xaxis": {
           "automargin": true,
           "gridcolor": "#283442",
           "linecolor": "#506784",
           "ticks": "",
           "title": {
            "standoff": 15
           },
           "zerolinecolor": "#283442",
           "zerolinewidth": 2
          },
          "yaxis": {
           "automargin": true,
           "gridcolor": "#283442",
           "linecolor": "#506784",
           "ticks": "",
           "title": {
            "standoff": 15
           },
           "zerolinecolor": "#283442",
           "zerolinewidth": 2
          }
         }
        },
        "title": {
         "text": "<b>Hierarchical Overview of Optimization Experiments</b><br>(Slice size = Model Size, Color = Top-1 Accuracy)"
        }
       }
      }
     },
     "metadata": {},
     "output_type": "display_data"
    }
   ],
   "source": [
    "# --- Idea 1: Sunburst Chart ---\n",
    "# (Add this code to your existing script after the data cleaning)\n",
    "\n",
    "sunburst_fig = px.sunburst(\n",
    "    df.dropna(subset=['Top_1_Acc_Percent', 'Model_Size_MB_Disk']), # Drop rows where color/value is NaN\n",
    "    path=['Base_Model_Arch', 'Optimization_Category', 'Specific_Technique'],\n",
    "    values='Model_Size_MB_Disk',\n",
    "    color='Top_1_Acc_Percent',\n",
    "    color_continuous_scale='RdYlGn', # Red-Yellow-Green scale shows bad-to-good\n",
    "    hover_name='Specific_Technique',\n",
    "    hover_data={'Model_Size_MB_Disk': ':.2f} MB'},\n",
    "    title='<b>Hierarchical Overview of Optimization Experiments</b><br>(Slice size = Model Size, Color = Top-1 Accuracy)',\n",
    "    template='plotly_dark'\n",
    ")\n",
    "\n",
    "sunburst_fig.show()\n",
    "sunburst_fig.write_html(\"overview_sunburst.html\")"
   ]
  },
  {
   "cell_type": "code",
   "execution_count": 3,
   "id": "11ec8606",
   "metadata": {},
   "outputs": [
    {
     "data": {
      "application/vnd.plotly.v1+json": {
       "config": {
        "plotlyServerURL": "https://plot.ly"
       },
       "data": [
        {
         "alignmentgroup": "True",
         "boxpoints": "all",
         "customdata": {
          "bdata": "CStOSMmzHEDPNkxzF/z1P2w3k65UDhpA4mp8+TmvG0Br6tA3vusdQDVK/Cd7gx1A",
          "dtype": "f8",
          "shape": "6, 1"
         },
         "hovertemplate": "<b>%{hovertext}</b><br><br>Optimization_Category=%{x}<br>Base_Model_Arch=ResNet18<br>Size_Reduction_%=%{y}<br>Accuracy_Change_%=%{customdata[0]}<extra></extra>",
         "hovertext": [
          "resnet18pretrained_distilled_quant_kmeans_256clusters_post",
          "resnet18pretrained_distilled_quant_ptq_int8_perchannel_post",
          "resnet18pretrained_distilled_quant_ptq_int8_pertensor_post",
          "resnet18pretrained_distilled_quant_qat_int8_epochs8",
          "resnet18_distilled_trt_fp16",
          "resnet18_distilled_trt_fp32"
         ],
         "legendgroup": "Combined",
         "marker": {
          "color": "#636efa"
         },
         "name": "Combined",
         "notched": false,
         "offsetgroup": "Combined",
         "orientation": "v",
         "showlegend": true,
         "type": "box",
         "x": [
          "Combined",
          "Combined",
          "Combined",
          "Combined",
          "Combined",
          "Combined"
         ],
         "x0": " ",
         "xaxis": "x",
         "y": {
          "bdata": "2c67VqmhdD/OPxShs6xSQLM0RmnkrFJAH+ANqRatUkDorLtbiI4+QEqfZ2/Cu1zA",
          "dtype": "f8"
         },
         "y0": " ",
         "yaxis": "y"
        },
        {
         "alignmentgroup": "True",
         "boxpoints": "all",
         "customdata": {
          "bdata": "Mesfl1i4HUDKQQNjKDJQwA==",
          "dtype": "f8",
          "shape": "2, 1"
         },
         "hovertemplate": "<b>%{hovertext}</b><br><br>Optimization_Category=%{x}<br>Base_Model_Arch=ResNet18<br>Size_Reduction_%=%{y}<br>Accuracy_Change_%=%{customdata[0]}<extra></extra>",
         "hovertext": [
          "resnet50_to_resnet18pretrained_kd",
          "resnet50_to_resnet18scratch_kd"
         ],
         "legendgroup": "Knowledge Distillation",
         "marker": {
          "color": "#EF553B"
         },
         "name": "Knowledge Distillation",
         "notched": false,
         "offsetgroup": "Knowledge Distillation",
         "orientation": "v",
         "showlegend": true,
         "type": "box",
         "x": [
          "Knowledge Distillation",
          "Knowledge Distillation"
         ],
         "x0": " ",
         "xaxis": "x",
         "y": {
          "bdata": "pwXZscUBZr+nBdmxxQFmvw==",
          "dtype": "f8"
         },
         "y0": " ",
         "yaxis": "y"
        },
        {
         "alignmentgroup": "True",
         "boxpoints": "all",
         "customdata": {
          "bdata": "xeoYalj08L8mdItJvR03wIOXU/ByCkvA5OWrBHv3U8AclVEZlVEvwAjO3uzNgFDA1lzN1VzNVsArvJe99j/7P5ue724/fhLAfD2z6hhqPMBNX8+sOoYCQOoaQTatZQ/AWcknoVvMQcA=",
          "dtype": "f8",
          "shape": "13, 1"
         },
         "hovertemplate": "<b>%{hovertext}</b><br><br>Optimization_Category=%{x}<br>Base_Model_Arch=ResNet50<br>Size_Reduction_%=%{y}<br>Accuracy_Change_%=%{customdata[0]}<extra></extra>",
         "hovertext": [
          "resnet50_prune_nm24_ft",
          "resnet50_prune_struct_it_l1filter_stage1_approx_sp50_ft",
          "resnet50_prune_struct_it_l1filter_stage2_approx_sp75_ft",
          "resnet50_prune_struct_it_l1filter_stage3_approx_sp90_ft",
          "resnet50_prune_struct_os_l1filter_fp30_ft",
          "resnet50_prune_struct_os_l1filter_fp55_ft",
          "resnet50_prune_struct_os_l1filter_fp70_ft",
          "resnet50_prune_unstruct_it_l1_stage1_sp50_ft",
          "resnet50_prune_unstruct_it_l1_stage2_sp75_ft",
          "resnet50_prune_unstruct_it_l1_stage3_sp90_ft",
          "resnet50_prune_unstruct_os_l1_sp50_ft",
          "resnet50_prune_unstruct_os_l1_sp75_ft",
          "resnet50_prune_unstruct_os_l1_sp90_ft"
         ],
         "legendgroup": "Pruning",
         "marker": {
          "color": "#00cc96"
         },
         "name": "Pruning",
         "notched": false,
         "offsetgroup": "Pruning",
         "orientation": "v",
         "showlegend": true,
         "type": "box",
         "x": [
          "Pruning",
          "Pruning",
          "Pruning",
          "Pruning",
          "Pruning",
          "Pruning",
          "Pruning",
          "Pruning",
          "Pruning",
          "Pruning",
          "Pruning",
          "Pruning",
          "Pruning"
         ],
         "x0": " ",
         "xaxis": "x2",
         "y": {
          "bdata": "m2LFfbKwZL9FB2HZo6NIQBVb1US2e1JAVAVWK7ljVkBw6LUtpaRIQPbVvfFjaVNAuFcf7ttMVkABEoN475VwPwESg3jvlXA/8fi+qhlUf79A0sZntwd+v0DSxme3B36/QNLGZ7cHfr8=",
          "dtype": "f8"
         },
         "y0": " ",
         "yaxis": "y2"
        },
        {
         "alignmentgroup": "True",
         "boxpoints": "all",
         "customdata": {
          "bdata": "0s2F7xwYpL9ZmoDAdTcawHHXhe8cGKQ//QHX3bhEAUA=",
          "dtype": "f8",
          "shape": "4, 1"
         },
         "hovertemplate": "<b>%{hovertext}</b><br><br>Optimization_Category=%{x}<br>Base_Model_Arch=ResNet50<br>Size_Reduction_%=%{y}<br>Accuracy_Change_%=%{customdata[0]}<extra></extra>",
         "hovertext": [
          "resnet50_quant_kmeans_256clusters_post",
          "resnet50_quant_ptq_int8_perchannel_post",
          "resnet50_quant_ptq_int8_pertensor_post",
          "resnet50_quant_qat_int8_epochs8"
         ],
         "legendgroup": "Quantization",
         "marker": {
          "color": "#ab63fa"
         },
         "name": "Quantization",
         "notched": false,
         "offsetgroup": "Quantization",
         "orientation": "v",
         "showlegend": true,
         "type": "box",
         "x": [
          "Quantization",
          "Quantization",
          "Quantization",
          "Quantization"
         ],
         "x0": " ",
         "xaxis": "x2",
         "y": {
          "bdata": "uV7829LAQD8j0ywNt59SQD3tsr3bn1JAnrtnpgqgUkA=",
          "dtype": "f8"
         },
         "y0": " ",
         "yaxis": "y2"
        },
        {
         "alignmentgroup": "True",
         "boxpoints": "all",
         "customdata": {
          "bdata": "/nDvrUymwz/HzJCQQ+Gnvw==",
          "dtype": "f8",
          "shape": "2, 1"
         },
         "hovertemplate": "<b>%{hovertext}</b><br><br>Optimization_Category=%{x}<br>Base_Model_Arch=ResNet50<br>Size_Reduction_%=%{y}<br>Accuracy_Change_%=%{customdata[0]}<extra></extra>",
         "hovertext": [
          "resnet50_trt_fp16",
          "resnet50_trt_fp32"
         ],
         "legendgroup": "TensorRT",
         "marker": {
          "color": "#FFA15A"
         },
         "name": "TensorRT",
         "notched": false,
         "offsetgroup": "TensorRT",
         "orientation": "v",
         "showlegend": true,
         "type": "box",
         "x": [
          "TensorRT",
          "TensorRT"
         ],
         "x0": " ",
         "xaxis": "x2",
         "y": {
          "bdata": "Wy6l1AAaP0Ac2infu3ZQwA==",
          "dtype": "f8"
         },
         "y0": " ",
         "yaxis": "y2"
        }
       ],
       "layout": {
        "annotations": [
         {
          "font": {},
          "showarrow": false,
          "text": "Base_Model_Arch=ResNet18",
          "x": 0.245,
          "xanchor": "center",
          "xref": "paper",
          "y": 1,
          "yanchor": "bottom",
          "yref": "paper"
         },
         {
          "font": {},
          "showarrow": false,
          "text": "Base_Model_Arch=ResNet50",
          "x": 0.755,
          "xanchor": "center",
          "xref": "paper",
          "y": 1,
          "yanchor": "bottom",
          "yref": "paper"
         }
        ],
        "boxmode": "overlay",
        "legend": {
         "title": {
          "text": "Optimization_Category"
         },
         "tracegroupgap": 0
        },
        "template": {
         "data": {
          "bar": [
           {
            "error_x": {
             "color": "#f2f5fa"
            },
            "error_y": {
             "color": "#f2f5fa"
            },
            "marker": {
             "line": {
              "color": "rgb(17,17,17)",
              "width": 0.5
             },
             "pattern": {
              "fillmode": "overlay",
              "size": 10,
              "solidity": 0.2
             }
            },
            "type": "bar"
           }
          ],
          "barpolar": [
           {
            "marker": {
             "line": {
              "color": "rgb(17,17,17)",
              "width": 0.5
             },
             "pattern": {
              "fillmode": "overlay",
              "size": 10,
              "solidity": 0.2
             }
            },
            "type": "barpolar"
           }
          ],
          "carpet": [
           {
            "aaxis": {
             "endlinecolor": "#A2B1C6",
             "gridcolor": "#506784",
             "linecolor": "#506784",
             "minorgridcolor": "#506784",
             "startlinecolor": "#A2B1C6"
            },
            "baxis": {
             "endlinecolor": "#A2B1C6",
             "gridcolor": "#506784",
             "linecolor": "#506784",
             "minorgridcolor": "#506784",
             "startlinecolor": "#A2B1C6"
            },
            "type": "carpet"
           }
          ],
          "choropleth": [
           {
            "colorbar": {
             "outlinewidth": 0,
             "ticks": ""
            },
            "type": "choropleth"
           }
          ],
          "contour": [
           {
            "colorbar": {
             "outlinewidth": 0,
             "ticks": ""
            },
            "colorscale": [
             [
              0,
              "#0d0887"
             ],
             [
              0.1111111111111111,
              "#46039f"
             ],
             [
              0.2222222222222222,
              "#7201a8"
             ],
             [
              0.3333333333333333,
              "#9c179e"
             ],
             [
              0.4444444444444444,
              "#bd3786"
             ],
             [
              0.5555555555555556,
              "#d8576b"
             ],
             [
              0.6666666666666666,
              "#ed7953"
             ],
             [
              0.7777777777777778,
              "#fb9f3a"
             ],
             [
              0.8888888888888888,
              "#fdca26"
             ],
             [
              1,
              "#f0f921"
             ]
            ],
            "type": "contour"
           }
          ],
          "contourcarpet": [
           {
            "colorbar": {
             "outlinewidth": 0,
             "ticks": ""
            },
            "type": "contourcarpet"
           }
          ],
          "heatmap": [
           {
            "colorbar": {
             "outlinewidth": 0,
             "ticks": ""
            },
            "colorscale": [
             [
              0,
              "#0d0887"
             ],
             [
              0.1111111111111111,
              "#46039f"
             ],
             [
              0.2222222222222222,
              "#7201a8"
             ],
             [
              0.3333333333333333,
              "#9c179e"
             ],
             [
              0.4444444444444444,
              "#bd3786"
             ],
             [
              0.5555555555555556,
              "#d8576b"
             ],
             [
              0.6666666666666666,
              "#ed7953"
             ],
             [
              0.7777777777777778,
              "#fb9f3a"
             ],
             [
              0.8888888888888888,
              "#fdca26"
             ],
             [
              1,
              "#f0f921"
             ]
            ],
            "type": "heatmap"
           }
          ],
          "histogram": [
           {
            "marker": {
             "pattern": {
              "fillmode": "overlay",
              "size": 10,
              "solidity": 0.2
             }
            },
            "type": "histogram"
           }
          ],
          "histogram2d": [
           {
            "colorbar": {
             "outlinewidth": 0,
             "ticks": ""
            },
            "colorscale": [
             [
              0,
              "#0d0887"
             ],
             [
              0.1111111111111111,
              "#46039f"
             ],
             [
              0.2222222222222222,
              "#7201a8"
             ],
             [
              0.3333333333333333,
              "#9c179e"
             ],
             [
              0.4444444444444444,
              "#bd3786"
             ],
             [
              0.5555555555555556,
              "#d8576b"
             ],
             [
              0.6666666666666666,
              "#ed7953"
             ],
             [
              0.7777777777777778,
              "#fb9f3a"
             ],
             [
              0.8888888888888888,
              "#fdca26"
             ],
             [
              1,
              "#f0f921"
             ]
            ],
            "type": "histogram2d"
           }
          ],
          "histogram2dcontour": [
           {
            "colorbar": {
             "outlinewidth": 0,
             "ticks": ""
            },
            "colorscale": [
             [
              0,
              "#0d0887"
             ],
             [
              0.1111111111111111,
              "#46039f"
             ],
             [
              0.2222222222222222,
              "#7201a8"
             ],
             [
              0.3333333333333333,
              "#9c179e"
             ],
             [
              0.4444444444444444,
              "#bd3786"
             ],
             [
              0.5555555555555556,
              "#d8576b"
             ],
             [
              0.6666666666666666,
              "#ed7953"
             ],
             [
              0.7777777777777778,
              "#fb9f3a"
             ],
             [
              0.8888888888888888,
              "#fdca26"
             ],
             [
              1,
              "#f0f921"
             ]
            ],
            "type": "histogram2dcontour"
           }
          ],
          "mesh3d": [
           {
            "colorbar": {
             "outlinewidth": 0,
             "ticks": ""
            },
            "type": "mesh3d"
           }
          ],
          "parcoords": [
           {
            "line": {
             "colorbar": {
              "outlinewidth": 0,
              "ticks": ""
             }
            },
            "type": "parcoords"
           }
          ],
          "pie": [
           {
            "automargin": true,
            "type": "pie"
           }
          ],
          "scatter": [
           {
            "marker": {
             "line": {
              "color": "#283442"
             }
            },
            "type": "scatter"
           }
          ],
          "scatter3d": [
           {
            "line": {
             "colorbar": {
              "outlinewidth": 0,
              "ticks": ""
             }
            },
            "marker": {
             "colorbar": {
              "outlinewidth": 0,
              "ticks": ""
             }
            },
            "type": "scatter3d"
           }
          ],
          "scattercarpet": [
           {
            "marker": {
             "colorbar": {
              "outlinewidth": 0,
              "ticks": ""
             }
            },
            "type": "scattercarpet"
           }
          ],
          "scattergeo": [
           {
            "marker": {
             "colorbar": {
              "outlinewidth": 0,
              "ticks": ""
             }
            },
            "type": "scattergeo"
           }
          ],
          "scattergl": [
           {
            "marker": {
             "line": {
              "color": "#283442"
             }
            },
            "type": "scattergl"
           }
          ],
          "scattermap": [
           {
            "marker": {
             "colorbar": {
              "outlinewidth": 0,
              "ticks": ""
             }
            },
            "type": "scattermap"
           }
          ],
          "scattermapbox": [
           {
            "marker": {
             "colorbar": {
              "outlinewidth": 0,
              "ticks": ""
             }
            },
            "type": "scattermapbox"
           }
          ],
          "scatterpolar": [
           {
            "marker": {
             "colorbar": {
              "outlinewidth": 0,
              "ticks": ""
             }
            },
            "type": "scatterpolar"
           }
          ],
          "scatterpolargl": [
           {
            "marker": {
             "colorbar": {
              "outlinewidth": 0,
              "ticks": ""
             }
            },
            "type": "scatterpolargl"
           }
          ],
          "scatterternary": [
           {
            "marker": {
             "colorbar": {
              "outlinewidth": 0,
              "ticks": ""
             }
            },
            "type": "scatterternary"
           }
          ],
          "surface": [
           {
            "colorbar": {
             "outlinewidth": 0,
             "ticks": ""
            },
            "colorscale": [
             [
              0,
              "#0d0887"
             ],
             [
              0.1111111111111111,
              "#46039f"
             ],
             [
              0.2222222222222222,
              "#7201a8"
             ],
             [
              0.3333333333333333,
              "#9c179e"
             ],
             [
              0.4444444444444444,
              "#bd3786"
             ],
             [
              0.5555555555555556,
              "#d8576b"
             ],
             [
              0.6666666666666666,
              "#ed7953"
             ],
             [
              0.7777777777777778,
              "#fb9f3a"
             ],
             [
              0.8888888888888888,
              "#fdca26"
             ],
             [
              1,
              "#f0f921"
             ]
            ],
            "type": "surface"
           }
          ],
          "table": [
           {
            "cells": {
             "fill": {
              "color": "#506784"
             },
             "line": {
              "color": "rgb(17,17,17)"
             }
            },
            "header": {
             "fill": {
              "color": "#2a3f5f"
             },
             "line": {
              "color": "rgb(17,17,17)"
             }
            },
            "type": "table"
           }
          ]
         },
         "layout": {
          "annotationdefaults": {
           "arrowcolor": "#f2f5fa",
           "arrowhead": 0,
           "arrowwidth": 1
          },
          "autotypenumbers": "strict",
          "coloraxis": {
           "colorbar": {
            "outlinewidth": 0,
            "ticks": ""
           }
          },
          "colorscale": {
           "diverging": [
            [
             0,
             "#8e0152"
            ],
            [
             0.1,
             "#c51b7d"
            ],
            [
             0.2,
             "#de77ae"
            ],
            [
             0.3,
             "#f1b6da"
            ],
            [
             0.4,
             "#fde0ef"
            ],
            [
             0.5,
             "#f7f7f7"
            ],
            [
             0.6,
             "#e6f5d0"
            ],
            [
             0.7,
             "#b8e186"
            ],
            [
             0.8,
             "#7fbc41"
            ],
            [
             0.9,
             "#4d9221"
            ],
            [
             1,
             "#276419"
            ]
           ],
           "sequential": [
            [
             0,
             "#0d0887"
            ],
            [
             0.1111111111111111,
             "#46039f"
            ],
            [
             0.2222222222222222,
             "#7201a8"
            ],
            [
             0.3333333333333333,
             "#9c179e"
            ],
            [
             0.4444444444444444,
             "#bd3786"
            ],
            [
             0.5555555555555556,
             "#d8576b"
            ],
            [
             0.6666666666666666,
             "#ed7953"
            ],
            [
             0.7777777777777778,
             "#fb9f3a"
            ],
            [
             0.8888888888888888,
             "#fdca26"
            ],
            [
             1,
             "#f0f921"
            ]
           ],
           "sequentialminus": [
            [
             0,
             "#0d0887"
            ],
            [
             0.1111111111111111,
             "#46039f"
            ],
            [
             0.2222222222222222,
             "#7201a8"
            ],
            [
             0.3333333333333333,
             "#9c179e"
            ],
            [
             0.4444444444444444,
             "#bd3786"
            ],
            [
             0.5555555555555556,
             "#d8576b"
            ],
            [
             0.6666666666666666,
             "#ed7953"
            ],
            [
             0.7777777777777778,
             "#fb9f3a"
            ],
            [
             0.8888888888888888,
             "#fdca26"
            ],
            [
             1,
             "#f0f921"
            ]
           ]
          },
          "colorway": [
           "#636efa",
           "#EF553B",
           "#00cc96",
           "#ab63fa",
           "#FFA15A",
           "#19d3f3",
           "#FF6692",
           "#B6E880",
           "#FF97FF",
           "#FECB52"
          ],
          "font": {
           "color": "#f2f5fa"
          },
          "geo": {
           "bgcolor": "rgb(17,17,17)",
           "lakecolor": "rgb(17,17,17)",
           "landcolor": "rgb(17,17,17)",
           "showlakes": true,
           "showland": true,
           "subunitcolor": "#506784"
          },
          "hoverlabel": {
           "align": "left"
          },
          "hovermode": "closest",
          "mapbox": {
           "style": "dark"
          },
          "paper_bgcolor": "rgb(17,17,17)",
          "plot_bgcolor": "rgb(17,17,17)",
          "polar": {
           "angularaxis": {
            "gridcolor": "#506784",
            "linecolor": "#506784",
            "ticks": ""
           },
           "bgcolor": "rgb(17,17,17)",
           "radialaxis": {
            "gridcolor": "#506784",
            "linecolor": "#506784",
            "ticks": ""
           }
          },
          "scene": {
           "xaxis": {
            "backgroundcolor": "rgb(17,17,17)",
            "gridcolor": "#506784",
            "gridwidth": 2,
            "linecolor": "#506784",
            "showbackground": true,
            "ticks": "",
            "zerolinecolor": "#C8D4E3"
           },
           "yaxis": {
            "backgroundcolor": "rgb(17,17,17)",
            "gridcolor": "#506784",
            "gridwidth": 2,
            "linecolor": "#506784",
            "showbackground": true,
            "ticks": "",
            "zerolinecolor": "#C8D4E3"
           },
           "zaxis": {
            "backgroundcolor": "rgb(17,17,17)",
            "gridcolor": "#506784",
            "gridwidth": 2,
            "linecolor": "#506784",
            "showbackground": true,
            "ticks": "",
            "zerolinecolor": "#C8D4E3"
           }
          },
          "shapedefaults": {
           "line": {
            "color": "#f2f5fa"
           }
          },
          "sliderdefaults": {
           "bgcolor": "#C8D4E3",
           "bordercolor": "rgb(17,17,17)",
           "borderwidth": 1,
           "tickwidth": 0
          },
          "ternary": {
           "aaxis": {
            "gridcolor": "#506784",
            "linecolor": "#506784",
            "ticks": ""
           },
           "baxis": {
            "gridcolor": "#506784",
            "linecolor": "#506784",
            "ticks": ""
           },
           "bgcolor": "rgb(17,17,17)",
           "caxis": {
            "gridcolor": "#506784",
            "linecolor": "#506784",
            "ticks": ""
           }
          },
          "title": {
           "x": 0.05
          },
          "updatemenudefaults": {
           "bgcolor": "#506784",
           "borderwidth": 0
          },
          "xaxis": {
           "automargin": true,
           "gridcolor": "#283442",
           "linecolor": "#506784",
           "ticks": "",
           "title": {
            "standoff": 15
           },
           "zerolinecolor": "#283442",
           "zerolinewidth": 2
          },
          "yaxis": {
           "automargin": true,
           "gridcolor": "#283442",
           "linecolor": "#506784",
           "ticks": "",
           "title": {
            "standoff": 15
           },
           "zerolinecolor": "#283442",
           "zerolinewidth": 2
          }
         }
        },
        "title": {
         "text": "<b>Effectiveness of Optimization Categories</b> (Relative to Baseline)"
        },
        "xaxis": {
         "anchor": "y",
         "categoryarray": [
          "Combined",
          "Knowledge Distillation",
          "Pruning",
          "Quantization",
          "TensorRT"
         ],
         "categoryorder": "array",
         "domain": [
          0,
          0.49
         ],
         "title": {
          "text": ""
         }
        },
        "xaxis2": {
         "anchor": "y2",
         "categoryarray": [
          "Combined",
          "Knowledge Distillation",
          "Pruning",
          "Quantization",
          "TensorRT"
         ],
         "categoryorder": "array",
         "domain": [
          0.51,
          1
         ],
         "matches": "x",
         "title": {
          "text": ""
         }
        },
        "yaxis": {
         "anchor": "x",
         "domain": [
          0,
          1
         ],
         "title": {
          "text": "Model Size Reduction (%)"
         }
        },
        "yaxis2": {
         "anchor": "x2",
         "domain": [
          0,
          1
         ],
         "matches": "y",
         "showticklabels": false,
         "title": {
          "text": "Model Size Reduction (%)"
         }
        }
       }
      }
     },
     "metadata": {},
     "output_type": "display_data"
    }
   ],
   "source": [
    "# --- Idea 2: Box Plot Analysis ---\n",
    "# (This requires a bit of data manipulation first)\n",
    "\n",
    "# Find the baseline metrics for each architecture\n",
    "baselines = df[df['Optimization_Category'] == 'Baseline'].set_index('Base_Model_Arch')\n",
    "baseline_metrics = baselines[['Top_1_Acc', 'Model_Size_MB_Disk']].to_dict('index')\n",
    "# baseline_metrics will look like:\n",
    "# {'ResNet18': {'Top_1_Acc': 0.50, 'Model_Size_MB_Disk': 44.6}, ...}\n",
    "\n",
    "# Map the baseline values to each row in the original dataframe\n",
    "df['baseline_acc'] = df['Base_Model_Arch'].map(lambda x: baseline_metrics[x]['Top_1_Acc'])\n",
    "df['baseline_size'] = df['Base_Model_Arch'].map(lambda x: baseline_metrics[x]['Model_Size_MB_Disk'])\n",
    "\n",
    "# Calculate the percentage change relative to the baseline\n",
    "# We exclude the baseline itself from this plot\n",
    "plot_df = df[df['Optimization_Category'] != 'Baseline'].copy()\n",
    "plot_df['Accuracy_Change_%'] = ((plot_df['Top_1_Acc'] - plot_df['baseline_acc']) / plot_df['baseline_acc']) * 100\n",
    "plot_df['Size_Reduction_%'] = ((plot_df['baseline_size'] - plot_df['Model_Size_MB_Disk']) / plot_df['baseline_size']) * 100\n",
    "\n",
    "# Create the box plot\n",
    "box_fig = px.box(\n",
    "    plot_df,\n",
    "    x=\"Optimization_Category\",\n",
    "    y=\"Size_Reduction_%\",\n",
    "    color=\"Optimization_Category\",\n",
    "    points=\"all\", # Show all the individual experiment points\n",
    "    facet_col=\"Base_Model_Arch\", # Create separate plots for ResNet18 and ResNet50\n",
    "    hover_name=\"Experiment_ID\",\n",
    "    hover_data=[\"Accuracy_Change_%\"],\n",
    "    title=\"<b>Effectiveness of Optimization Categories</b> (Relative to Baseline)\",\n",
    "    template='plotly_dark'\n",
    ")\n",
    "\n",
    "box_fig.update_yaxes(title_text=\"Model Size Reduction (%)\")\n",
    "box_fig.update_xaxes(title_text=\"\")\n",
    "box_fig.show()\n",
    "box_fig.write_html(\"effectiveness_boxplot.html\")"
   ]
  },
  {
   "cell_type": "code",
   "execution_count": 4,
   "id": "3749620f",
   "metadata": {},
   "outputs": [
    {
     "data": {
      "application/vnd.plotly.v1+json": {
       "config": {
        "plotlyServerURL": "https://plot.ly"
       },
       "data": [
        {
         "hovertemplate": "Method=Iterative Structured Pruning<br>Sparsity_%=%{x}<br>Top_1_Acc_Percent=%{y}<extra></extra>",
         "legendgroup": "Iterative Structured Pruning",
         "line": {
          "color": "#636efa",
          "dash": "solid"
         },
         "marker": {
          "symbol": "circle"
         },
         "mode": "lines+markers",
         "name": "Iterative Structured Pruning",
         "orientation": "v",
         "showlegend": true,
         "type": "scatter",
         "x": {
          "bdata": "AAAAAAAASUAAAAAAAMBSQAAAAAAAgFZA",
          "dtype": "f8"
         },
         "xaxis": "x",
         "y": {
          "bdata": "z3dczdf3SECC8ekl+dI9QI4nm2UtJypA",
          "dtype": "f8"
         },
         "yaxis": "y"
        },
        {
         "hovertemplate": "Method=One-Shot Structured Pruning<br>Sparsity_%=%{x}<br>Top_1_Acc_Percent=%{y}<extra></extra>",
         "legendgroup": "One-Shot Structured Pruning",
         "line": {
          "color": "#EF553B",
          "dash": "solid"
         },
         "marker": {
          "symbol": "diamond"
         },
         "mode": "lines+markers",
         "name": "One-Shot Structured Pruning",
         "orientation": "v",
         "showlegend": true,
         "type": "scatter",
         "x": {
          "bdata": "AAAAAAAASUAAAAAAAMBSQAAAAAAAgFZA",
          "dtype": "f8"
         },
         "xaxis": "x",
         "y": {
          "bdata": "Oebo1cZjS0CS7woGLxM2QIchSjD01hZA",
          "dtype": "f8"
         },
         "yaxis": "y"
        },
        {
         "hovertemplate": "Method=Iterative Unstructured Pruning<br>Sparsity_%=%{x}<br>Top_1_Acc_Percent=%{y}<extra></extra>",
         "legendgroup": "Iterative Unstructured Pruning",
         "line": {
          "color": "#00cc96",
          "dash": "solid"
         },
         "marker": {
          "symbol": "square"
         },
         "mode": "lines+markers",
         "name": "Iterative Unstructured Pruning",
         "orientation": "v",
         "showlegend": true,
         "type": "scatter",
         "x": {
          "bdata": "AAAAAAAASUAAAAAAAMBSQAAAAAAAgFZA",
          "dtype": "f8"
         },
         "xaxis": "x",
         "y": {
          "bdata": "b3AaPZ2DUECIbNYnRvlOQJK93R5dP0dA",
          "dtype": "f8"
         },
         "yaxis": "y"
        },
        {
         "hovertemplate": "Method=One-Shot Unstructured Pruning<br>Sparsity_%=%{x}<br>Top_1_Acc_Percent=%{y}<extra></extra>",
         "legendgroup": "One-Shot Unstructured Pruning",
         "line": {
          "color": "#ab63fa",
          "dash": "solid"
         },
         "marker": {
          "symbol": "x"
         },
         "mode": "lines+markers",
         "name": "One-Shot Unstructured Pruning",
         "orientation": "v",
         "showlegend": true,
         "type": "scatter",
         "x": {
          "bdata": "AAAAAAAASUAAAAAAAMBSQAAAAAAAgFZA",
          "dtype": "f8"
         },
         "xaxis": "x",
         "y": {
          "bdata": "r8dEVhKdUEAbIBxLWzNPQEmZgQpF6kRA",
          "dtype": "f8"
         },
         "yaxis": "y"
        },
        {
         "hovertemplate": "Method=N:M Sparsity<br>Sparsity_%=%{x}<br>Top_1_Acc_Percent=%{y}<extra></extra>",
         "legendgroup": "N:M Sparsity",
         "line": {
          "color": "#FFA15A",
          "dash": "solid"
         },
         "marker": {
          "symbol": "cross"
         },
         "mode": "lines+markers",
         "name": "N:M Sparsity",
         "orientation": "v",
         "showlegend": true,
         "type": "scatter",
         "x": {
          "bdata": "AAAAAAAA+H8=",
          "dtype": "f8"
         },
         "xaxis": "x",
         "y": {
          "bdata": "BW6uVcUQUEA=",
          "dtype": "f8"
         },
         "yaxis": "y"
        }
       ],
       "layout": {
        "legend": {
         "title": {
          "text": "Method"
         },
         "tracegroupgap": 0
        },
        "template": {
         "data": {
          "bar": [
           {
            "error_x": {
             "color": "#f2f5fa"
            },
            "error_y": {
             "color": "#f2f5fa"
            },
            "marker": {
             "line": {
              "color": "rgb(17,17,17)",
              "width": 0.5
             },
             "pattern": {
              "fillmode": "overlay",
              "size": 10,
              "solidity": 0.2
             }
            },
            "type": "bar"
           }
          ],
          "barpolar": [
           {
            "marker": {
             "line": {
              "color": "rgb(17,17,17)",
              "width": 0.5
             },
             "pattern": {
              "fillmode": "overlay",
              "size": 10,
              "solidity": 0.2
             }
            },
            "type": "barpolar"
           }
          ],
          "carpet": [
           {
            "aaxis": {
             "endlinecolor": "#A2B1C6",
             "gridcolor": "#506784",
             "linecolor": "#506784",
             "minorgridcolor": "#506784",
             "startlinecolor": "#A2B1C6"
            },
            "baxis": {
             "endlinecolor": "#A2B1C6",
             "gridcolor": "#506784",
             "linecolor": "#506784",
             "minorgridcolor": "#506784",
             "startlinecolor": "#A2B1C6"
            },
            "type": "carpet"
           }
          ],
          "choropleth": [
           {
            "colorbar": {
             "outlinewidth": 0,
             "ticks": ""
            },
            "type": "choropleth"
           }
          ],
          "contour": [
           {
            "colorbar": {
             "outlinewidth": 0,
             "ticks": ""
            },
            "colorscale": [
             [
              0,
              "#0d0887"
             ],
             [
              0.1111111111111111,
              "#46039f"
             ],
             [
              0.2222222222222222,
              "#7201a8"
             ],
             [
              0.3333333333333333,
              "#9c179e"
             ],
             [
              0.4444444444444444,
              "#bd3786"
             ],
             [
              0.5555555555555556,
              "#d8576b"
             ],
             [
              0.6666666666666666,
              "#ed7953"
             ],
             [
              0.7777777777777778,
              "#fb9f3a"
             ],
             [
              0.8888888888888888,
              "#fdca26"
             ],
             [
              1,
              "#f0f921"
             ]
            ],
            "type": "contour"
           }
          ],
          "contourcarpet": [
           {
            "colorbar": {
             "outlinewidth": 0,
             "ticks": ""
            },
            "type": "contourcarpet"
           }
          ],
          "heatmap": [
           {
            "colorbar": {
             "outlinewidth": 0,
             "ticks": ""
            },
            "colorscale": [
             [
              0,
              "#0d0887"
             ],
             [
              0.1111111111111111,
              "#46039f"
             ],
             [
              0.2222222222222222,
              "#7201a8"
             ],
             [
              0.3333333333333333,
              "#9c179e"
             ],
             [
              0.4444444444444444,
              "#bd3786"
             ],
             [
              0.5555555555555556,
              "#d8576b"
             ],
             [
              0.6666666666666666,
              "#ed7953"
             ],
             [
              0.7777777777777778,
              "#fb9f3a"
             ],
             [
              0.8888888888888888,
              "#fdca26"
             ],
             [
              1,
              "#f0f921"
             ]
            ],
            "type": "heatmap"
           }
          ],
          "histogram": [
           {
            "marker": {
             "pattern": {
              "fillmode": "overlay",
              "size": 10,
              "solidity": 0.2
             }
            },
            "type": "histogram"
           }
          ],
          "histogram2d": [
           {
            "colorbar": {
             "outlinewidth": 0,
             "ticks": ""
            },
            "colorscale": [
             [
              0,
              "#0d0887"
             ],
             [
              0.1111111111111111,
              "#46039f"
             ],
             [
              0.2222222222222222,
              "#7201a8"
             ],
             [
              0.3333333333333333,
              "#9c179e"
             ],
             [
              0.4444444444444444,
              "#bd3786"
             ],
             [
              0.5555555555555556,
              "#d8576b"
             ],
             [
              0.6666666666666666,
              "#ed7953"
             ],
             [
              0.7777777777777778,
              "#fb9f3a"
             ],
             [
              0.8888888888888888,
              "#fdca26"
             ],
             [
              1,
              "#f0f921"
             ]
            ],
            "type": "histogram2d"
           }
          ],
          "histogram2dcontour": [
           {
            "colorbar": {
             "outlinewidth": 0,
             "ticks": ""
            },
            "colorscale": [
             [
              0,
              "#0d0887"
             ],
             [
              0.1111111111111111,
              "#46039f"
             ],
             [
              0.2222222222222222,
              "#7201a8"
             ],
             [
              0.3333333333333333,
              "#9c179e"
             ],
             [
              0.4444444444444444,
              "#bd3786"
             ],
             [
              0.5555555555555556,
              "#d8576b"
             ],
             [
              0.6666666666666666,
              "#ed7953"
             ],
             [
              0.7777777777777778,
              "#fb9f3a"
             ],
             [
              0.8888888888888888,
              "#fdca26"
             ],
             [
              1,
              "#f0f921"
             ]
            ],
            "type": "histogram2dcontour"
           }
          ],
          "mesh3d": [
           {
            "colorbar": {
             "outlinewidth": 0,
             "ticks": ""
            },
            "type": "mesh3d"
           }
          ],
          "parcoords": [
           {
            "line": {
             "colorbar": {
              "outlinewidth": 0,
              "ticks": ""
             }
            },
            "type": "parcoords"
           }
          ],
          "pie": [
           {
            "automargin": true,
            "type": "pie"
           }
          ],
          "scatter": [
           {
            "marker": {
             "line": {
              "color": "#283442"
             }
            },
            "type": "scatter"
           }
          ],
          "scatter3d": [
           {
            "line": {
             "colorbar": {
              "outlinewidth": 0,
              "ticks": ""
             }
            },
            "marker": {
             "colorbar": {
              "outlinewidth": 0,
              "ticks": ""
             }
            },
            "type": "scatter3d"
           }
          ],
          "scattercarpet": [
           {
            "marker": {
             "colorbar": {
              "outlinewidth": 0,
              "ticks": ""
             }
            },
            "type": "scattercarpet"
           }
          ],
          "scattergeo": [
           {
            "marker": {
             "colorbar": {
              "outlinewidth": 0,
              "ticks": ""
             }
            },
            "type": "scattergeo"
           }
          ],
          "scattergl": [
           {
            "marker": {
             "line": {
              "color": "#283442"
             }
            },
            "type": "scattergl"
           }
          ],
          "scattermap": [
           {
            "marker": {
             "colorbar": {
              "outlinewidth": 0,
              "ticks": ""
             }
            },
            "type": "scattermap"
           }
          ],
          "scattermapbox": [
           {
            "marker": {
             "colorbar": {
              "outlinewidth": 0,
              "ticks": ""
             }
            },
            "type": "scattermapbox"
           }
          ],
          "scatterpolar": [
           {
            "marker": {
             "colorbar": {
              "outlinewidth": 0,
              "ticks": ""
             }
            },
            "type": "scatterpolar"
           }
          ],
          "scatterpolargl": [
           {
            "marker": {
             "colorbar": {
              "outlinewidth": 0,
              "ticks": ""
             }
            },
            "type": "scatterpolargl"
           }
          ],
          "scatterternary": [
           {
            "marker": {
             "colorbar": {
              "outlinewidth": 0,
              "ticks": ""
             }
            },
            "type": "scatterternary"
           }
          ],
          "surface": [
           {
            "colorbar": {
             "outlinewidth": 0,
             "ticks": ""
            },
            "colorscale": [
             [
              0,
              "#0d0887"
             ],
             [
              0.1111111111111111,
              "#46039f"
             ],
             [
              0.2222222222222222,
              "#7201a8"
             ],
             [
              0.3333333333333333,
              "#9c179e"
             ],
             [
              0.4444444444444444,
              "#bd3786"
             ],
             [
              0.5555555555555556,
              "#d8576b"
             ],
             [
              0.6666666666666666,
              "#ed7953"
             ],
             [
              0.7777777777777778,
              "#fb9f3a"
             ],
             [
              0.8888888888888888,
              "#fdca26"
             ],
             [
              1,
              "#f0f921"
             ]
            ],
            "type": "surface"
           }
          ],
          "table": [
           {
            "cells": {
             "fill": {
              "color": "#506784"
             },
             "line": {
              "color": "rgb(17,17,17)"
             }
            },
            "header": {
             "fill": {
              "color": "#2a3f5f"
             },
             "line": {
              "color": "rgb(17,17,17)"
             }
            },
            "type": "table"
           }
          ]
         },
         "layout": {
          "annotationdefaults": {
           "arrowcolor": "#f2f5fa",
           "arrowhead": 0,
           "arrowwidth": 1
          },
          "autotypenumbers": "strict",
          "coloraxis": {
           "colorbar": {
            "outlinewidth": 0,
            "ticks": ""
           }
          },
          "colorscale": {
           "diverging": [
            [
             0,
             "#8e0152"
            ],
            [
             0.1,
             "#c51b7d"
            ],
            [
             0.2,
             "#de77ae"
            ],
            [
             0.3,
             "#f1b6da"
            ],
            [
             0.4,
             "#fde0ef"
            ],
            [
             0.5,
             "#f7f7f7"
            ],
            [
             0.6,
             "#e6f5d0"
            ],
            [
             0.7,
             "#b8e186"
            ],
            [
             0.8,
             "#7fbc41"
            ],
            [
             0.9,
             "#4d9221"
            ],
            [
             1,
             "#276419"
            ]
           ],
           "sequential": [
            [
             0,
             "#0d0887"
            ],
            [
             0.1111111111111111,
             "#46039f"
            ],
            [
             0.2222222222222222,
             "#7201a8"
            ],
            [
             0.3333333333333333,
             "#9c179e"
            ],
            [
             0.4444444444444444,
             "#bd3786"
            ],
            [
             0.5555555555555556,
             "#d8576b"
            ],
            [
             0.6666666666666666,
             "#ed7953"
            ],
            [
             0.7777777777777778,
             "#fb9f3a"
            ],
            [
             0.8888888888888888,
             "#fdca26"
            ],
            [
             1,
             "#f0f921"
            ]
           ],
           "sequentialminus": [
            [
             0,
             "#0d0887"
            ],
            [
             0.1111111111111111,
             "#46039f"
            ],
            [
             0.2222222222222222,
             "#7201a8"
            ],
            [
             0.3333333333333333,
             "#9c179e"
            ],
            [
             0.4444444444444444,
             "#bd3786"
            ],
            [
             0.5555555555555556,
             "#d8576b"
            ],
            [
             0.6666666666666666,
             "#ed7953"
            ],
            [
             0.7777777777777778,
             "#fb9f3a"
            ],
            [
             0.8888888888888888,
             "#fdca26"
            ],
            [
             1,
             "#f0f921"
            ]
           ]
          },
          "colorway": [
           "#636efa",
           "#EF553B",
           "#00cc96",
           "#ab63fa",
           "#FFA15A",
           "#19d3f3",
           "#FF6692",
           "#B6E880",
           "#FF97FF",
           "#FECB52"
          ],
          "font": {
           "color": "#f2f5fa"
          },
          "geo": {
           "bgcolor": "rgb(17,17,17)",
           "lakecolor": "rgb(17,17,17)",
           "landcolor": "rgb(17,17,17)",
           "showlakes": true,
           "showland": true,
           "subunitcolor": "#506784"
          },
          "hoverlabel": {
           "align": "left"
          },
          "hovermode": "closest",
          "mapbox": {
           "style": "dark"
          },
          "paper_bgcolor": "rgb(17,17,17)",
          "plot_bgcolor": "rgb(17,17,17)",
          "polar": {
           "angularaxis": {
            "gridcolor": "#506784",
            "linecolor": "#506784",
            "ticks": ""
           },
           "bgcolor": "rgb(17,17,17)",
           "radialaxis": {
            "gridcolor": "#506784",
            "linecolor": "#506784",
            "ticks": ""
           }
          },
          "scene": {
           "xaxis": {
            "backgroundcolor": "rgb(17,17,17)",
            "gridcolor": "#506784",
            "gridwidth": 2,
            "linecolor": "#506784",
            "showbackground": true,
            "ticks": "",
            "zerolinecolor": "#C8D4E3"
           },
           "yaxis": {
            "backgroundcolor": "rgb(17,17,17)",
            "gridcolor": "#506784",
            "gridwidth": 2,
            "linecolor": "#506784",
            "showbackground": true,
            "ticks": "",
            "zerolinecolor": "#C8D4E3"
           },
           "zaxis": {
            "backgroundcolor": "rgb(17,17,17)",
            "gridcolor": "#506784",
            "gridwidth": 2,
            "linecolor": "#506784",
            "showbackground": true,
            "ticks": "",
            "zerolinecolor": "#C8D4E3"
           }
          },
          "shapedefaults": {
           "line": {
            "color": "#f2f5fa"
           }
          },
          "sliderdefaults": {
           "bgcolor": "#C8D4E3",
           "bordercolor": "rgb(17,17,17)",
           "borderwidth": 1,
           "tickwidth": 0
          },
          "ternary": {
           "aaxis": {
            "gridcolor": "#506784",
            "linecolor": "#506784",
            "ticks": ""
           },
           "baxis": {
            "gridcolor": "#506784",
            "linecolor": "#506784",
            "ticks": ""
           },
           "bgcolor": "rgb(17,17,17)",
           "caxis": {
            "gridcolor": "#506784",
            "linecolor": "#506784",
            "ticks": ""
           }
          },
          "title": {
           "x": 0.05
          },
          "updatemenudefaults": {
           "bgcolor": "#506784",
           "borderwidth": 0
          },
          "xaxis": {
           "automargin": true,
           "gridcolor": "#283442",
           "linecolor": "#506784",
           "ticks": "",
           "title": {
            "standoff": 15
           },
           "zerolinecolor": "#283442",
           "zerolinewidth": 2
          },
          "yaxis": {
           "automargin": true,
           "gridcolor": "#283442",
           "linecolor": "#506784",
           "ticks": "",
           "title": {
            "standoff": 15
           },
           "zerolinecolor": "#283442",
           "zerolinewidth": 2
          }
         }
        },
        "title": {
         "text": "<b>Accuracy vs. Pruning Sparsity on ResNet50</b>"
        },
        "xaxis": {
         "anchor": "y",
         "domain": [
          0,
          1
         ],
         "title": {
          "text": "Target Sparsity (%)"
         }
        },
        "yaxis": {
         "anchor": "x",
         "domain": [
          0,
          1
         ],
         "title": {
          "text": "Top-1 Accuracy (%)"
         }
        }
       }
      }
     },
     "metadata": {},
     "output_type": "display_data"
    }
   ],
   "source": [
    "# --- Idea 3: Pruning Degradation Line Chart ---\n",
    "# (Requires extracting the sparsity value from 'Key_Parameters')\n",
    "\n",
    "pruning_df = df[df['Optimization_Category'] == 'Pruning'].copy()\n",
    "\n",
    "# Extract sparsity percentage using regex. This is a powerful pandas trick.\n",
    "pruning_df['Sparsity_%'] = pruning_df['Key_Parameters'].str.extract(r'(\\d+\\.?\\d*)%').astype(float)\n",
    "\n",
    "# Create a more descriptive pruning method name\n",
    "pruning_df['Method'] = pruning_df['Specific_Technique'].apply(\n",
    "    lambda x: ' '.join(x.split(' ')[:3]) # e.g., \"Iterative Structured Pruning\"\n",
    ")\n",
    "\n",
    "# Create the line plot\n",
    "line_fig = px.line(\n",
    "    pruning_df.sort_values('Sparsity_%'),\n",
    "    x=\"Sparsity_%\",\n",
    "    y=\"Top_1_Acc_Percent\",\n",
    "    color=\"Method\",\n",
    "    symbol=\"Method\",\n",
    "    markers=True, # Add markers to the points\n",
    "    title=\"<b>Accuracy vs. Pruning Sparsity on ResNet50</b>\",\n",
    "    template='plotly_dark'\n",
    ")\n",
    "line_fig.update_xaxes(title_text=\"Target Sparsity (%)\")\n",
    "line_fig.update_yaxes(title_text=\"Top-1 Accuracy (%)\")\n",
    "line_fig.show()\n",
    "line_fig.write_html(\"pruning_degradation.html\")"
   ]
  },
  {
   "cell_type": "code",
   "execution_count": 5,
   "id": "c234ee20",
   "metadata": {},
   "outputs": [
    {
     "data": {
      "application/vnd.plotly.v1+json": {
       "config": {
        "plotlyServerURL": "https://plot.ly"
       },
       "data": [
        {
         "customdata": {
          "bdata": "ECUYemsLSUA=",
          "dtype": "f8",
          "shape": "1, 1"
         },
         "hovertemplate": "<b>%{hovertext}</b><br><br>Optimization_Category=Baseline<br>Base_Model_Arch=ResNet18<br>Model_Size_MB_Disk=%{x:.2f} MB}<br>Inference_Time_ms_CPU=%{y:.2f} ms}<br>Top_1_Acc_Percent=%{customdata[0]:.2f}%}<extra></extra>",
         "hovertext": [
          "resnet18_baseline"
         ],
         "legendgroup": "Baseline, ResNet18",
         "marker": {
          "color": "#636efa",
          "size": {
           "bdata": "ECUYemsLSUA=",
           "dtype": "f8"
          },
          "sizemode": "area",
          "sizeref": 0.018459512278018522,
          "symbol": "circle"
         },
         "mode": "markers",
         "name": "Baseline, ResNet18",
         "orientation": "v",
         "showlegend": true,
         "type": "scatter",
         "x": {
          "bdata": "IQclzLRVRkA=",
          "dtype": "f8"
         },
         "xaxis": "x",
         "y": {
          "bdata": "8gwa+ieoQUA=",
          "dtype": "f8"
         },
         "yaxis": "y"
        },
        {
         "customdata": {
          "bdata": "2LNUmtE8UEA=",
          "dtype": "f8",
          "shape": "1, 1"
         },
         "hovertemplate": "<b>%{hovertext}</b><br><br>Optimization_Category=Baseline<br>Base_Model_Arch=ResNet50<br>Model_Size_MB_Disk=%{x:.2f} MB}<br>Inference_Time_ms_CPU=%{y:.2f} ms}<br>Top_1_Acc_Percent=%{customdata[0]:.2f}%}<extra></extra>",
         "hovertext": [
          "resnet50_baseline"
         ],
         "legendgroup": "Baseline, ResNet50",
         "marker": {
          "color": "#636efa",
          "size": {
           "bdata": "2LNUmtE8UEA=",
           "dtype": "f8"
          },
          "sizemode": "area",
          "sizeref": 0.018459512278018522,
          "symbol": "diamond"
         },
         "mode": "markers",
         "name": "Baseline, ResNet50",
         "orientation": "v",
         "showlegend": true,
         "type": "scatter",
         "x": {
          "bdata": "ZcIv9fNyWEA=",
          "dtype": "f8"
         },
         "xaxis": "x",
         "y": {
          "bdata": "pHA9CtcDVkA=",
          "dtype": "f8"
         },
         "yaxis": "y"
        },
        {
         "customdata": {
          "bdata": "kIxS1XnXSkC3sGQDhGNJQC6VZjQPrUpAL3wLcCnHSkA=",
          "dtype": "f8",
          "shape": "4, 1"
         },
         "hovertemplate": "<b>%{hovertext}</b><br><br>Optimization_Category=Combined<br>Base_Model_Arch=ResNet18<br>Model_Size_MB_Disk=%{x:.2f} MB}<br>Inference_Time_ms_CPU=%{y:.2f} ms}<br>Top_1_Acc_Percent=%{customdata[0]:.2f}%}<extra></extra>",
         "hovertext": [
          "resnet18pretrained_distilled_quant_kmeans_256clusters_post",
          "resnet18pretrained_distilled_quant_ptq_int8_perchannel_post",
          "resnet18pretrained_distilled_quant_ptq_int8_pertensor_post",
          "resnet18pretrained_distilled_quant_qat_int8_epochs8"
         ],
         "legendgroup": "Combined, ResNet18",
         "marker": {
          "color": "#EF553B",
          "size": {
           "bdata": "kIxS1XnXSkC3sGQDhGNJQC6VZjQPrUpAL3wLcCnHSkA=",
           "dtype": "f8"
          },
          "sizemode": "area",
          "sizeref": 0.018459512278018522,
          "symbol": "circle"
         },
         "mode": "markers",
         "name": "Combined, ResNet18",
         "orientation": "v",
         "showlegend": true,
         "type": "scatter",
         "x": {
          "bdata": "4dHGEWtVRkC05VyKq5omQNLj9zb9mSZAt39lpUmZJkA=",
          "dtype": "f8"
         },
         "xaxis": "x",
         "y": {
          "bdata": "PpY+dEGdQkDbxMn9DgUzQIxn0NA/UTJAuXAgJAv4MUA=",
          "dtype": "f8"
         },
         "yaxis": "y"
        },
        {
         "customdata": {
          "bdata": "8ZyZOsrnSkAxHHBOuqMxQA==",
          "dtype": "f8",
          "shape": "2, 1"
         },
         "hovertemplate": "<b>%{hovertext}</b><br><br>Optimization_Category=Knowledge Distillation<br>Base_Model_Arch=ResNet18<br>Model_Size_MB_Disk=%{x:.2f} MB}<br>Inference_Time_ms_CPU=%{y:.2f} ms}<br>Top_1_Acc_Percent=%{customdata[0]:.2f}%}<extra></extra>",
         "hovertext": [
          "resnet50_to_resnet18pretrained_kd",
          "resnet50_to_resnet18scratch_kd"
         ],
         "legendgroup": "Knowledge Distillation, ResNet18",
         "marker": {
          "color": "#00cc96",
          "size": {
           "bdata": "8ZyZOsrnSkAxHHBOuqMxQA==",
           "dtype": "f8"
          },
          "sizemode": "area",
          "sizeref": 0.018459512278018522,
          "symbol": "circle"
         },
         "mode": "markers",
         "name": "Knowledge Distillation, ResNet18",
         "orientation": "v",
         "showlegend": true,
         "type": "scatter",
         "x": {
          "bdata": "y2d5HtxVRkDLZ3ke3FVGQA==",
          "dtype": "f8"
         },
         "xaxis": "x",
         "y": {
          "bdata": "02pI3GOBQkBeS8gHPQNCQA==",
          "dtype": "f8"
         },
         "yaxis": "y"
        },
        {
         "customdata": {
          "bdata": "BW6uVcUQUEDPd1zN1/dIQILx6SX50j1AjiebZS0nKkA55ujVxmNLQJLvCgYvEzZAhyFKMPTWFkBvcBo9nYNQQIhs1idG+U5Akr3dHl0/R0Cvx0RWEp1QQBsgHEtbM09ASZmBCkXqREA=",
          "dtype": "f8",
          "shape": "13, 1"
         },
         "hovertemplate": "<b>%{hovertext}</b><br><br>Optimization_Category=Pruning<br>Base_Model_Arch=ResNet50<br>Model_Size_MB_Disk=%{x:.2f} MB}<br>Inference_Time_ms_CPU=%{y:.2f} ms}<br>Top_1_Acc_Percent=%{customdata[0]:.2f}%}<extra></extra>",
         "hovertext": [
          "resnet50_prune_nm24_ft",
          "resnet50_prune_struct_it_l1filter_stage1_approx_sp50_ft",
          "resnet50_prune_struct_it_l1filter_stage2_approx_sp75_ft",
          "resnet50_prune_struct_it_l1filter_stage3_approx_sp90_ft",
          "resnet50_prune_struct_os_l1filter_fp30_ft",
          "resnet50_prune_struct_os_l1filter_fp55_ft",
          "resnet50_prune_struct_os_l1filter_fp70_ft",
          "resnet50_prune_unstruct_it_l1_stage1_sp50_ft",
          "resnet50_prune_unstruct_it_l1_stage2_sp75_ft",
          "resnet50_prune_unstruct_it_l1_stage3_sp90_ft",
          "resnet50_prune_unstruct_os_l1_sp50_ft",
          "resnet50_prune_unstruct_os_l1_sp75_ft",
          "resnet50_prune_unstruct_os_l1_sp90_ft"
         ],
         "legendgroup": "Pruning, ResNet50",
         "marker": {
          "color": "#ab63fa",
          "size": {
           "bdata": "BW6uVcUQUEDPd1zN1/dIQILx6SX50j1AjiebZS0nKkA55ujVxmNLQJLvCgYvEzZAhyFKMPTWFkBvcBo9nYNQQIhs1idG+U5Akr3dHl0/R0Cvx0RWEp1QQBsgHEtbM09ASZmBCkXqREA=",
           "dtype": "f8"
          },
          "sizemode": "area",
          "sizeref": 0.018459512278018522,
          "symbol": "diamond"
         },
         "mode": "markers",
         "name": "Pruning, ResNet50",
         "orientation": "v",
         "showlegend": true,
         "type": "scatter",
         "x": {
          "bdata": "jBAebRxzWECazk4GR81IQDygbMoVfjlAXCBB8WNsJEDxY8xdS8xIQCOhLedS3DVAHuG04EUfJUDmIr4Ts3JYQOYivhOzclhAVpqUgm5zWEAvo1huaXNYQC+jWG5pc1hAL6NYbmlzWEA=",
          "dtype": "f8"
         },
         "xaxis": "x",
         "y": {
          "bdata": "TIkkehlVVkB8D5ccd/pMQEBNLVvry0JAcuFASBbAOEDVJk7udxBMQHBCIQIOsUFARzgteNEHOUAtlbcjnAJWQHx+GCE8qlVAufyH9NunV0CW58HdWbNWQP+ye/Kw9FlA3CkdrP9fVkA=",
          "dtype": "f8"
         },
         "yaxis": "y"
        },
        {
         "customdata": {
          "bdata": "aWWa9i87UEBsEZeXv1hOQEkCDz5zPlBA7o1bx4uWUEA=",
          "dtype": "f8",
          "shape": "4, 1"
         },
         "hovertemplate": "<b>%{hovertext}</b><br><br>Optimization_Category=Quantization<br>Base_Model_Arch=ResNet50<br>Model_Size_MB_Disk=%{x:.2f} MB}<br>Inference_Time_ms_CPU=%{y:.2f} ms}<br>Top_1_Acc_Percent=%{customdata[0]:.2f}%}<extra></extra>",
         "hovertext": [
          "resnet50_quant_kmeans_256clusters_post",
          "resnet50_quant_ptq_int8_perchannel_post",
          "resnet50_quant_ptq_int8_pertensor_post",
          "resnet50_quant_qat_int8_epochs8"
         ],
         "legendgroup": "Quantization, ResNet50",
         "marker": {
          "color": "#FFA15A",
          "size": {
           "bdata": "aWWa9i87UEBsEZeXv1hOQEkCDz5zPlBA7o1bx4uWUEA=",
           "dtype": "f8"
          },
          "sizemode": "area",
          "sizeref": 0.018459512278018522,
          "symbol": "diamond"
         },
         "mode": "markers",
         "name": "Quantization, ResNet50",
         "orientation": "v",
         "showlegend": true,
         "type": "scatter",
         "x": {
          "bdata": "7dgIxOtyWEBFuwopP/E4QHFa8KKv8DhAq+y7IvjvOEA=",
          "dtype": "f8"
         },
         "xaxis": "x",
         "y": {
          "bdata": "3c1THXJnVkBn7bYLzTVGQLnH0ocu+ERAMxtkkpE7RUA=",
          "dtype": "f8"
         },
         "yaxis": "y"
        }
       ],
       "layout": {
        "legend": {
         "itemsizing": "constant",
         "title": {
          "text": "Optimization Category"
         },
         "tracegroupgap": 0
        },
        "template": {
         "data": {
          "bar": [
           {
            "error_x": {
             "color": "#f2f5fa"
            },
            "error_y": {
             "color": "#f2f5fa"
            },
            "marker": {
             "line": {
              "color": "rgb(17,17,17)",
              "width": 0.5
             },
             "pattern": {
              "fillmode": "overlay",
              "size": 10,
              "solidity": 0.2
             }
            },
            "type": "bar"
           }
          ],
          "barpolar": [
           {
            "marker": {
             "line": {
              "color": "rgb(17,17,17)",
              "width": 0.5
             },
             "pattern": {
              "fillmode": "overlay",
              "size": 10,
              "solidity": 0.2
             }
            },
            "type": "barpolar"
           }
          ],
          "carpet": [
           {
            "aaxis": {
             "endlinecolor": "#A2B1C6",
             "gridcolor": "#506784",
             "linecolor": "#506784",
             "minorgridcolor": "#506784",
             "startlinecolor": "#A2B1C6"
            },
            "baxis": {
             "endlinecolor": "#A2B1C6",
             "gridcolor": "#506784",
             "linecolor": "#506784",
             "minorgridcolor": "#506784",
             "startlinecolor": "#A2B1C6"
            },
            "type": "carpet"
           }
          ],
          "choropleth": [
           {
            "colorbar": {
             "outlinewidth": 0,
             "ticks": ""
            },
            "type": "choropleth"
           }
          ],
          "contour": [
           {
            "colorbar": {
             "outlinewidth": 0,
             "ticks": ""
            },
            "colorscale": [
             [
              0,
              "#0d0887"
             ],
             [
              0.1111111111111111,
              "#46039f"
             ],
             [
              0.2222222222222222,
              "#7201a8"
             ],
             [
              0.3333333333333333,
              "#9c179e"
             ],
             [
              0.4444444444444444,
              "#bd3786"
             ],
             [
              0.5555555555555556,
              "#d8576b"
             ],
             [
              0.6666666666666666,
              "#ed7953"
             ],
             [
              0.7777777777777778,
              "#fb9f3a"
             ],
             [
              0.8888888888888888,
              "#fdca26"
             ],
             [
              1,
              "#f0f921"
             ]
            ],
            "type": "contour"
           }
          ],
          "contourcarpet": [
           {
            "colorbar": {
             "outlinewidth": 0,
             "ticks": ""
            },
            "type": "contourcarpet"
           }
          ],
          "heatmap": [
           {
            "colorbar": {
             "outlinewidth": 0,
             "ticks": ""
            },
            "colorscale": [
             [
              0,
              "#0d0887"
             ],
             [
              0.1111111111111111,
              "#46039f"
             ],
             [
              0.2222222222222222,
              "#7201a8"
             ],
             [
              0.3333333333333333,
              "#9c179e"
             ],
             [
              0.4444444444444444,
              "#bd3786"
             ],
             [
              0.5555555555555556,
              "#d8576b"
             ],
             [
              0.6666666666666666,
              "#ed7953"
             ],
             [
              0.7777777777777778,
              "#fb9f3a"
             ],
             [
              0.8888888888888888,
              "#fdca26"
             ],
             [
              1,
              "#f0f921"
             ]
            ],
            "type": "heatmap"
           }
          ],
          "histogram": [
           {
            "marker": {
             "pattern": {
              "fillmode": "overlay",
              "size": 10,
              "solidity": 0.2
             }
            },
            "type": "histogram"
           }
          ],
          "histogram2d": [
           {
            "colorbar": {
             "outlinewidth": 0,
             "ticks": ""
            },
            "colorscale": [
             [
              0,
              "#0d0887"
             ],
             [
              0.1111111111111111,
              "#46039f"
             ],
             [
              0.2222222222222222,
              "#7201a8"
             ],
             [
              0.3333333333333333,
              "#9c179e"
             ],
             [
              0.4444444444444444,
              "#bd3786"
             ],
             [
              0.5555555555555556,
              "#d8576b"
             ],
             [
              0.6666666666666666,
              "#ed7953"
             ],
             [
              0.7777777777777778,
              "#fb9f3a"
             ],
             [
              0.8888888888888888,
              "#fdca26"
             ],
             [
              1,
              "#f0f921"
             ]
            ],
            "type": "histogram2d"
           }
          ],
          "histogram2dcontour": [
           {
            "colorbar": {
             "outlinewidth": 0,
             "ticks": ""
            },
            "colorscale": [
             [
              0,
              "#0d0887"
             ],
             [
              0.1111111111111111,
              "#46039f"
             ],
             [
              0.2222222222222222,
              "#7201a8"
             ],
             [
              0.3333333333333333,
              "#9c179e"
             ],
             [
              0.4444444444444444,
              "#bd3786"
             ],
             [
              0.5555555555555556,
              "#d8576b"
             ],
             [
              0.6666666666666666,
              "#ed7953"
             ],
             [
              0.7777777777777778,
              "#fb9f3a"
             ],
             [
              0.8888888888888888,
              "#fdca26"
             ],
             [
              1,
              "#f0f921"
             ]
            ],
            "type": "histogram2dcontour"
           }
          ],
          "mesh3d": [
           {
            "colorbar": {
             "outlinewidth": 0,
             "ticks": ""
            },
            "type": "mesh3d"
           }
          ],
          "parcoords": [
           {
            "line": {
             "colorbar": {
              "outlinewidth": 0,
              "ticks": ""
             }
            },
            "type": "parcoords"
           }
          ],
          "pie": [
           {
            "automargin": true,
            "type": "pie"
           }
          ],
          "scatter": [
           {
            "marker": {
             "line": {
              "color": "#283442"
             }
            },
            "type": "scatter"
           }
          ],
          "scatter3d": [
           {
            "line": {
             "colorbar": {
              "outlinewidth": 0,
              "ticks": ""
             }
            },
            "marker": {
             "colorbar": {
              "outlinewidth": 0,
              "ticks": ""
             }
            },
            "type": "scatter3d"
           }
          ],
          "scattercarpet": [
           {
            "marker": {
             "colorbar": {
              "outlinewidth": 0,
              "ticks": ""
             }
            },
            "type": "scattercarpet"
           }
          ],
          "scattergeo": [
           {
            "marker": {
             "colorbar": {
              "outlinewidth": 0,
              "ticks": ""
             }
            },
            "type": "scattergeo"
           }
          ],
          "scattergl": [
           {
            "marker": {
             "line": {
              "color": "#283442"
             }
            },
            "type": "scattergl"
           }
          ],
          "scattermap": [
           {
            "marker": {
             "colorbar": {
              "outlinewidth": 0,
              "ticks": ""
             }
            },
            "type": "scattermap"
           }
          ],
          "scattermapbox": [
           {
            "marker": {
             "colorbar": {
              "outlinewidth": 0,
              "ticks": ""
             }
            },
            "type": "scattermapbox"
           }
          ],
          "scatterpolar": [
           {
            "marker": {
             "colorbar": {
              "outlinewidth": 0,
              "ticks": ""
             }
            },
            "type": "scatterpolar"
           }
          ],
          "scatterpolargl": [
           {
            "marker": {
             "colorbar": {
              "outlinewidth": 0,
              "ticks": ""
             }
            },
            "type": "scatterpolargl"
           }
          ],
          "scatterternary": [
           {
            "marker": {
             "colorbar": {
              "outlinewidth": 0,
              "ticks": ""
             }
            },
            "type": "scatterternary"
           }
          ],
          "surface": [
           {
            "colorbar": {
             "outlinewidth": 0,
             "ticks": ""
            },
            "colorscale": [
             [
              0,
              "#0d0887"
             ],
             [
              0.1111111111111111,
              "#46039f"
             ],
             [
              0.2222222222222222,
              "#7201a8"
             ],
             [
              0.3333333333333333,
              "#9c179e"
             ],
             [
              0.4444444444444444,
              "#bd3786"
             ],
             [
              0.5555555555555556,
              "#d8576b"
             ],
             [
              0.6666666666666666,
              "#ed7953"
             ],
             [
              0.7777777777777778,
              "#fb9f3a"
             ],
             [
              0.8888888888888888,
              "#fdca26"
             ],
             [
              1,
              "#f0f921"
             ]
            ],
            "type": "surface"
           }
          ],
          "table": [
           {
            "cells": {
             "fill": {
              "color": "#506784"
             },
             "line": {
              "color": "rgb(17,17,17)"
             }
            },
            "header": {
             "fill": {
              "color": "#2a3f5f"
             },
             "line": {
              "color": "rgb(17,17,17)"
             }
            },
            "type": "table"
           }
          ]
         },
         "layout": {
          "annotationdefaults": {
           "arrowcolor": "#f2f5fa",
           "arrowhead": 0,
           "arrowwidth": 1
          },
          "autotypenumbers": "strict",
          "coloraxis": {
           "colorbar": {
            "outlinewidth": 0,
            "ticks": ""
           }
          },
          "colorscale": {
           "diverging": [
            [
             0,
             "#8e0152"
            ],
            [
             0.1,
             "#c51b7d"
            ],
            [
             0.2,
             "#de77ae"
            ],
            [
             0.3,
             "#f1b6da"
            ],
            [
             0.4,
             "#fde0ef"
            ],
            [
             0.5,
             "#f7f7f7"
            ],
            [
             0.6,
             "#e6f5d0"
            ],
            [
             0.7,
             "#b8e186"
            ],
            [
             0.8,
             "#7fbc41"
            ],
            [
             0.9,
             "#4d9221"
            ],
            [
             1,
             "#276419"
            ]
           ],
           "sequential": [
            [
             0,
             "#0d0887"
            ],
            [
             0.1111111111111111,
             "#46039f"
            ],
            [
             0.2222222222222222,
             "#7201a8"
            ],
            [
             0.3333333333333333,
             "#9c179e"
            ],
            [
             0.4444444444444444,
             "#bd3786"
            ],
            [
             0.5555555555555556,
             "#d8576b"
            ],
            [
             0.6666666666666666,
             "#ed7953"
            ],
            [
             0.7777777777777778,
             "#fb9f3a"
            ],
            [
             0.8888888888888888,
             "#fdca26"
            ],
            [
             1,
             "#f0f921"
            ]
           ],
           "sequentialminus": [
            [
             0,
             "#0d0887"
            ],
            [
             0.1111111111111111,
             "#46039f"
            ],
            [
             0.2222222222222222,
             "#7201a8"
            ],
            [
             0.3333333333333333,
             "#9c179e"
            ],
            [
             0.4444444444444444,
             "#bd3786"
            ],
            [
             0.5555555555555556,
             "#d8576b"
            ],
            [
             0.6666666666666666,
             "#ed7953"
            ],
            [
             0.7777777777777778,
             "#fb9f3a"
            ],
            [
             0.8888888888888888,
             "#fdca26"
            ],
            [
             1,
             "#f0f921"
            ]
           ]
          },
          "colorway": [
           "#636efa",
           "#EF553B",
           "#00cc96",
           "#ab63fa",
           "#FFA15A",
           "#19d3f3",
           "#FF6692",
           "#B6E880",
           "#FF97FF",
           "#FECB52"
          ],
          "font": {
           "color": "#f2f5fa"
          },
          "geo": {
           "bgcolor": "rgb(17,17,17)",
           "lakecolor": "rgb(17,17,17)",
           "landcolor": "rgb(17,17,17)",
           "showlakes": true,
           "showland": true,
           "subunitcolor": "#506784"
          },
          "hoverlabel": {
           "align": "left"
          },
          "hovermode": "closest",
          "mapbox": {
           "style": "dark"
          },
          "paper_bgcolor": "rgb(17,17,17)",
          "plot_bgcolor": "rgb(17,17,17)",
          "polar": {
           "angularaxis": {
            "gridcolor": "#506784",
            "linecolor": "#506784",
            "ticks": ""
           },
           "bgcolor": "rgb(17,17,17)",
           "radialaxis": {
            "gridcolor": "#506784",
            "linecolor": "#506784",
            "ticks": ""
           }
          },
          "scene": {
           "xaxis": {
            "backgroundcolor": "rgb(17,17,17)",
            "gridcolor": "#506784",
            "gridwidth": 2,
            "linecolor": "#506784",
            "showbackground": true,
            "ticks": "",
            "zerolinecolor": "#C8D4E3"
           },
           "yaxis": {
            "backgroundcolor": "rgb(17,17,17)",
            "gridcolor": "#506784",
            "gridwidth": 2,
            "linecolor": "#506784",
            "showbackground": true,
            "ticks": "",
            "zerolinecolor": "#C8D4E3"
           },
           "zaxis": {
            "backgroundcolor": "rgb(17,17,17)",
            "gridcolor": "#506784",
            "gridwidth": 2,
            "linecolor": "#506784",
            "showbackground": true,
            "ticks": "",
            "zerolinecolor": "#C8D4E3"
           }
          },
          "shapedefaults": {
           "line": {
            "color": "#f2f5fa"
           }
          },
          "sliderdefaults": {
           "bgcolor": "#C8D4E3",
           "bordercolor": "rgb(17,17,17)",
           "borderwidth": 1,
           "tickwidth": 0
          },
          "ternary": {
           "aaxis": {
            "gridcolor": "#506784",
            "linecolor": "#506784",
            "ticks": ""
           },
           "baxis": {
            "gridcolor": "#506784",
            "linecolor": "#506784",
            "ticks": ""
           },
           "bgcolor": "rgb(17,17,17)",
           "caxis": {
            "gridcolor": "#506784",
            "linecolor": "#506784",
            "ticks": ""
           }
          },
          "title": {
           "x": 0.05
          },
          "updatemenudefaults": {
           "bgcolor": "#506784",
           "borderwidth": 0
          },
          "xaxis": {
           "automargin": true,
           "gridcolor": "#283442",
           "linecolor": "#506784",
           "ticks": "",
           "title": {
            "standoff": 15
           },
           "zerolinecolor": "#283442",
           "zerolinewidth": 2
          },
          "yaxis": {
           "automargin": true,
           "gridcolor": "#283442",
           "linecolor": "#506784",
           "ticks": "",
           "title": {
            "standoff": 15
           },
           "zerolinecolor": "#283442",
           "zerolinewidth": 2
          }
         }
        },
        "title": {
         "text": "<b>Deployment Profile: Inference Speed vs. Model Size</b><br>(Bubble size represents Accuracy)"
        },
        "xaxis": {
         "anchor": "y",
         "domain": [
          0,
          1
         ],
         "title": {
          "text": "Model Size on Disk (MB)"
         }
        },
        "yaxis": {
         "anchor": "x",
         "domain": [
          0,
          1
         ],
         "title": {
          "text": "CPU Inference Time (ms)"
         }
        }
       }
      }
     },
     "metadata": {},
     "output_type": "display_data"
    }
   ],
   "source": [
    "# --- Idea 4: Speed vs. Size Bubble Chart ---\n",
    "# (Add this code to your existing script after the data cleaning and NaN filling)\n",
    "\n",
    "# We need to drop rows where inference time is NaN to plot them.\n",
    "plot_df_speed = df.dropna(subset=['Inference_Time_ms_CPU', 'Model_Size_MB_Disk', 'Top_1_Acc_Percent']).copy()\n",
    "\n",
    "speed_size_fig = px.scatter(\n",
    "    plot_df_speed,\n",
    "    x=\"Model_Size_MB_Disk\",\n",
    "    y=\"Inference_Time_ms_CPU\",\n",
    "    size=\"Top_1_Acc_Percent\",\n",
    "    color=\"Optimization_Category\",\n",
    "    symbol=\"Base_Model_Arch\",\n",
    "    hover_name=\"Experiment_ID\",\n",
    "    hover_data={\n",
    "        \"Top_1_Acc_Percent\": ':.2f}%',\n",
    "        \"Model_Size_MB_Disk\": ':.2f} MB',\n",
    "        \"Inference_Time_ms_CPU\": ':.2f} ms'\n",
    "    },\n",
    "    size_max=60, # Increase max bubble size for better visual impact\n",
    "    title=\"<b>Deployment Profile: Inference Speed vs. Model Size</b><br>(Bubble size represents Accuracy)\",\n",
    "    template=\"plotly_dark\"\n",
    ")\n",
    "\n",
    "speed_size_fig.update_layout(\n",
    "    xaxis_title=\"Model Size on Disk (MB)\",\n",
    "    yaxis_title=\"CPU Inference Time (ms)\",\n",
    "    legend_title=\"Optimization Category\"\n",
    ")\n",
    "speed_size_fig.show()\n",
    "speed_size_fig.write_html(\"speed_vs_size_profile.html\")"
   ]
  },
  {
   "cell_type": "code",
   "execution_count": 11,
   "id": "2b5b41a9",
   "metadata": {},
   "outputs": [
    {
     "data": {
      "application/vnd.plotly.v1+json": {
       "config": {
        "plotlyServerURL": "https://plot.ly"
       },
       "data": [
        {
         "dimensions": [
          {
           "label": "Optimization_Category",
           "values": [
            "Baseline",
            "Baseline",
            "Combined",
            "Combined",
            "Combined",
            "Combined",
            "Knowledge Distillation",
            "Knowledge Distillation",
            "Pruning",
            "Pruning",
            "Pruning",
            "Pruning",
            "Pruning",
            "Pruning",
            "Pruning",
            "Pruning",
            "Pruning",
            "Pruning",
            "Pruning",
            "Pruning",
            "Pruning",
            "Quantization",
            "Quantization",
            "Quantization",
            "Quantization"
           ]
          },
          {
           "label": "Base_Model_Arch",
           "values": [
            "ResNet18",
            "ResNet50",
            "ResNet18",
            "ResNet18",
            "ResNet18",
            "ResNet18",
            "ResNet18",
            "ResNet18",
            "ResNet50",
            "ResNet50",
            "ResNet50",
            "ResNet50",
            "ResNet50",
            "ResNet50",
            "ResNet50",
            "ResNet50",
            "ResNet50",
            "ResNet50",
            "ResNet50",
            "ResNet50",
            "ResNet50",
            "ResNet50",
            "ResNet50",
            "ResNet50",
            "ResNet50"
           ]
          },
          {
           "label": "FLOPs_Category",
           "values": [
            "(0.382, 1.824]",
            "(1.824, 4.134]",
            "(0.382, 1.824]",
            "(-0.001, 0.382]",
            "(-0.001, 0.382]",
            "(-0.001, 0.382]",
            "(0.382, 1.824]",
            "(0.382, 1.824]",
            "(1.824, 4.134]",
            "(1.824, 4.134]",
            "(0.382, 1.824]",
            "(-0.001, 0.382]",
            "(1.824, 4.134]",
            "(0.382, 1.824]",
            "(0.382, 1.824]",
            "(1.824, 4.134]",
            "(1.824, 4.134]",
            "(1.824, 4.134]",
            "(1.824, 4.134]",
            "(1.824, 4.134]",
            "(1.824, 4.134]",
            "(1.824, 4.134]",
            "(-0.001, 0.382]",
            "(-0.001, 0.382]",
            "(-0.001, 0.382]"
           ]
          },
          {
           "label": "Size_Category",
           "values": [
            "(24.937, 44.671]",
            "(97.796, 97.804]",
            "(24.937, 44.671]",
            "(10.211, 24.937]",
            "(10.211, 24.937]",
            "(10.211, 24.937]",
            "(24.937, 44.671]",
            "(24.937, 44.671]",
            "(97.796, 97.804]",
            "(44.671, 97.796]",
            "(24.937, 44.671]",
            "(10.211, 24.937]",
            "(44.671, 97.796]",
            "(10.211, 24.937]",
            "(10.211, 24.937]",
            "(44.671, 97.796]",
            "(44.671, 97.796]",
            "(97.796, 97.804]",
            "(97.796, 97.804]",
            "(97.796, 97.804]",
            "(97.796, 97.804]",
            "(44.671, 97.796]",
            "(24.937, 44.671]",
            "(24.937, 44.671]",
            "(10.211, 24.937]"
           ]
          },
          {
           "label": "Speed_Category",
           "values": [
            "(17.968, 35.383]",
            "(42.465, 88.06]",
            "(35.383, 42.465]",
            "(17.968, 35.383]",
            "(17.968, 35.383]",
            "(17.968, 35.383]",
            "(35.383, 42.465]",
            "(35.383, 42.465]",
            "(88.06, 103.823]",
            "(42.465, 88.06]",
            "(35.383, 42.465]",
            "(17.968, 35.383]",
            "(42.465, 88.06]",
            "(17.968, 35.383]",
            "(17.968, 35.383]",
            "(42.465, 88.06]",
            "(42.465, 88.06]",
            "(88.06, 103.823]",
            "(88.06, 103.823]",
            "(88.06, 103.823]",
            "(88.06, 103.823]",
            "(88.06, 103.823]",
            "(42.465, 88.06]",
            "(35.383, 42.465]",
            "(35.383, 42.465]"
           ]
          }
         ],
         "domain": {
          "x": [
           0,
           1
          ],
          "y": [
           0,
           1
          ]
         },
         "line": {
          "color": {
           "bdata": "ECUYemsLSUDYs1Sa0TxQQJCMUtV510pAt7BkA4RjSUAulWY0D61KQC98C3Apx0pA8ZyZOsrnSkAxHHBOuqMxQAVurlXFEFBAz3dczdf3SECC8ekl+dI9QI4nm2UtJypAOebo1cZjS0CS7woGLxM2QIchSjD01hZAb3AaPZ2DUECIbNYnRvlOQJK93R5dP0dAr8dEVhKdUEAbIBxLWzNPQEmZgQpF6kRAaWWa9i87UEBsEZeXv1hOQEkCDz5zPlBA7o1bx4uWUEA=",
           "dtype": "f8"
          },
          "coloraxis": "coloraxis"
         },
         "name": "",
         "type": "parcats"
        }
       ],
       "layout": {
        "coloraxis": {
         "colorbar": {
          "title": {
           "text": "Top_1_Acc_Percent"
          }
         },
         "colorscale": [
          [
           0,
           "rgb(255,255,229)"
          ],
          [
           0.125,
           "rgb(247,252,185)"
          ],
          [
           0.25,
           "rgb(217,240,163)"
          ],
          [
           0.375,
           "rgb(173,221,142)"
          ],
          [
           0.5,
           "rgb(120,198,121)"
          ],
          [
           0.625,
           "rgb(65,171,93)"
          ],
          [
           0.75,
           "rgb(35,132,67)"
          ],
          [
           0.875,
           "rgb(0,104,55)"
          ],
          [
           1,
           "rgb(0,69,41)"
          ]
         ]
        },
        "legend": {
         "tracegroupgap": 0
        },
        "margin": {
         "b": 100,
         "l": 100,
         "r": 100,
         "t": 100
        },
        "template": {
         "data": {
          "bar": [
           {
            "error_x": {
             "color": "#f2f5fa"
            },
            "error_y": {
             "color": "#f2f5fa"
            },
            "marker": {
             "line": {
              "color": "rgb(17,17,17)",
              "width": 0.5
             },
             "pattern": {
              "fillmode": "overlay",
              "size": 10,
              "solidity": 0.2
             }
            },
            "type": "bar"
           }
          ],
          "barpolar": [
           {
            "marker": {
             "line": {
              "color": "rgb(17,17,17)",
              "width": 0.5
             },
             "pattern": {
              "fillmode": "overlay",
              "size": 10,
              "solidity": 0.2
             }
            },
            "type": "barpolar"
           }
          ],
          "carpet": [
           {
            "aaxis": {
             "endlinecolor": "#A2B1C6",
             "gridcolor": "#506784",
             "linecolor": "#506784",
             "minorgridcolor": "#506784",
             "startlinecolor": "#A2B1C6"
            },
            "baxis": {
             "endlinecolor": "#A2B1C6",
             "gridcolor": "#506784",
             "linecolor": "#506784",
             "minorgridcolor": "#506784",
             "startlinecolor": "#A2B1C6"
            },
            "type": "carpet"
           }
          ],
          "choropleth": [
           {
            "colorbar": {
             "outlinewidth": 0,
             "ticks": ""
            },
            "type": "choropleth"
           }
          ],
          "contour": [
           {
            "colorbar": {
             "outlinewidth": 0,
             "ticks": ""
            },
            "colorscale": [
             [
              0,
              "#0d0887"
             ],
             [
              0.1111111111111111,
              "#46039f"
             ],
             [
              0.2222222222222222,
              "#7201a8"
             ],
             [
              0.3333333333333333,
              "#9c179e"
             ],
             [
              0.4444444444444444,
              "#bd3786"
             ],
             [
              0.5555555555555556,
              "#d8576b"
             ],
             [
              0.6666666666666666,
              "#ed7953"
             ],
             [
              0.7777777777777778,
              "#fb9f3a"
             ],
             [
              0.8888888888888888,
              "#fdca26"
             ],
             [
              1,
              "#f0f921"
             ]
            ],
            "type": "contour"
           }
          ],
          "contourcarpet": [
           {
            "colorbar": {
             "outlinewidth": 0,
             "ticks": ""
            },
            "type": "contourcarpet"
           }
          ],
          "heatmap": [
           {
            "colorbar": {
             "outlinewidth": 0,
             "ticks": ""
            },
            "colorscale": [
             [
              0,
              "#0d0887"
             ],
             [
              0.1111111111111111,
              "#46039f"
             ],
             [
              0.2222222222222222,
              "#7201a8"
             ],
             [
              0.3333333333333333,
              "#9c179e"
             ],
             [
              0.4444444444444444,
              "#bd3786"
             ],
             [
              0.5555555555555556,
              "#d8576b"
             ],
             [
              0.6666666666666666,
              "#ed7953"
             ],
             [
              0.7777777777777778,
              "#fb9f3a"
             ],
             [
              0.8888888888888888,
              "#fdca26"
             ],
             [
              1,
              "#f0f921"
             ]
            ],
            "type": "heatmap"
           }
          ],
          "histogram": [
           {
            "marker": {
             "pattern": {
              "fillmode": "overlay",
              "size": 10,
              "solidity": 0.2
             }
            },
            "type": "histogram"
           }
          ],
          "histogram2d": [
           {
            "colorbar": {
             "outlinewidth": 0,
             "ticks": ""
            },
            "colorscale": [
             [
              0,
              "#0d0887"
             ],
             [
              0.1111111111111111,
              "#46039f"
             ],
             [
              0.2222222222222222,
              "#7201a8"
             ],
             [
              0.3333333333333333,
              "#9c179e"
             ],
             [
              0.4444444444444444,
              "#bd3786"
             ],
             [
              0.5555555555555556,
              "#d8576b"
             ],
             [
              0.6666666666666666,
              "#ed7953"
             ],
             [
              0.7777777777777778,
              "#fb9f3a"
             ],
             [
              0.8888888888888888,
              "#fdca26"
             ],
             [
              1,
              "#f0f921"
             ]
            ],
            "type": "histogram2d"
           }
          ],
          "histogram2dcontour": [
           {
            "colorbar": {
             "outlinewidth": 0,
             "ticks": ""
            },
            "colorscale": [
             [
              0,
              "#0d0887"
             ],
             [
              0.1111111111111111,
              "#46039f"
             ],
             [
              0.2222222222222222,
              "#7201a8"
             ],
             [
              0.3333333333333333,
              "#9c179e"
             ],
             [
              0.4444444444444444,
              "#bd3786"
             ],
             [
              0.5555555555555556,
              "#d8576b"
             ],
             [
              0.6666666666666666,
              "#ed7953"
             ],
             [
              0.7777777777777778,
              "#fb9f3a"
             ],
             [
              0.8888888888888888,
              "#fdca26"
             ],
             [
              1,
              "#f0f921"
             ]
            ],
            "type": "histogram2dcontour"
           }
          ],
          "mesh3d": [
           {
            "colorbar": {
             "outlinewidth": 0,
             "ticks": ""
            },
            "type": "mesh3d"
           }
          ],
          "parcoords": [
           {
            "line": {
             "colorbar": {
              "outlinewidth": 0,
              "ticks": ""
             }
            },
            "type": "parcoords"
           }
          ],
          "pie": [
           {
            "automargin": true,
            "type": "pie"
           }
          ],
          "scatter": [
           {
            "marker": {
             "line": {
              "color": "#283442"
             }
            },
            "type": "scatter"
           }
          ],
          "scatter3d": [
           {
            "line": {
             "colorbar": {
              "outlinewidth": 0,
              "ticks": ""
             }
            },
            "marker": {
             "colorbar": {
              "outlinewidth": 0,
              "ticks": ""
             }
            },
            "type": "scatter3d"
           }
          ],
          "scattercarpet": [
           {
            "marker": {
             "colorbar": {
              "outlinewidth": 0,
              "ticks": ""
             }
            },
            "type": "scattercarpet"
           }
          ],
          "scattergeo": [
           {
            "marker": {
             "colorbar": {
              "outlinewidth": 0,
              "ticks": ""
             }
            },
            "type": "scattergeo"
           }
          ],
          "scattergl": [
           {
            "marker": {
             "line": {
              "color": "#283442"
             }
            },
            "type": "scattergl"
           }
          ],
          "scattermap": [
           {
            "marker": {
             "colorbar": {
              "outlinewidth": 0,
              "ticks": ""
             }
            },
            "type": "scattermap"
           }
          ],
          "scattermapbox": [
           {
            "marker": {
             "colorbar": {
              "outlinewidth": 0,
              "ticks": ""
             }
            },
            "type": "scattermapbox"
           }
          ],
          "scatterpolar": [
           {
            "marker": {
             "colorbar": {
              "outlinewidth": 0,
              "ticks": ""
             }
            },
            "type": "scatterpolar"
           }
          ],
          "scatterpolargl": [
           {
            "marker": {
             "colorbar": {
              "outlinewidth": 0,
              "ticks": ""
             }
            },
            "type": "scatterpolargl"
           }
          ],
          "scatterternary": [
           {
            "marker": {
             "colorbar": {
              "outlinewidth": 0,
              "ticks": ""
             }
            },
            "type": "scatterternary"
           }
          ],
          "surface": [
           {
            "colorbar": {
             "outlinewidth": 0,
             "ticks": ""
            },
            "colorscale": [
             [
              0,
              "#0d0887"
             ],
             [
              0.1111111111111111,
              "#46039f"
             ],
             [
              0.2222222222222222,
              "#7201a8"
             ],
             [
              0.3333333333333333,
              "#9c179e"
             ],
             [
              0.4444444444444444,
              "#bd3786"
             ],
             [
              0.5555555555555556,
              "#d8576b"
             ],
             [
              0.6666666666666666,
              "#ed7953"
             ],
             [
              0.7777777777777778,
              "#fb9f3a"
             ],
             [
              0.8888888888888888,
              "#fdca26"
             ],
             [
              1,
              "#f0f921"
             ]
            ],
            "type": "surface"
           }
          ],
          "table": [
           {
            "cells": {
             "fill": {
              "color": "#506784"
             },
             "line": {
              "color": "rgb(17,17,17)"
             }
            },
            "header": {
             "fill": {
              "color": "#2a3f5f"
             },
             "line": {
              "color": "rgb(17,17,17)"
             }
            },
            "type": "table"
           }
          ]
         },
         "layout": {
          "annotationdefaults": {
           "arrowcolor": "#f2f5fa",
           "arrowhead": 0,
           "arrowwidth": 1
          },
          "autotypenumbers": "strict",
          "coloraxis": {
           "colorbar": {
            "outlinewidth": 0,
            "ticks": ""
           }
          },
          "colorscale": {
           "diverging": [
            [
             0,
             "#8e0152"
            ],
            [
             0.1,
             "#c51b7d"
            ],
            [
             0.2,
             "#de77ae"
            ],
            [
             0.3,
             "#f1b6da"
            ],
            [
             0.4,
             "#fde0ef"
            ],
            [
             0.5,
             "#f7f7f7"
            ],
            [
             0.6,
             "#e6f5d0"
            ],
            [
             0.7,
             "#b8e186"
            ],
            [
             0.8,
             "#7fbc41"
            ],
            [
             0.9,
             "#4d9221"
            ],
            [
             1,
             "#276419"
            ]
           ],
           "sequential": [
            [
             0,
             "#0d0887"
            ],
            [
             0.1111111111111111,
             "#46039f"
            ],
            [
             0.2222222222222222,
             "#7201a8"
            ],
            [
             0.3333333333333333,
             "#9c179e"
            ],
            [
             0.4444444444444444,
             "#bd3786"
            ],
            [
             0.5555555555555556,
             "#d8576b"
            ],
            [
             0.6666666666666666,
             "#ed7953"
            ],
            [
             0.7777777777777778,
             "#fb9f3a"
            ],
            [
             0.8888888888888888,
             "#fdca26"
            ],
            [
             1,
             "#f0f921"
            ]
           ],
           "sequentialminus": [
            [
             0,
             "#0d0887"
            ],
            [
             0.1111111111111111,
             "#46039f"
            ],
            [
             0.2222222222222222,
             "#7201a8"
            ],
            [
             0.3333333333333333,
             "#9c179e"
            ],
            [
             0.4444444444444444,
             "#bd3786"
            ],
            [
             0.5555555555555556,
             "#d8576b"
            ],
            [
             0.6666666666666666,
             "#ed7953"
            ],
            [
             0.7777777777777778,
             "#fb9f3a"
            ],
            [
             0.8888888888888888,
             "#fdca26"
            ],
            [
             1,
             "#f0f921"
            ]
           ]
          },
          "colorway": [
           "#636efa",
           "#EF553B",
           "#00cc96",
           "#ab63fa",
           "#FFA15A",
           "#19d3f3",
           "#FF6692",
           "#B6E880",
           "#FF97FF",
           "#FECB52"
          ],
          "font": {
           "color": "#f2f5fa"
          },
          "geo": {
           "bgcolor": "rgb(17,17,17)",
           "lakecolor": "rgb(17,17,17)",
           "landcolor": "rgb(17,17,17)",
           "showlakes": true,
           "showland": true,
           "subunitcolor": "#506784"
          },
          "hoverlabel": {
           "align": "left"
          },
          "hovermode": "closest",
          "mapbox": {
           "style": "dark"
          },
          "paper_bgcolor": "rgb(17,17,17)",
          "plot_bgcolor": "rgb(17,17,17)",
          "polar": {
           "angularaxis": {
            "gridcolor": "#506784",
            "linecolor": "#506784",
            "ticks": ""
           },
           "bgcolor": "rgb(17,17,17)",
           "radialaxis": {
            "gridcolor": "#506784",
            "linecolor": "#506784",
            "ticks": ""
           }
          },
          "scene": {
           "xaxis": {
            "backgroundcolor": "rgb(17,17,17)",
            "gridcolor": "#506784",
            "gridwidth": 2,
            "linecolor": "#506784",
            "showbackground": true,
            "ticks": "",
            "zerolinecolor": "#C8D4E3"
           },
           "yaxis": {
            "backgroundcolor": "rgb(17,17,17)",
            "gridcolor": "#506784",
            "gridwidth": 2,
            "linecolor": "#506784",
            "showbackground": true,
            "ticks": "",
            "zerolinecolor": "#C8D4E3"
           },
           "zaxis": {
            "backgroundcolor": "rgb(17,17,17)",
            "gridcolor": "#506784",
            "gridwidth": 2,
            "linecolor": "#506784",
            "showbackground": true,
            "ticks": "",
            "zerolinecolor": "#C8D4E3"
           }
          },
          "shapedefaults": {
           "line": {
            "color": "#f2f5fa"
           }
          },
          "sliderdefaults": {
           "bgcolor": "#C8D4E3",
           "bordercolor": "rgb(17,17,17)",
           "borderwidth": 1,
           "tickwidth": 0
          },
          "ternary": {
           "aaxis": {
            "gridcolor": "#506784",
            "linecolor": "#506784",
            "ticks": ""
           },
           "baxis": {
            "gridcolor": "#506784",
            "linecolor": "#506784",
            "ticks": ""
           },
           "bgcolor": "rgb(17,17,17)",
           "caxis": {
            "gridcolor": "#506784",
            "linecolor": "#506784",
            "ticks": ""
           }
          },
          "title": {
           "x": 0.05
          },
          "updatemenudefaults": {
           "bgcolor": "#506784",
           "borderwidth": 0
          },
          "xaxis": {
           "automargin": true,
           "gridcolor": "#283442",
           "linecolor": "#506784",
           "ticks": "",
           "title": {
            "standoff": 15
           },
           "zerolinecolor": "#283442",
           "zerolinewidth": 2
          },
          "yaxis": {
           "automargin": true,
           "gridcolor": "#283442",
           "linecolor": "#506784",
           "ticks": "",
           "title": {
            "standoff": 15
           },
           "zerolinecolor": "#283442",
           "zerolinewidth": 2
          }
         }
        },
        "title": {
         "text": "<b>Relationships Between Theoretical and Practical Costs</b>"
        }
       }
      }
     },
     "metadata": {},
     "output_type": "display_data"
    }
   ],
   "source": [
    "# --- Idea 5: Parallel Categories Diagram (Final Robust Version) ---\n",
    "\n",
    "# Create a copy for this plot\n",
    "para_cat_df = df.dropna(subset=[\n",
    "    'flops_gmacs', 'Model_Size_MB_Disk', 'Inference_Time_ms_CPU'\n",
    "]).copy()\n",
    "\n",
    "# Bin the numerical data and immediately convert the resulting Interval objects to strings\n",
    "para_cat_df['FLOPs_Category'] = pd.qcut(\n",
    "    para_cat_df['flops_gmacs'],\n",
    "    q=4,\n",
    "    duplicates='drop'\n",
    ").astype(str) # <-- FIX: Convert to string\n",
    "\n",
    "para_cat_df['Size_Category'] = pd.qcut(\n",
    "    para_cat_df['Model_Size_MB_Disk'],\n",
    "    q=4,\n",
    "    duplicates='drop'\n",
    ").astype(str) # <-- FIX: Convert to string\n",
    "\n",
    "para_cat_df['Speed_Category'] = pd.qcut(\n",
    "    para_cat_df['Inference_Time_ms_CPU'],\n",
    "    q=4,\n",
    "    duplicates='drop'\n",
    ").astype(str) # <-- FIX: Convert to string\n",
    "\n",
    "# Now, create the plot\n",
    "parallel_cat_fig = px.parallel_categories(\n",
    "    para_cat_df,\n",
    "    dimensions=['Optimization_Category', 'Base_Model_Arch', 'FLOPs_Category', 'Size_Category', 'Speed_Category'],\n",
    "    color=\"Top_1_Acc_Percent\",\n",
    "    color_continuous_scale=px.colors.sequential.YlGn,\n",
    "    title=\"<b>Relationships Between Theoretical and Practical Costs</b>\",\n",
    "    template='plotly_dark'\n",
    ")\n",
    "\n",
    "# Improve label readability for interval-based names\n",
    "parallel_cat_fig.update_layout(\n",
    "    margin=dict(l=100, r=100, t=100, b=100)\n",
    ")\n",
    "\n",
    "parallel_cat_fig.show()\n",
    "parallel_cat_fig.write_html(\"cost_relationships_parallel_categories.html\")"
   ]
  },
  {
   "cell_type": "code",
   "execution_count": 7,
   "id": "d6203013",
   "metadata": {},
   "outputs": [
    {
     "data": {
      "application/vnd.plotly.v1+json": {
       "config": {
        "plotlyServerURL": "https://plot.ly"
       },
       "data": [
        {
         "customdata": {
          "bdata": "AAAAAAAAFEBvcBo9nYNQQAAAAAAAABRAz3dczdf3SEAAAAAAAAAkQILx6SX50j1AAAAAAAAAJECIbNYnRvlOQAAAAAAAAC5AhyFKMPTWFkAAAAAAAAAuQI4nm2UtJypAAAAAAAAALkCS7woGLxM2QAAAAAAAAC5AGyAcS1szT0AAAAAAAAAuQEmZgQpF6kRAAAAAAAAALkA55ujVxmNLQAAAAAAAAC5Ar8dEVhKdUEAAAAAAAAAuQJK93R5dP0dAAAAAAAAALkAFbq5VxRBQQA==",
          "dtype": "f8",
          "shape": "13, 2"
         },
         "hovertemplate": "Optimization_Category=Pruning<br>Experiment=%{x}<br>Fine-Tuning Time (Minutes)=%{y}<br>FT_Epochs_Run=%{customdata[0]}<br>Top_1_Acc_Percent=%{customdata[1]}<extra></extra>",
         "legendgroup": "Pruning",
         "marker": {
          "color": "#636efa",
          "pattern": {
           "shape": ""
          }
         },
         "name": "Pruning",
         "orientation": "v",
         "showlegend": true,
         "textposition": "auto",
         "type": "bar",
         "x": [
          "resnet50_prune_unstruct_it_l1_stage1_sp50_ft",
          "resnet50_prune_struct_it_l1filter_stage1_approx_sp50_ft",
          "resnet50_prune_struct_it_l1filter_stage2_approx_sp75_ft",
          "resnet50_prune_unstruct_it_l1_stage2_sp75_ft",
          "resnet50_prune_struct_os_l1filter_fp70_ft",
          "resnet50_prune_struct_it_l1filter_stage3_approx_sp90_ft",
          "resnet50_prune_struct_os_l1filter_fp55_ft",
          "resnet50_prune_unstruct_os_l1_sp75_ft",
          "resnet50_prune_unstruct_os_l1_sp90_ft",
          "resnet50_prune_struct_os_l1filter_fp30_ft",
          "resnet50_prune_unstruct_os_l1_sp50_ft",
          "resnet50_prune_unstruct_it_l1_stage3_sp90_ft",
          "resnet50_prune_nm24_ft"
         ],
         "xaxis": "x",
         "y": {
          "bdata": "5qp5jsgrJkAGJ6JfW4MmQJ+qQgOxBjFAgW3XXh5JNkD2311BrXA2QFHPlRsfpDZAS+za3m6JOEDPaoE9JjZAQFozH/0ctEBA4inRf/zrQEDiX/HBWGFBQDqEF2o6cUFACWFbLDJuSUA=",
          "dtype": "f8"
         },
         "yaxis": "y"
        },
        {
         "customdata": {
          "bdata": "AAAAAAAAIEAvfAtwKcdKQA==",
          "dtype": "f8",
          "shape": "1, 2"
         },
         "hovertemplate": "Optimization_Category=Combined<br>Experiment=%{x}<br>Fine-Tuning Time (Minutes)=%{y}<br>FT_Epochs_Run=%{customdata[0]}<br>Top_1_Acc_Percent=%{customdata[1]}<extra></extra>",
         "legendgroup": "Combined",
         "marker": {
          "color": "#EF553B",
          "pattern": {
           "shape": ""
          }
         },
         "name": "Combined",
         "orientation": "v",
         "showlegend": true,
         "textposition": "auto",
         "type": "bar",
         "x": [
          "resnet18pretrained_distilled_quant_qat_int8_epochs8"
         ],
         "xaxis": "x",
         "y": {
          "bdata": "JqYLsfpBM0A=",
          "dtype": "f8"
         },
         "yaxis": "y"
        },
        {
         "customdata": {
          "bdata": "AAAAAAAALkAQJRh6awtJQAAAAAAAAD5A2LNUmtE8UEA=",
          "dtype": "f8",
          "shape": "2, 2"
         },
         "hovertemplate": "Optimization_Category=Baseline<br>Experiment=%{x}<br>Fine-Tuning Time (Minutes)=%{y}<br>FT_Epochs_Run=%{customdata[0]}<br>Top_1_Acc_Percent=%{customdata[1]}<extra></extra>",
         "legendgroup": "Baseline",
         "marker": {
          "color": "#00cc96",
          "pattern": {
           "shape": ""
          }
         },
         "name": "Baseline",
         "orientation": "v",
         "showlegend": true,
         "textposition": "auto",
         "type": "bar",
         "x": [
          "resnet18_baseline",
          "resnet50_baseline"
         ],
         "xaxis": "x",
         "y": {
          "bdata": "mrfqOlRxN0BzY3rCEntWQA==",
          "dtype": "f8"
         },
         "yaxis": "y"
        },
        {
         "customdata": {
          "bdata": "AAAAAAAALkAxHHBOuqMxQAAAAAAAAC5A8ZyZOsrnSkA=",
          "dtype": "f8",
          "shape": "2, 2"
         },
         "hovertemplate": "Optimization_Category=Knowledge Distillation<br>Experiment=%{x}<br>Fine-Tuning Time (Minutes)=%{y}<br>FT_Epochs_Run=%{customdata[0]}<br>Top_1_Acc_Percent=%{customdata[1]}<extra></extra>",
         "legendgroup": "Knowledge Distillation",
         "marker": {
          "color": "#ab63fa",
          "pattern": {
           "shape": ""
          }
         },
         "name": "Knowledge Distillation",
         "orientation": "v",
         "showlegend": true,
         "textposition": "auto",
         "type": "bar",
         "x": [
          "resnet50_to_resnet18scratch_kd",
          "resnet50_to_resnet18pretrained_kd"
         ],
         "xaxis": "x",
         "y": {
          "bdata": "rhVawzK0QEAyh7fhijtBQA==",
          "dtype": "f8"
         },
         "yaxis": "y"
        },
        {
         "customdata": {
          "bdata": "AAAAAAAAIEDujVvHi5ZQQA==",
          "dtype": "f8",
          "shape": "1, 2"
         },
         "hovertemplate": "Optimization_Category=Quantization<br>Experiment=%{x}<br>Fine-Tuning Time (Minutes)=%{y}<br>FT_Epochs_Run=%{customdata[0]}<br>Top_1_Acc_Percent=%{customdata[1]}<extra></extra>",
         "legendgroup": "Quantization",
         "marker": {
          "color": "#FFA15A",
          "pattern": {
           "shape": ""
          }
         },
         "name": "Quantization",
         "orientation": "v",
         "showlegend": true,
         "textposition": "auto",
         "type": "bar",
         "x": [
          "resnet50_quant_qat_int8_epochs8"
         ],
         "xaxis": "x",
         "y": {
          "bdata": "Y2ujJ1JxQ0A=",
          "dtype": "f8"
         },
         "yaxis": "y"
        }
       ],
       "layout": {
        "barmode": "relative",
        "legend": {
         "title": {
          "text": "Optimization_Category"
         },
         "tracegroupgap": 0
        },
        "template": {
         "data": {
          "bar": [
           {
            "error_x": {
             "color": "#f2f5fa"
            },
            "error_y": {
             "color": "#f2f5fa"
            },
            "marker": {
             "line": {
              "color": "rgb(17,17,17)",
              "width": 0.5
             },
             "pattern": {
              "fillmode": "overlay",
              "size": 10,
              "solidity": 0.2
             }
            },
            "type": "bar"
           }
          ],
          "barpolar": [
           {
            "marker": {
             "line": {
              "color": "rgb(17,17,17)",
              "width": 0.5
             },
             "pattern": {
              "fillmode": "overlay",
              "size": 10,
              "solidity": 0.2
             }
            },
            "type": "barpolar"
           }
          ],
          "carpet": [
           {
            "aaxis": {
             "endlinecolor": "#A2B1C6",
             "gridcolor": "#506784",
             "linecolor": "#506784",
             "minorgridcolor": "#506784",
             "startlinecolor": "#A2B1C6"
            },
            "baxis": {
             "endlinecolor": "#A2B1C6",
             "gridcolor": "#506784",
             "linecolor": "#506784",
             "minorgridcolor": "#506784",
             "startlinecolor": "#A2B1C6"
            },
            "type": "carpet"
           }
          ],
          "choropleth": [
           {
            "colorbar": {
             "outlinewidth": 0,
             "ticks": ""
            },
            "type": "choropleth"
           }
          ],
          "contour": [
           {
            "colorbar": {
             "outlinewidth": 0,
             "ticks": ""
            },
            "colorscale": [
             [
              0,
              "#0d0887"
             ],
             [
              0.1111111111111111,
              "#46039f"
             ],
             [
              0.2222222222222222,
              "#7201a8"
             ],
             [
              0.3333333333333333,
              "#9c179e"
             ],
             [
              0.4444444444444444,
              "#bd3786"
             ],
             [
              0.5555555555555556,
              "#d8576b"
             ],
             [
              0.6666666666666666,
              "#ed7953"
             ],
             [
              0.7777777777777778,
              "#fb9f3a"
             ],
             [
              0.8888888888888888,
              "#fdca26"
             ],
             [
              1,
              "#f0f921"
             ]
            ],
            "type": "contour"
           }
          ],
          "contourcarpet": [
           {
            "colorbar": {
             "outlinewidth": 0,
             "ticks": ""
            },
            "type": "contourcarpet"
           }
          ],
          "heatmap": [
           {
            "colorbar": {
             "outlinewidth": 0,
             "ticks": ""
            },
            "colorscale": [
             [
              0,
              "#0d0887"
             ],
             [
              0.1111111111111111,
              "#46039f"
             ],
             [
              0.2222222222222222,
              "#7201a8"
             ],
             [
              0.3333333333333333,
              "#9c179e"
             ],
             [
              0.4444444444444444,
              "#bd3786"
             ],
             [
              0.5555555555555556,
              "#d8576b"
             ],
             [
              0.6666666666666666,
              "#ed7953"
             ],
             [
              0.7777777777777778,
              "#fb9f3a"
             ],
             [
              0.8888888888888888,
              "#fdca26"
             ],
             [
              1,
              "#f0f921"
             ]
            ],
            "type": "heatmap"
           }
          ],
          "histogram": [
           {
            "marker": {
             "pattern": {
              "fillmode": "overlay",
              "size": 10,
              "solidity": 0.2
             }
            },
            "type": "histogram"
           }
          ],
          "histogram2d": [
           {
            "colorbar": {
             "outlinewidth": 0,
             "ticks": ""
            },
            "colorscale": [
             [
              0,
              "#0d0887"
             ],
             [
              0.1111111111111111,
              "#46039f"
             ],
             [
              0.2222222222222222,
              "#7201a8"
             ],
             [
              0.3333333333333333,
              "#9c179e"
             ],
             [
              0.4444444444444444,
              "#bd3786"
             ],
             [
              0.5555555555555556,
              "#d8576b"
             ],
             [
              0.6666666666666666,
              "#ed7953"
             ],
             [
              0.7777777777777778,
              "#fb9f3a"
             ],
             [
              0.8888888888888888,
              "#fdca26"
             ],
             [
              1,
              "#f0f921"
             ]
            ],
            "type": "histogram2d"
           }
          ],
          "histogram2dcontour": [
           {
            "colorbar": {
             "outlinewidth": 0,
             "ticks": ""
            },
            "colorscale": [
             [
              0,
              "#0d0887"
             ],
             [
              0.1111111111111111,
              "#46039f"
             ],
             [
              0.2222222222222222,
              "#7201a8"
             ],
             [
              0.3333333333333333,
              "#9c179e"
             ],
             [
              0.4444444444444444,
              "#bd3786"
             ],
             [
              0.5555555555555556,
              "#d8576b"
             ],
             [
              0.6666666666666666,
              "#ed7953"
             ],
             [
              0.7777777777777778,
              "#fb9f3a"
             ],
             [
              0.8888888888888888,
              "#fdca26"
             ],
             [
              1,
              "#f0f921"
             ]
            ],
            "type": "histogram2dcontour"
           }
          ],
          "mesh3d": [
           {
            "colorbar": {
             "outlinewidth": 0,
             "ticks": ""
            },
            "type": "mesh3d"
           }
          ],
          "parcoords": [
           {
            "line": {
             "colorbar": {
              "outlinewidth": 0,
              "ticks": ""
             }
            },
            "type": "parcoords"
           }
          ],
          "pie": [
           {
            "automargin": true,
            "type": "pie"
           }
          ],
          "scatter": [
           {
            "marker": {
             "line": {
              "color": "#283442"
             }
            },
            "type": "scatter"
           }
          ],
          "scatter3d": [
           {
            "line": {
             "colorbar": {
              "outlinewidth": 0,
              "ticks": ""
             }
            },
            "marker": {
             "colorbar": {
              "outlinewidth": 0,
              "ticks": ""
             }
            },
            "type": "scatter3d"
           }
          ],
          "scattercarpet": [
           {
            "marker": {
             "colorbar": {
              "outlinewidth": 0,
              "ticks": ""
             }
            },
            "type": "scattercarpet"
           }
          ],
          "scattergeo": [
           {
            "marker": {
             "colorbar": {
              "outlinewidth": 0,
              "ticks": ""
             }
            },
            "type": "scattergeo"
           }
          ],
          "scattergl": [
           {
            "marker": {
             "line": {
              "color": "#283442"
             }
            },
            "type": "scattergl"
           }
          ],
          "scattermap": [
           {
            "marker": {
             "colorbar": {
              "outlinewidth": 0,
              "ticks": ""
             }
            },
            "type": "scattermap"
           }
          ],
          "scattermapbox": [
           {
            "marker": {
             "colorbar": {
              "outlinewidth": 0,
              "ticks": ""
             }
            },
            "type": "scattermapbox"
           }
          ],
          "scatterpolar": [
           {
            "marker": {
             "colorbar": {
              "outlinewidth": 0,
              "ticks": ""
             }
            },
            "type": "scatterpolar"
           }
          ],
          "scatterpolargl": [
           {
            "marker": {
             "colorbar": {
              "outlinewidth": 0,
              "ticks": ""
             }
            },
            "type": "scatterpolargl"
           }
          ],
          "scatterternary": [
           {
            "marker": {
             "colorbar": {
              "outlinewidth": 0,
              "ticks": ""
             }
            },
            "type": "scatterternary"
           }
          ],
          "surface": [
           {
            "colorbar": {
             "outlinewidth": 0,
             "ticks": ""
            },
            "colorscale": [
             [
              0,
              "#0d0887"
             ],
             [
              0.1111111111111111,
              "#46039f"
             ],
             [
              0.2222222222222222,
              "#7201a8"
             ],
             [
              0.3333333333333333,
              "#9c179e"
             ],
             [
              0.4444444444444444,
              "#bd3786"
             ],
             [
              0.5555555555555556,
              "#d8576b"
             ],
             [
              0.6666666666666666,
              "#ed7953"
             ],
             [
              0.7777777777777778,
              "#fb9f3a"
             ],
             [
              0.8888888888888888,
              "#fdca26"
             ],
             [
              1,
              "#f0f921"
             ]
            ],
            "type": "surface"
           }
          ],
          "table": [
           {
            "cells": {
             "fill": {
              "color": "#506784"
             },
             "line": {
              "color": "rgb(17,17,17)"
             }
            },
            "header": {
             "fill": {
              "color": "#2a3f5f"
             },
             "line": {
              "color": "rgb(17,17,17)"
             }
            },
            "type": "table"
           }
          ]
         },
         "layout": {
          "annotationdefaults": {
           "arrowcolor": "#f2f5fa",
           "arrowhead": 0,
           "arrowwidth": 1
          },
          "autotypenumbers": "strict",
          "coloraxis": {
           "colorbar": {
            "outlinewidth": 0,
            "ticks": ""
           }
          },
          "colorscale": {
           "diverging": [
            [
             0,
             "#8e0152"
            ],
            [
             0.1,
             "#c51b7d"
            ],
            [
             0.2,
             "#de77ae"
            ],
            [
             0.3,
             "#f1b6da"
            ],
            [
             0.4,
             "#fde0ef"
            ],
            [
             0.5,
             "#f7f7f7"
            ],
            [
             0.6,
             "#e6f5d0"
            ],
            [
             0.7,
             "#b8e186"
            ],
            [
             0.8,
             "#7fbc41"
            ],
            [
             0.9,
             "#4d9221"
            ],
            [
             1,
             "#276419"
            ]
           ],
           "sequential": [
            [
             0,
             "#0d0887"
            ],
            [
             0.1111111111111111,
             "#46039f"
            ],
            [
             0.2222222222222222,
             "#7201a8"
            ],
            [
             0.3333333333333333,
             "#9c179e"
            ],
            [
             0.4444444444444444,
             "#bd3786"
            ],
            [
             0.5555555555555556,
             "#d8576b"
            ],
            [
             0.6666666666666666,
             "#ed7953"
            ],
            [
             0.7777777777777778,
             "#fb9f3a"
            ],
            [
             0.8888888888888888,
             "#fdca26"
            ],
            [
             1,
             "#f0f921"
            ]
           ],
           "sequentialminus": [
            [
             0,
             "#0d0887"
            ],
            [
             0.1111111111111111,
             "#46039f"
            ],
            [
             0.2222222222222222,
             "#7201a8"
            ],
            [
             0.3333333333333333,
             "#9c179e"
            ],
            [
             0.4444444444444444,
             "#bd3786"
            ],
            [
             0.5555555555555556,
             "#d8576b"
            ],
            [
             0.6666666666666666,
             "#ed7953"
            ],
            [
             0.7777777777777778,
             "#fb9f3a"
            ],
            [
             0.8888888888888888,
             "#fdca26"
            ],
            [
             1,
             "#f0f921"
            ]
           ]
          },
          "colorway": [
           "#636efa",
           "#EF553B",
           "#00cc96",
           "#ab63fa",
           "#FFA15A",
           "#19d3f3",
           "#FF6692",
           "#B6E880",
           "#FF97FF",
           "#FECB52"
          ],
          "font": {
           "color": "#f2f5fa"
          },
          "geo": {
           "bgcolor": "rgb(17,17,17)",
           "lakecolor": "rgb(17,17,17)",
           "landcolor": "rgb(17,17,17)",
           "showlakes": true,
           "showland": true,
           "subunitcolor": "#506784"
          },
          "hoverlabel": {
           "align": "left"
          },
          "hovermode": "closest",
          "mapbox": {
           "style": "dark"
          },
          "paper_bgcolor": "rgb(17,17,17)",
          "plot_bgcolor": "rgb(17,17,17)",
          "polar": {
           "angularaxis": {
            "gridcolor": "#506784",
            "linecolor": "#506784",
            "ticks": ""
           },
           "bgcolor": "rgb(17,17,17)",
           "radialaxis": {
            "gridcolor": "#506784",
            "linecolor": "#506784",
            "ticks": ""
           }
          },
          "scene": {
           "xaxis": {
            "backgroundcolor": "rgb(17,17,17)",
            "gridcolor": "#506784",
            "gridwidth": 2,
            "linecolor": "#506784",
            "showbackground": true,
            "ticks": "",
            "zerolinecolor": "#C8D4E3"
           },
           "yaxis": {
            "backgroundcolor": "rgb(17,17,17)",
            "gridcolor": "#506784",
            "gridwidth": 2,
            "linecolor": "#506784",
            "showbackground": true,
            "ticks": "",
            "zerolinecolor": "#C8D4E3"
           },
           "zaxis": {
            "backgroundcolor": "rgb(17,17,17)",
            "gridcolor": "#506784",
            "gridwidth": 2,
            "linecolor": "#506784",
            "showbackground": true,
            "ticks": "",
            "zerolinecolor": "#C8D4E3"
           }
          },
          "shapedefaults": {
           "line": {
            "color": "#f2f5fa"
           }
          },
          "sliderdefaults": {
           "bgcolor": "#C8D4E3",
           "bordercolor": "rgb(17,17,17)",
           "borderwidth": 1,
           "tickwidth": 0
          },
          "ternary": {
           "aaxis": {
            "gridcolor": "#506784",
            "linecolor": "#506784",
            "ticks": ""
           },
           "baxis": {
            "gridcolor": "#506784",
            "linecolor": "#506784",
            "ticks": ""
           },
           "bgcolor": "rgb(17,17,17)",
           "caxis": {
            "gridcolor": "#506784",
            "linecolor": "#506784",
            "ticks": ""
           }
          },
          "title": {
           "x": 0.05
          },
          "updatemenudefaults": {
           "bgcolor": "#506784",
           "borderwidth": 0
          },
          "xaxis": {
           "automargin": true,
           "gridcolor": "#283442",
           "linecolor": "#506784",
           "ticks": "",
           "title": {
            "standoff": 15
           },
           "zerolinecolor": "#283442",
           "zerolinewidth": 2
          },
          "yaxis": {
           "automargin": true,
           "gridcolor": "#283442",
           "linecolor": "#506784",
           "ticks": "",
           "title": {
            "standoff": 15
           },
           "zerolinecolor": "#283442",
           "zerolinewidth": 2
          }
         }
        },
        "title": {
         "text": "<b>Fine-Tuning Time Overhead for Optimization Techniques</b>"
        },
        "xaxis": {
         "anchor": "y",
         "domain": [
          0,
          1
         ],
         "tickangle": 45,
         "title": {
          "text": "Experiment"
         }
        },
        "yaxis": {
         "anchor": "x",
         "domain": [
          0,
          1
         ],
         "title": {
          "text": "Fine-Tuning Time (Minutes)"
         }
        }
       }
      }
     },
     "metadata": {},
     "output_type": "display_data"
    }
   ],
   "source": [
    "# --- Idea 6: Training Cost Bar Chart ---\n",
    "\n",
    "# Filter for experiments that actually had a fine-tuning step\n",
    "training_cost_df = df[df['FT_Time_seconds'] > 0].copy()\n",
    "\n",
    "# Convert seconds to minutes for better readability\n",
    "training_cost_df['FT_Time_minutes'] = training_cost_df['FT_Time_seconds'] / 60\n",
    "\n",
    "bar_fig = px.bar(\n",
    "    training_cost_df.sort_values('FT_Time_minutes'),\n",
    "    x=\"Experiment_ID\",\n",
    "    y=\"FT_Time_minutes\",\n",
    "    color=\"Optimization_Category\",\n",
    "    title=\"<b>Fine-Tuning Time Overhead for Optimization Techniques</b>\",\n",
    "    labels={'FT_Time_minutes': 'Fine-Tuning Time (Minutes)', 'Experiment_ID': 'Experiment'},\n",
    "    template='plotly_dark',\n",
    "    hover_data=['FT_Epochs_Run', 'Top_1_Acc_Percent']\n",
    ")\n",
    "bar_fig.update_xaxes(tickangle=45) # Angle the x-axis labels to prevent overlap\n",
    "bar_fig.show()\n",
    "bar_fig.write_html(\"training_cost_barchart.html\")"
   ]
  }
 ],
 "metadata": {
  "kernelspec": {
   "display_name": ".conda",
   "language": "python",
   "name": "python3"
  },
  "language_info": {
   "codemirror_mode": {
    "name": "ipython",
    "version": 3
   },
   "file_extension": ".py",
   "mimetype": "text/x-python",
   "name": "python",
   "nbconvert_exporter": "python",
   "pygments_lexer": "ipython3",
   "version": "3.8.20"
  }
 },
 "nbformat": 4,
 "nbformat_minor": 5
}
